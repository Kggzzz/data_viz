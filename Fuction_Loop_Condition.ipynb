{
  "nbformat": 4,
  "nbformat_minor": 0,
  "metadata": {
    "colab": {
      "name": "Fuction_Loop_001ipynb",
      "provenance": [],
      "authorship_tag": "ABX9TyOb4wBmZK0c2IWJ0zydWZuk",
      "include_colab_link": true
    },
    "kernelspec": {
      "name": "python3",
      "display_name": "Python 3"
    }
  },
  "cells": [
    {
      "cell_type": "markdown",
      "metadata": {
        "id": "view-in-github",
        "colab_type": "text"
      },
      "source": [
        "<a href=\"https://colab.research.google.com/github/Kggzzz/data_viz/blob/main/Fuction_Loop_Condition.ipynb\" target=\"_parent\"><img src=\"https://colab.research.google.com/assets/colab-badge.svg\" alt=\"Open In Colab\"/></a>"
      ]
    },
    {
      "cell_type": "markdown",
      "metadata": {
        "id": "MXeHfnMr3Dcj"
      },
      "source": [
        "###Function \r\n",
        "\r\n",
        "ทำหน้าที่รับ input มาประมวลผลออกเป็น output \r\n",
        "\r\n",
        "f(x) = y "
      ]
    },
    {
      "cell_type": "code",
      "metadata": {
        "id": "cAxKtBQz3FPQ",
        "outputId": "2b07b842-65c3-4dbb-b17b-1efa0c862388",
        "colab": {
          "base_uri": "https://localhost:8080/"
        }
      },
      "source": [
        "name = 'รัฐพร'\r\n",
        "surname = 'รัฐพร'\r\n",
        "ID = '613021020-4'\r\n",
        "\r\n",
        "b = f'=ชื่อ {name} นามสกุล {surname} รหัส {ID}'\r\n",
        "print(b)"
      ],
      "execution_count": 1,
      "outputs": [
        {
          "output_type": "stream",
          "text": [
            "=ชื่อ รัฐพร นามสกุล รัฐพร รหัส 613021020-4\n"
          ],
          "name": "stdout"
        }
      ]
    },
    {
      "cell_type": "markdown",
      "metadata": {
        "id": "fRwJFjFg3EvY"
      },
      "source": [
        "def คือ การกำหนดฟังค์ชัน"
      ]
    },
    {
      "cell_type": "code",
      "metadata": {
        "id": "HCnMUE_R3HyA",
        "outputId": "58f15877-3c58-4cc8-c400-a0e462370cbe",
        "colab": {
          "base_uri": "https://localhost:8080/",
          "height": 132
        }
      },
      "source": [
        "``` Python\r\n",
        "      def function_name(_Input_) :#นำข้อมูลเข้ามา \r\n",
        "          do_someting with _Input_ to get _Output_ #เขียนโค้ดคำสั่งทำอะไรสักอย่างกับข้อมูลที่นำเข้า\r\n",
        "          return _Output_ #นำข้อมูลที่ได้ออก \r\n",
        "```"
      ],
      "execution_count": 13,
      "outputs": [
        {
          "output_type": "error",
          "ename": "SyntaxError",
          "evalue": "ignored",
          "traceback": [
            "\u001b[0;36m  File \u001b[0;32m\"<ipython-input-13-3a2045ba3579>\"\u001b[0;36m, line \u001b[0;32m1\u001b[0m\n\u001b[0;31m    ``` Python\u001b[0m\n\u001b[0m    ^\u001b[0m\n\u001b[0;31mSyntaxError\u001b[0m\u001b[0;31m:\u001b[0m invalid syntax\n"
          ]
        }
      ]
    },
    {
      "cell_type": "markdown",
      "metadata": {
        "id": "fd1c_2O-3K_h"
      },
      "source": [
        "backtick(`) ==> กดค้าง , alt - 9>6 ,(full keyboard)\r\n",
        "\r\n",
        "tilde(~)\r\n",
        "\r\n",
        "curly bracket ({})\r\n",
        "\r\n",
        "square bracket ([])"
      ]
    },
    {
      "cell_type": "markdown",
      "metadata": {
        "id": "1QEYzREd3NYo"
      },
      "source": [
        "ตัวอย่างการเขียน normal function"
      ]
    },
    {
      "cell_type": "code",
      "metadata": {
        "id": "t36lNvQM3JbJ"
      },
      "source": [
        "def print_name(surname,ID,name) : \r\n",
        "    st = f'ชื่อ {name} นามสกุล {surname} รหัส {ID}'\r\n",
        "    return st"
      ],
      "execution_count": 3,
      "outputs": []
    },
    {
      "cell_type": "markdown",
      "metadata": {
        "id": "sPnDCuXB3QuT"
      },
      "source": [
        "fuction มีส่วนสำคัญทั้งหมด 4 ส่วน\r\n",
        "\r\n",
        "1. บอก python ว่าเราจะเขียนฟังค์ชัน ชื่ออะไร def_fuction "
      ]
    },
    {
      "cell_type": "code",
      "metadata": {
        "id": "PAk-TEWx3RWY",
        "outputId": "8b34bd4d-e2e6-4cf1-80e7-04dba53bcf1a",
        "colab": {
          "base_uri": "https://localhost:8080/",
          "height": 34
        }
      },
      "source": [
        "print_name('ลีนาราชรุ่งเรือง','613021020-4','รัฐพร')"
      ],
      "execution_count": 4,
      "outputs": [
        {
          "output_type": "execute_result",
          "data": {
            "application/vnd.google.colaboratory.intrinsic+json": {
              "type": "string"
            },
            "text/plain": [
              "'ชื่อ รัฐพร นามสกุล ลีนาราชรุ่งเรือง รหัส 613021020-4'"
            ]
          },
          "metadata": {
            "tags": []
          },
          "execution_count": 4
        }
      ]
    },
    {
      "cell_type": "code",
      "metadata": {
        "id": "cUuzGn5J3U2A",
        "outputId": "60b2c557-3974-4948-e18a-b12310a499ed",
        "colab": {
          "base_uri": "https://localhost:8080/"
        }
      },
      "source": [
        "print(print_name(name='รัฐพร',surname='ลี',ID='613021020-4'))"
      ],
      "execution_count": 5,
      "outputs": [
        {
          "output_type": "stream",
          "text": [
            "ชื่อ รัฐพร นามสกุล ลี รหัส 613021020-4\n"
          ],
          "name": "stdout"
        }
      ]
    },
    {
      "cell_type": "markdown",
      "metadata": {
        "id": "8yCdY1y33X2Y"
      },
      "source": [
        "เราใช้เว้นวรรค (indent) เพื่อบอกขอบเขตของโปรแกรม"
      ]
    },
    {
      "cell_type": "code",
      "metadata": {
        "id": "aeIcY4AGVR7z"
      },
      "source": [
        "def print_name2(name,surname,ID) : \r\n",
        "    st = f'ชื่อ {name} นามสกุล {surname} รหัส {ID} ' \r\n",
        "    print(st) #ไม่ต้องส่งค่า output แล้ว ให้ print เลย"
      ],
      "execution_count": 6,
      "outputs": []
    },
    {
      "cell_type": "markdown",
      "metadata": {
        "id": "64LPL9NZ3YV5"
      },
      "source": [
        "ฟังค์ชันไม่จำเป็นต้องมี Output"
      ]
    },
    {
      "cell_type": "code",
      "metadata": {
        "id": "ViQ9uQ8T3WNp",
        "outputId": "fd69f7c7-cafe-42a7-e5c4-e5e08e1ea717",
        "colab": {
          "base_uri": "https://localhost:8080/"
        }
      },
      "source": [
        "print_name2(name='รัฐพร', surname='ลี', ID='613021020-4')"
      ],
      "execution_count": 7,
      "outputs": [
        {
          "output_type": "stream",
          "text": [
            "ชื่อ รัฐพร นามสกุล ลี รหัส 613021020-4 \n"
          ],
          "name": "stdout"
        }
      ]
    },
    {
      "cell_type": "markdown",
      "metadata": {
        "id": "8FM3oloN3aH4"
      },
      "source": [
        "ฟังค์ชันไม่จำเป็นต้องมี Input"
      ]
    },
    {
      "cell_type": "code",
      "metadata": {
        "id": "QMiMjhH_3bj1"
      },
      "source": [
        "def Pi() : \r\n",
        "    return 3.14159265359\r\n",
        "    # เป็นฟังก์ชันที่ไม่มี input แต่จะ return ค่าที่เรากำหนด ค่าอะไรก็ได้ออกมาอย่างดียว เช่น Pi"
      ],
      "execution_count": 8,
      "outputs": []
    },
    {
      "cell_type": "code",
      "metadata": {
        "id": "_cd3WjUD3cz8",
        "outputId": "1deeef75-cde7-4fe5-faa1-d77859745491",
        "colab": {
          "base_uri": "https://localhost:8080/"
        }
      },
      "source": [
        "Pi()*(2**2) # หาพื้นที่วงกลมที่มีรัศมีเท่ากับ Pi * r**2"
      ],
      "execution_count": 9,
      "outputs": [
        {
          "output_type": "execute_result",
          "data": {
            "text/plain": [
              "12.56637061436"
            ]
          },
          "metadata": {
            "tags": []
          },
          "execution_count": 9
        }
      ]
    },
    {
      "cell_type": "markdown",
      "metadata": {
        "id": "45PCO9Sb3fjU"
      },
      "source": [
        "เราสามารถกำหนดค่า default ให้กับฟังค์ชั่นได้"
      ]
    },
    {
      "cell_type": "code",
      "metadata": {
        "id": "eLIhNmsO3hwD"
      },
      "source": [
        "def print_2lines_default(name,surname,ID,grade='F') :\r\n",
        "    st1 = f'ชื่อ {name} นามสกุล {surname} รหัส {ID}'\r\n",
        "    print(st1)\r\n",
        "    st2 = f'เกรดวิชา Data viz >>> {grade}'\r\n",
        "    print(st2)"
      ],
      "execution_count": 10,
      "outputs": []
    },
    {
      "cell_type": "code",
      "metadata": {
        "id": "1543FVVW3jki",
        "outputId": "e2c33bdb-67cb-4c03-a964-d07500f18557",
        "colab": {
          "base_uri": "https://localhost:8080/"
        }
      },
      "source": [
        "print_2lines_default('รัฐพร','ลีนาราช','613021020-4')"
      ],
      "execution_count": 11,
      "outputs": [
        {
          "output_type": "stream",
          "text": [
            "ชื่อ รัฐพร นามสกุล ลีนาราช รหัส 613021020-4\n",
            "เกรดวิชา Data viz >>> F\n"
          ],
          "name": "stdout"
        }
      ]
    },
    {
      "cell_type": "markdown",
      "metadata": {
        "id": "G4D-YlxwVzPU"
      },
      "source": [
        "# Loop การวนซ้ำ\r\n",
        "\r\n",
        "for เป้นคำสั่งที่ใช้บอก python ว่าเรากำลังเขียน loop\r\n",
        "\r\n",
        "โดย for จะวนดึงสมาชิกจาก ' listA ' มาทำ process ' do_something '"
      ]
    },
    {
      "cell_type": "markdown",
      "metadata": {
        "id": "tZ4OLXzaWMKk"
      },
      "source": [
        "#### คำสั่ง for เป็นคำสั่งวนซ้ำที่ใช้ควบคุมการทำงานซ้ำๆ ในจำนวนรอบที่แน่นอน"
      ]
    },
    {
      "cell_type": "code",
      "metadata": {
        "id": "D2FwZ3CQVzCu",
        "outputId": "b97fc53b-b03f-4b26-9bda-48e6d6e0e4bc",
        "colab": {
          "base_uri": "https://localhost:8080/"
        }
      },
      "source": [
        "for i in [1,2,3] :\r\n",
        "    o = i**2\r\n",
        "    print (f'this member = {i} after process = {o}')"
      ],
      "execution_count": 12,
      "outputs": [
        {
          "output_type": "stream",
          "text": [
            "this member = 1 after process = 1\n",
            "this member = 2 after process = 4\n",
            "this member = 3 after process = 9\n"
          ],
          "name": "stdout"
        }
      ]
    },
    {
      "cell_type": "markdown",
      "metadata": {
        "id": "SYSDf6a9Xb_N"
      },
      "source": [
        "## สร้าง list ตัวเลขแบบแแัตโนมัติ range()"
      ]
    },
    {
      "cell_type": "code",
      "metadata": {
        "id": "9gZtwiQsXpS2",
        "outputId": "1ff3e599-ab6d-4504-8a71-1a6c39c1d644",
        "colab": {
          "base_uri": "https://localhost:8080/"
        }
      },
      "source": [
        "range5_output = range(5)\r\n",
        "print(list(range5_output))"
      ],
      "execution_count": 14,
      "outputs": [
        {
          "output_type": "stream",
          "text": [
            "[0, 1, 2, 3, 4]\n"
          ],
          "name": "stdout"
        }
      ]
    },
    {
      "cell_type": "code",
      "metadata": {
        "id": "G9lucKDgbTGv",
        "outputId": "0b85f1af-dffb-444a-c423-16481f429168",
        "colab": {
          "base_uri": "https://localhost:8080/"
        }
      },
      "source": [
        "for i in range(100) :\r\n",
        "    print('งง',end=' ')"
      ],
      "execution_count": 15,
      "outputs": [
        {
          "output_type": "stream",
          "text": [
            "งง งง งง งง งง งง งง งง งง งง งง งง งง งง งง งง งง งง งง งง งง งง งง งง งง งง งง งง งง งง งง งง งง งง งง งง งง งง งง งง งง งง งง งง งง งง งง งง งง งง งง งง งง งง งง งง งง งง งง งง งง งง งง งง งง งง งง งง งง งง งง งง งง งง งง งง งง งง งง งง งง งง งง งง งง งง งง งง งง งง งง งง งง งง งง งง งง งง งง งง "
          ],
          "name": "stdout"
        }
      ]
    },
    {
      "cell_type": "code",
      "metadata": {
        "id": "fLqLWyA7c0TO",
        "outputId": "fca7a145-22c3-4b62-920e-d2aea4e5b178",
        "colab": {
          "base_uri": "https://localhost:8080/"
        }
      },
      "source": [
        "list(range(1,11)) #เริ่มต้นเป็นวงทึบ จบที่วงกลมโปร่ง เหมือน list slicing"
      ],
      "execution_count": 16,
      "outputs": [
        {
          "output_type": "execute_result",
          "data": {
            "text/plain": [
              "[1, 2, 3, 4, 5, 6, 7, 8, 9, 10]"
            ]
          },
          "metadata": {
            "tags": []
          },
          "execution_count": 16
        }
      ]
    },
    {
      "cell_type": "code",
      "metadata": {
        "id": "iVSu75z9c-l1",
        "outputId": "2ee043e4-0b07-4da7-85d7-139cc5ca9b86",
        "colab": {
          "base_uri": "https://localhost:8080/"
        }
      },
      "source": [
        "list(range(-3,20,4))"
      ],
      "execution_count": 17,
      "outputs": [
        {
          "output_type": "execute_result",
          "data": {
            "text/plain": [
              "[-3, 1, 5, 9, 13, 17]"
            ]
          },
          "metadata": {
            "tags": []
          },
          "execution_count": 17
        }
      ]
    },
    {
      "cell_type": "markdown",
      "metadata": {
        "id": "93iINpJMdHhG"
      },
      "source": [
        "###Loop in Loop \r\n",
        "\r\n",
        "สามารถนำ loop ไปซ้อนกับ loop ได้ "
      ]
    },
    {
      "cell_type": "code",
      "metadata": {
        "id": "N9p0cvpIdRhI",
        "outputId": "6bfdfed0-1864-4104-81ec-a13c6560aee7",
        "colab": {
          "base_uri": "https://localhost:8080/"
        }
      },
      "source": [
        "for name1 in range(2,5) : #นับตั้งแต่2-5แต่ไม่เอา 5 \r\n",
        "    for name2 in range(1,13) : #นับตั้งแต่1-13แต่ไม่เอา 13\r\n",
        "      print(name1,' x ',name2,' = ',name1*name2) #ลองทำสูตรคูณ "
      ],
      "execution_count": 18,
      "outputs": [
        {
          "output_type": "stream",
          "text": [
            "2  x  1  =  2\n",
            "2  x  2  =  4\n",
            "2  x  3  =  6\n",
            "2  x  4  =  8\n",
            "2  x  5  =  10\n",
            "2  x  6  =  12\n",
            "2  x  7  =  14\n",
            "2  x  8  =  16\n",
            "2  x  9  =  18\n",
            "2  x  10  =  20\n",
            "2  x  11  =  22\n",
            "2  x  12  =  24\n",
            "3  x  1  =  3\n",
            "3  x  2  =  6\n",
            "3  x  3  =  9\n",
            "3  x  4  =  12\n",
            "3  x  5  =  15\n",
            "3  x  6  =  18\n",
            "3  x  7  =  21\n",
            "3  x  8  =  24\n",
            "3  x  9  =  27\n",
            "3  x  10  =  30\n",
            "3  x  11  =  33\n",
            "3  x  12  =  36\n",
            "4  x  1  =  4\n",
            "4  x  2  =  8\n",
            "4  x  3  =  12\n",
            "4  x  4  =  16\n",
            "4  x  5  =  20\n",
            "4  x  6  =  24\n",
            "4  x  7  =  28\n",
            "4  x  8  =  32\n",
            "4  x  9  =  36\n",
            "4  x  10  =  40\n",
            "4  x  11  =  44\n",
            "4  x  12  =  48\n"
          ],
          "name": "stdout"
        }
      ]
    },
    {
      "cell_type": "markdown",
      "metadata": {
        "id": "fNTfxcAefLKu"
      },
      "source": [
        "###Loop in function การวนลูปในฟังค์ชัน"
      ]
    },
    {
      "cell_type": "code",
      "metadata": {
        "id": "f12N2Pc8fT42"
      },
      "source": [
        "list_friend = ['พิบูม','น้อนจ้าว','พิไมเคิล','พิแฟรง','น้ำค้าง','พิม']"
      ],
      "execution_count": 19,
      "outputs": []
    },
    {
      "cell_type": "code",
      "metadata": {
        "id": "WbDlSoz7fRgW"
      },
      "source": [
        "def print_feeling(I,friends,feeling = 'คิดถึง') :\r\n",
        "    for friend in friends : \r\n",
        "        print(f'{I}  {feeling}  {friend}')"
      ],
      "execution_count": 20,
      "outputs": []
    },
    {
      "cell_type": "code",
      "metadata": {
        "id": "v8brRH5zgIAI",
        "outputId": "fc2a2a68-50c6-41c7-ca70-307432532c08",
        "colab": {
          "base_uri": "https://localhost:8080/"
        }
      },
      "source": [
        "print_feeling('โยเกิร์ต',list_friend)"
      ],
      "execution_count": 21,
      "outputs": [
        {
          "output_type": "stream",
          "text": [
            "โยเกิร์ต  คิดถึง  พิบูม\n",
            "โยเกิร์ต  คิดถึง  น้อนจ้าว\n",
            "โยเกิร์ต  คิดถึง  พิไมเคิล\n",
            "โยเกิร์ต  คิดถึง  พิแฟรง\n",
            "โยเกิร์ต  คิดถึง  น้ำค้าง\n",
            "โยเกิร์ต  คิดถึง  พิม\n"
          ],
          "name": "stdout"
        }
      ]
    },
    {
      "cell_type": "markdown",
      "metadata": {
        "id": "kBo46eJGn65H"
      },
      "source": [
        "#HW \r\n",
        "###เขียน function ตัดเกรดโดย input เป็นคะแนน(0-100) , output เป็นเกรด(F-A)\r\n",
        "###input = [1,50,65,90,101,-5,49]"
      ]
    }
  ]
}