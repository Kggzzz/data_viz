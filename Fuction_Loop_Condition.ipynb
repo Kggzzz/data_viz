{
  "nbformat": 4,
  "nbformat_minor": 0,
  "metadata": {
    "colab": {
      "name": "Fuction_Loop_001ipynb",
      "provenance": [],
      "authorship_tag": "ABX9TyOz6h9eUe85JTLI9yD4KwFQ",
      "include_colab_link": true
    },
    "kernelspec": {
      "name": "python3",
      "display_name": "Python 3"
    }
  },
  "cells": [
    {
      "cell_type": "markdown",
      "metadata": {
        "id": "view-in-github",
        "colab_type": "text"
      },
      "source": [
        "<a href=\"https://colab.research.google.com/github/Kggzzz/data_viz/blob/main/Fuction_Loop_Condition.ipynb\" target=\"_parent\"><img src=\"https://colab.research.google.com/assets/colab-badge.svg\" alt=\"Open In Colab\"/></a>"
      ]
    },
    {
      "cell_type": "markdown",
      "metadata": {
        "id": "MXeHfnMr3Dcj"
      },
      "source": [
        "###Function \r\n",
        "\r\n",
        "ทำหน้าที่รับ input มาประมวลผลออกเป็น output \r\n",
        "\r\n",
        "f(x) = y "
      ]
    },
    {
      "cell_type": "code",
      "metadata": {
        "id": "cAxKtBQz3FPQ"
      },
      "source": [
        ""
      ],
      "execution_count": null,
      "outputs": []
    },
    {
      "cell_type": "markdown",
      "metadata": {
        "id": "fRwJFjFg3EvY"
      },
      "source": [
        "def คือ การกำหนดฟังค์ชัน"
      ]
    },
    {
      "cell_type": "code",
      "metadata": {
        "id": "HCnMUE_R3HyA"
      },
      "source": [
        "```python\r\n",
        "def function_name(_Input_) :  #นำข้อมูลเข้ามา \r\n",
        "    do_something with _Input_  #เขียนโค้ดคำสั่งทำอะไรสักอย่างกับข้อมูลที่นำเข้า\r\n",
        "    return _Output_ #นำข้อมูลที่ได้ออก \r\n",
        "```"
      ],
      "execution_count": null,
      "outputs": []
    },
    {
      "cell_type": "markdown",
      "metadata": {
        "id": "fd1c_2O-3K_h"
      },
      "source": [
        "backtick(`) ==> กดค้าง , alt - 9>6 ,(full keyboard)\r\n",
        "\r\n",
        "tilde(~)\r\n",
        "\r\n",
        "curly bracket ({})\r\n",
        "\r\n",
        "square bracket ([])"
      ]
    },
    {
      "cell_type": "markdown",
      "metadata": {
        "id": "1QEYzREd3NYo"
      },
      "source": [
        "ตัวอย่างการเขียน normal function"
      ]
    },
    {
      "cell_type": "code",
      "metadata": {
        "id": "t36lNvQM3JbJ"
      },
      "source": [
        "def print_name(surname,ID,name) : \r\n",
        "    st = f'ชื่อ {name} นามสกุล {surname} รหัส {ID}'\r\n",
        "    return st"
      ],
      "execution_count": null,
      "outputs": []
    },
    {
      "cell_type": "markdown",
      "metadata": {
        "id": "sPnDCuXB3QuT"
      },
      "source": [
        "fuction มีส่วนสำคัญทั้งหมด 4 ส่้วน\r\n",
        "\r\n",
        "1. บอก python ว่าเราจะเขียนฟังค์ชัน ชื่ออะไร def_fuction "
      ]
    },
    {
      "cell_type": "code",
      "metadata": {
        "id": "PAk-TEWx3RWY"
      },
      "source": [
        "print_name('ลีนาราชรุ่งเรือง','613021020-4','รัฐพร')"
      ],
      "execution_count": null,
      "outputs": []
    },
    {
      "cell_type": "code",
      "metadata": {
        "id": "cUuzGn5J3U2A"
      },
      "source": [
        "print(print_name(name='รัฐพร',surname='ลี',ID='689421252-7'))"
      ],
      "execution_count": null,
      "outputs": []
    },
    {
      "cell_type": "markdown",
      "metadata": {
        "id": "8yCdY1y33X2Y"
      },
      "source": [
        "เราใช้เว้นวรรค (indent) เพื่อบอกขอบเขตของโปรแกรม"
      ]
    },
    {
      "cell_type": "markdown",
      "metadata": {
        "id": "64LPL9NZ3YV5"
      },
      "source": [
        "ฟังค์ชันไม่จำเป็นต้องมี Output"
      ]
    },
    {
      "cell_type": "code",
      "metadata": {
        "id": "ViQ9uQ8T3WNp"
      },
      "source": [
        ""
      ],
      "execution_count": null,
      "outputs": []
    },
    {
      "cell_type": "markdown",
      "metadata": {
        "id": "8FM3oloN3aH4"
      },
      "source": [
        "ฟังค์ชันไม่จำเป็นต้องมี Input"
      ]
    },
    {
      "cell_type": "code",
      "metadata": {
        "id": "QMiMjhH_3bj1"
      },
      "source": [
        "def Pi() : \r\n",
        "    return 3.14159265359"
      ],
      "execution_count": null,
      "outputs": []
    },
    {
      "cell_type": "code",
      "metadata": {
        "id": "_cd3WjUD3cz8"
      },
      "source": [
        "Pi()*(2**2) # หาพื้นที่วงกลมที่มีรัศมีเท่ากับ Pi * r**2"
      ],
      "execution_count": null,
      "outputs": []
    },
    {
      "cell_type": "markdown",
      "metadata": {
        "id": "45PCO9Sb3fjU"
      },
      "source": [
        "เราสามารถกำหนดค่า default ให้กับฟังค์ชั่นได้"
      ]
    },
    {
      "cell_type": "code",
      "metadata": {
        "id": "eLIhNmsO3hwD"
      },
      "source": [
        "def print_2lines_default(name,surname,ID,grade='F') :\r\n",
        "    st1 = f'ชื่อ {name} นามสกุล {surname} รหัส {ID}'\r\n",
        "    print(st1)\r\n",
        "    st2 = f'เกรดวิชา Data viz >>> {grade}'\r\n",
        "    print(st2)"
      ],
      "execution_count": null,
      "outputs": []
    },
    {
      "cell_type": "code",
      "metadata": {
        "id": "1543FVVW3jki"
      },
      "source": [
        "print_2lines_default('รัฐพร','ลีนาราช','613021020-4')"
      ],
      "execution_count": null,
      "outputs": []
    }
  ]
}