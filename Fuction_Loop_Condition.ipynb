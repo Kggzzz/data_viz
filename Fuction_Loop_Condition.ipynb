{
  "nbformat": 4,
  "nbformat_minor": 0,
  "metadata": {
    "colab": {
      "name": "Fuction_Loop_001ipynb",
      "provenance": [],
      "authorship_tag": "ABX9TyMOS5LSzHu09D3sHFMwwZE7",
      "include_colab_link": true
    },
    "kernelspec": {
      "name": "python3",
      "display_name": "Python 3"
    }
  },
  "cells": [
    {
      "cell_type": "markdown",
      "metadata": {
        "id": "view-in-github",
        "colab_type": "text"
      },
      "source": [
        "<a href=\"https://colab.research.google.com/github/Kggzzz/data_viz/blob/main/Fuction_Loop_Condition.ipynb\" target=\"_parent\"><img src=\"https://colab.research.google.com/assets/colab-badge.svg\" alt=\"Open In Colab\"/></a>"
      ]
    },
    {
      "cell_type": "markdown",
      "metadata": {
        "id": "MXeHfnMr3Dcj"
      },
      "source": [
        "###Function \r\n",
        "\r\n",
        "ทำหน้าที่รับ input มาประมวลผลออกเป็น output \r\n",
        "\r\n",
        "f(x) = y "
      ]
    },
    {
      "cell_type": "code",
      "metadata": {
        "id": "cAxKtBQz3FPQ",
        "colab": {
          "base_uri": "https://localhost:8080/"
        },
        "outputId": "de0b240e-1392-4749-b7f1-f3de00fd1c70"
      },
      "source": [
        "name = 'รัฐพร'\r\n",
        "surname = 'รัฐพร'\r\n",
        "ID = '613021020-4'\r\n",
        "\r\n",
        "b = f'=ชื่อ {name} นามสกุล {surname} รหัส {ID}'\r\n",
        "print(b)"
      ],
      "execution_count": 32,
      "outputs": [
        {
          "output_type": "stream",
          "text": [
            "=ชื่อ รัฐพร นามสกุล รัฐพร รหัส 613021020-4\n"
          ],
          "name": "stdout"
        }
      ]
    },
    {
      "cell_type": "markdown",
      "metadata": {
        "id": "fRwJFjFg3EvY"
      },
      "source": [
        "def คือ การกำหนดฟังค์ชัน"
      ]
    },
    {
      "cell_type": "markdown",
      "metadata": {
        "id": "zer9IXvFmut2"
      },
      "source": [
        "``` Python\r\n",
        "      def function_name(_Input_) :#นำข้อมูลเข้ามา \r\n",
        "          do_someting with _Input_ to get _Output_ #เขียนโค้ดคำสั่งทำอะไรสักอย่างกับข้อมูลที่นำเข้า\r\n",
        "          return _Output_ #นำข้อมูลที่ได้ออก \r\n",
        "```"
      ]
    },
    {
      "cell_type": "markdown",
      "metadata": {
        "id": "fd1c_2O-3K_h"
      },
      "source": [
        "backtick(`) ==> กดค้าง , alt - 9>6 ,(full keyboard)\r\n",
        "\r\n",
        "tilde(~)\r\n",
        "\r\n",
        "curly bracket ({})\r\n",
        "\r\n",
        "square bracket ([])"
      ]
    },
    {
      "cell_type": "markdown",
      "metadata": {
        "id": "1QEYzREd3NYo"
      },
      "source": [
        "ตัวอย่างการเขียน normal function"
      ]
    },
    {
      "cell_type": "code",
      "metadata": {
        "id": "t36lNvQM3JbJ"
      },
      "source": [
        "def print_name(surname,ID,name) : \r\n",
        "    st = f'ชื่อ {name} นามสกุล {surname} รหัส {ID}'\r\n",
        "    return st"
      ],
      "execution_count": 33,
      "outputs": []
    },
    {
      "cell_type": "markdown",
      "metadata": {
        "id": "sPnDCuXB3QuT"
      },
      "source": [
        "fuction มีส่วนสำคัญทั้งหมด 4 ส่วน\r\n",
        "\r\n",
        "1. บอก python ว่าเราจะเขียนฟังค์ชัน ชื่ออะไร def_fuction "
      ]
    },
    {
      "cell_type": "code",
      "metadata": {
        "id": "PAk-TEWx3RWY",
        "colab": {
          "base_uri": "https://localhost:8080/",
          "height": 34
        },
        "outputId": "c7520e48-941a-4522-b917-4c6f6b3c22f3"
      },
      "source": [
        "print_name('ลีนาราชรุ่งเรือง','613021020-4','รัฐพร')"
      ],
      "execution_count": 34,
      "outputs": [
        {
          "output_type": "execute_result",
          "data": {
            "application/vnd.google.colaboratory.intrinsic+json": {
              "type": "string"
            },
            "text/plain": [
              "'ชื่อ รัฐพร นามสกุล ลีนาราชรุ่งเรือง รหัส 613021020-4'"
            ]
          },
          "metadata": {
            "tags": []
          },
          "execution_count": 34
        }
      ]
    },
    {
      "cell_type": "code",
      "metadata": {
        "id": "cUuzGn5J3U2A",
        "colab": {
          "base_uri": "https://localhost:8080/"
        },
        "outputId": "46bfd267-b086-4238-d4f1-1b0a13844bf9"
      },
      "source": [
        "print(print_name(name='รัฐพร',surname='ลี',ID='613021020-4'))"
      ],
      "execution_count": 35,
      "outputs": [
        {
          "output_type": "stream",
          "text": [
            "ชื่อ รัฐพร นามสกุล ลี รหัส 613021020-4\n"
          ],
          "name": "stdout"
        }
      ]
    },
    {
      "cell_type": "markdown",
      "metadata": {
        "id": "8yCdY1y33X2Y"
      },
      "source": [
        "เราใช้เว้นวรรค (indent) เพื่อบอกขอบเขตของโปรแกรม"
      ]
    },
    {
      "cell_type": "code",
      "metadata": {
        "id": "aeIcY4AGVR7z"
      },
      "source": [
        "def print_name2(name,surname,ID) : \r\n",
        "    st = f'ชื่อ {name} นามสกุล {surname} รหัส {ID} ' \r\n",
        "    print(st) #ไม่ต้องส่งค่า output แล้ว ให้ print เลย"
      ],
      "execution_count": 36,
      "outputs": []
    },
    {
      "cell_type": "markdown",
      "metadata": {
        "id": "64LPL9NZ3YV5"
      },
      "source": [
        "ฟังค์ชันไม่จำเป็นต้องมี Output"
      ]
    },
    {
      "cell_type": "code",
      "metadata": {
        "id": "ViQ9uQ8T3WNp",
        "colab": {
          "base_uri": "https://localhost:8080/"
        },
        "outputId": "90f3f6f8-7d45-4945-e073-3ed79d713172"
      },
      "source": [
        "print_name2(name='รัฐพร', surname='ลี', ID='613021020-4')"
      ],
      "execution_count": 37,
      "outputs": [
        {
          "output_type": "stream",
          "text": [
            "ชื่อ รัฐพร นามสกุล ลี รหัส 613021020-4 \n"
          ],
          "name": "stdout"
        }
      ]
    },
    {
      "cell_type": "markdown",
      "metadata": {
        "id": "8FM3oloN3aH4"
      },
      "source": [
        "ฟังค์ชันไม่จำเป็นต้องมี Input"
      ]
    },
    {
      "cell_type": "code",
      "metadata": {
        "id": "QMiMjhH_3bj1"
      },
      "source": [
        "def Pi() : \r\n",
        "    return 3.14159265359\r\n",
        "    # เป็นฟังก์ชันที่ไม่มี input แต่จะ return ค่าที่เรากำหนด ค่าอะไรก็ได้ออกมาอย่างดียว เช่น Pi"
      ],
      "execution_count": 38,
      "outputs": []
    },
    {
      "cell_type": "code",
      "metadata": {
        "id": "_cd3WjUD3cz8",
        "colab": {
          "base_uri": "https://localhost:8080/"
        },
        "outputId": "8353c821-84dd-457b-b957-08448b060294"
      },
      "source": [
        "Pi()*(2**2) # หาพื้นที่วงกลมที่มีรัศมีเท่ากับ Pi * r**2"
      ],
      "execution_count": 39,
      "outputs": [
        {
          "output_type": "execute_result",
          "data": {
            "text/plain": [
              "12.56637061436"
            ]
          },
          "metadata": {
            "tags": []
          },
          "execution_count": 39
        }
      ]
    },
    {
      "cell_type": "markdown",
      "metadata": {
        "id": "45PCO9Sb3fjU"
      },
      "source": [
        "เราสามารถกำหนดค่า default ให้กับฟังค์ชั่นได้"
      ]
    },
    {
      "cell_type": "markdown",
      "metadata": {
        "id": "NrGsnchaoEc2"
      },
      "source": [
        "input ของ function ใน python มีสองแบบ input ที่จำเป็นต้องใส่ กับ input ที่ไม่จำเป็นต้องใส่ (มีค่า default)\r\n",
        "\r\n",
        "เราต้องเรียง input ที่จำเป็นต้องใส่ขึ้นก่อน"
      ]
    },
    {
      "cell_type": "code",
      "metadata": {
        "id": "eLIhNmsO3hwD"
      },
      "source": [
        "def print_2lines_default(name,surname,ID,grade='F') :\r\n",
        "    st1 = f'ชื่อ {name} นามสกุล {surname} รหัส {ID}'\r\n",
        "    print(st1)\r\n",
        "    st2 = f'เกรดวิชา Data viz >>> {grade}'\r\n",
        "    print(st2)"
      ],
      "execution_count": 40,
      "outputs": []
    },
    {
      "cell_type": "code",
      "metadata": {
        "id": "1543FVVW3jki",
        "colab": {
          "base_uri": "https://localhost:8080/"
        },
        "outputId": "14252167-ce74-4abe-a073-81bbcee091b9"
      },
      "source": [
        "print_2lines_default('รัฐพร','ลีนาราช','613021020-4')"
      ],
      "execution_count": 41,
      "outputs": [
        {
          "output_type": "stream",
          "text": [
            "ชื่อ รัฐพร นามสกุล ลีนาราช รหัส 613021020-4\n",
            "เกรดวิชา Data viz >>> F\n"
          ],
          "name": "stdout"
        }
      ]
    },
    {
      "cell_type": "code",
      "metadata": {
        "colab": {
          "base_uri": "https://localhost:8080/"
        },
        "id": "ZeHZm9MBoJMd",
        "outputId": "1904538a-3d45-4e84-eef1-2becfb0e7ad7"
      },
      "source": [
        "print_2lines_default('รัฐพร','ลีนาราช','613021020-4','A')"
      ],
      "execution_count": 42,
      "outputs": [
        {
          "output_type": "stream",
          "text": [
            "ชื่อ รัฐพร นามสกุล ลีนาราช รหัส 613021020-4\n",
            "เกรดวิชา Data viz >>> A\n"
          ],
          "name": "stdout"
        }
      ]
    },
    {
      "cell_type": "markdown",
      "metadata": {
        "id": "G4D-YlxwVzPU"
      },
      "source": [
        "# Loop การวนซ้ำ\r\n",
        "\r\n",
        "for เป้นคำสั่งที่ใช้บอก python ว่าเรากำลังเขียน loop\r\n",
        "\r\n",
        "โดย for จะวนดึงสมาชิกจาก ' listA ' มาทำ process ' do_something '"
      ]
    },
    {
      "cell_type": "markdown",
      "metadata": {
        "id": "9Zu0HnfkoRQW"
      },
      "source": [
        "```python\r\n",
        "    for each_member in listA :\r\n",
        "        do_something\r\n",
        "```"
      ]
    },
    {
      "cell_type": "markdown",
      "metadata": {
        "id": "tZ4OLXzaWMKk"
      },
      "source": [
        "#### คำสั่ง for เป็นคำสั่งวนซ้ำที่ใช้ควบคุมการทำงานซ้ำๆ ในจำนวนรอบที่แน่นอน"
      ]
    },
    {
      "cell_type": "code",
      "metadata": {
        "id": "D2FwZ3CQVzCu",
        "colab": {
          "base_uri": "https://localhost:8080/"
        },
        "outputId": "4420021d-8c43-44f2-decc-2f311dd58662"
      },
      "source": [
        "for i in [1,2,3] :\r\n",
        "    o = i**2\r\n",
        "    print (f'this member = {i} after process = {o}')"
      ],
      "execution_count": 43,
      "outputs": [
        {
          "output_type": "stream",
          "text": [
            "this member = 1 after process = 1\n",
            "this member = 2 after process = 4\n",
            "this member = 3 after process = 9\n"
          ],
          "name": "stdout"
        }
      ]
    },
    {
      "cell_type": "markdown",
      "metadata": {
        "id": "9-ziqY7ioVMX"
      },
      "source": [
        "###### ตัวอย่างการใช้คำสั่ง for ในการวนซ้ำค่าของ i เมื่อ i คือ 'Thanapong' และคำสั่ง print(f'{i} -> /') เพื่อกำหนดให้ผลลัพธ์แสดงสัญลักษณ์ -> /  จากนั้นเพิ่มคำสั่ง print(' ') อีกครั้งเพื่อให้ผลลัพธ์มีการเว้นวรรค¶ "
      ]
    },
    {
      "cell_type": "code",
      "metadata": {
        "colab": {
          "base_uri": "https://localhost:8080/"
        },
        "id": "9kpmd7mkoYSn",
        "outputId": "01da486c-1024-4062-8c7c-e0712730504a"
      },
      "source": [
        "for i in 'Thanapong':\r\n",
        "    print(f'{i} -> / ' )"
      ],
      "execution_count": 44,
      "outputs": [
        {
          "output_type": "stream",
          "text": [
            "T -> / \n",
            "h -> / \n",
            "a -> / \n",
            "n -> / \n",
            "a -> / \n",
            "p -> / \n",
            "o -> / \n",
            "n -> / \n",
            "g -> / \n"
          ],
          "name": "stdout"
        }
      ]
    },
    {
      "cell_type": "code",
      "metadata": {
        "colab": {
          "base_uri": "https://localhost:8080/"
        },
        "id": "bNvgzQDboZxB",
        "outputId": "3422f4b2-a696-45b2-95b7-273233a87000"
      },
      "source": [
        "for i in 'Thanapong':\r\n",
        "    print(f'{i} -> / ' ,end = '') #สั่งให้ print แบบ ไม่เว้นบรรทัด"
      ],
      "execution_count": 45,
      "outputs": [
        {
          "output_type": "stream",
          "text": [
            "T -> / h -> / a -> / n -> / a -> / p -> / o -> / n -> / g -> / "
          ],
          "name": "stdout"
        }
      ]
    },
    {
      "cell_type": "code",
      "metadata": {
        "colab": {
          "base_uri": "https://localhost:8080/"
        },
        "id": "ZNM_0L0eockO",
        "outputId": "f4a55076-bd96-4435-aac7-d7ebebfdc8cf"
      },
      "source": [
        "for i in 'Thanapong':\r\n",
        "    print(f'{i} -> / ' ,end = ',') #สั่งให้ print แบบ ไม่เว้นบรรทัด"
      ],
      "execution_count": 46,
      "outputs": [
        {
          "output_type": "stream",
          "text": [
            "T -> / ,h -> / ,a -> / ,n -> / ,a -> / ,p -> / ,o -> / ,n -> / ,g -> / ,"
          ],
          "name": "stdout"
        }
      ]
    },
    {
      "cell_type": "markdown",
      "metadata": {
        "id": "SYSDf6a9Xb_N"
      },
      "source": [
        "## สร้าง list ตัวเลขแบบแแัตโนมัติ range()"
      ]
    },
    {
      "cell_type": "code",
      "metadata": {
        "id": "9gZtwiQsXpS2",
        "colab": {
          "base_uri": "https://localhost:8080/"
        },
        "outputId": "5bf98d18-0bfb-4e6d-97eb-41b650a5defd"
      },
      "source": [
        "range5_output = range(5)\r\n",
        "print(list(range5_output))"
      ],
      "execution_count": 47,
      "outputs": [
        {
          "output_type": "stream",
          "text": [
            "[0, 1, 2, 3, 4]\n"
          ],
          "name": "stdout"
        }
      ]
    },
    {
      "cell_type": "code",
      "metadata": {
        "id": "G9lucKDgbTGv",
        "colab": {
          "base_uri": "https://localhost:8080/"
        },
        "outputId": "c5c08482-157a-482d-95b4-da199d08966b"
      },
      "source": [
        "for i in range(100) :\r\n",
        "    print('งง',end=' ')"
      ],
      "execution_count": 48,
      "outputs": [
        {
          "output_type": "stream",
          "text": [
            "งง งง งง งง งง งง งง งง งง งง งง งง งง งง งง งง งง งง งง งง งง งง งง งง งง งง งง งง งง งง งง งง งง งง งง งง งง งง งง งง งง งง งง งง งง งง งง งง งง งง งง งง งง งง งง งง งง งง งง งง งง งง งง งง งง งง งง งง งง งง งง งง งง งง งง งง งง งง งง งง งง งง งง งง งง งง งง งง งง งง งง งง งง งง งง งง งง งง งง งง "
          ],
          "name": "stdout"
        }
      ]
    },
    {
      "cell_type": "code",
      "metadata": {
        "id": "fLqLWyA7c0TO",
        "colab": {
          "base_uri": "https://localhost:8080/"
        },
        "outputId": "002f41a2-5e66-4c25-f0dd-9cc803a609bc"
      },
      "source": [
        "list(range(1,11)) #เริ่มต้นเป็นวงทึบ จบที่วงกลมโปร่ง เหมือน list slicing"
      ],
      "execution_count": 49,
      "outputs": [
        {
          "output_type": "execute_result",
          "data": {
            "text/plain": [
              "[1, 2, 3, 4, 5, 6, 7, 8, 9, 10]"
            ]
          },
          "metadata": {
            "tags": []
          },
          "execution_count": 49
        }
      ]
    },
    {
      "cell_type": "code",
      "metadata": {
        "id": "iVSu75z9c-l1",
        "colab": {
          "base_uri": "https://localhost:8080/"
        },
        "outputId": "214998ca-84bf-401c-bd06-ee84a7d905b7"
      },
      "source": [
        "list(range(-3,20,4))"
      ],
      "execution_count": 50,
      "outputs": [
        {
          "output_type": "execute_result",
          "data": {
            "text/plain": [
              "[-3, 1, 5, 9, 13, 17]"
            ]
          },
          "metadata": {
            "tags": []
          },
          "execution_count": 50
        }
      ]
    },
    {
      "cell_type": "markdown",
      "metadata": {
        "id": "93iINpJMdHhG"
      },
      "source": [
        "###Loop in Loop \r\n",
        "\r\n",
        "สามารถนำ loop ไปซ้อนกับ loop ได้ "
      ]
    },
    {
      "cell_type": "code",
      "metadata": {
        "id": "N9p0cvpIdRhI",
        "colab": {
          "base_uri": "https://localhost:8080/"
        },
        "outputId": "1852fc3d-4eaf-4947-8817-671fd2b904df"
      },
      "source": [
        "for name1 in range(2,5) : #นับตั้งแต่2-5แต่ไม่เอา 5 \r\n",
        "    for name2 in range(1,13) : #นับตั้งแต่1-13แต่ไม่เอา 13\r\n",
        "      print(name1,' x ',name2,' = ',name1*name2) #ลองทำสูตรคูณ\r\n",
        "    print('the inner loop is end') "
      ],
      "execution_count": 51,
      "outputs": [
        {
          "output_type": "stream",
          "text": [
            "2  x  1  =  2\n",
            "2  x  2  =  4\n",
            "2  x  3  =  6\n",
            "2  x  4  =  8\n",
            "2  x  5  =  10\n",
            "2  x  6  =  12\n",
            "2  x  7  =  14\n",
            "2  x  8  =  16\n",
            "2  x  9  =  18\n",
            "2  x  10  =  20\n",
            "2  x  11  =  22\n",
            "2  x  12  =  24\n",
            "the inner loop is end\n",
            "3  x  1  =  3\n",
            "3  x  2  =  6\n",
            "3  x  3  =  9\n",
            "3  x  4  =  12\n",
            "3  x  5  =  15\n",
            "3  x  6  =  18\n",
            "3  x  7  =  21\n",
            "3  x  8  =  24\n",
            "3  x  9  =  27\n",
            "3  x  10  =  30\n",
            "3  x  11  =  33\n",
            "3  x  12  =  36\n",
            "the inner loop is end\n",
            "4  x  1  =  4\n",
            "4  x  2  =  8\n",
            "4  x  3  =  12\n",
            "4  x  4  =  16\n",
            "4  x  5  =  20\n",
            "4  x  6  =  24\n",
            "4  x  7  =  28\n",
            "4  x  8  =  32\n",
            "4  x  9  =  36\n",
            "4  x  10  =  40\n",
            "4  x  11  =  44\n",
            "4  x  12  =  48\n",
            "the inner loop is end\n"
          ],
          "name": "stdout"
        }
      ]
    },
    {
      "cell_type": "markdown",
      "metadata": {
        "id": "fNTfxcAefLKu"
      },
      "source": [
        "###Loop in function การวนลูปในฟังค์ชัน"
      ]
    },
    {
      "cell_type": "code",
      "metadata": {
        "id": "f12N2Pc8fT42"
      },
      "source": [
        "list_friend = ['พิบูม','น้อนจ้าว','พิไมเคิล','พิแฟรง','น้ำค้าง','พิม']"
      ],
      "execution_count": 52,
      "outputs": []
    },
    {
      "cell_type": "code",
      "metadata": {
        "id": "WbDlSoz7fRgW"
      },
      "source": [
        "def print_feelings(I,friendS,feeling = 'คิดถึง'):\r\n",
        "    for friend in friendS:\r\n",
        "        print(f'{I} {feeling} {friend}')"
      ],
      "execution_count": 53,
      "outputs": []
    },
    {
      "cell_type": "code",
      "metadata": {
        "id": "v8brRH5zgIAI",
        "colab": {
          "base_uri": "https://localhost:8080/"
        },
        "outputId": "5907b841-4552-443b-c33c-1a1de27b6cf0"
      },
      "source": [
        "print_feeling('โยเกิร์ต',list_friend)"
      ],
      "execution_count": 54,
      "outputs": [
        {
          "output_type": "stream",
          "text": [
            "โยเกิร์ต  คิดถึง  พิบูม\n",
            "โยเกิร์ต  คิดถึง  น้อนจ้าว\n",
            "โยเกิร์ต  คิดถึง  พิไมเคิล\n",
            "โยเกิร์ต  คิดถึง  พิแฟรง\n",
            "โยเกิร์ต  คิดถึง  น้ำค้าง\n",
            "โยเกิร์ต  คิดถึง  พิม\n"
          ],
          "name": "stdout"
        }
      ]
    },
    {
      "cell_type": "code",
      "metadata": {
        "colab": {
          "base_uri": "https://localhost:8080/"
        },
        "id": "H9wFnC-FopBh",
        "outputId": "52ad5967-bf6f-4311-cedd-66d8208caf0e"
      },
      "source": [
        "print_feelings('โยเกิร์ต',list_friend,feeling ='รัก')"
      ],
      "execution_count": 55,
      "outputs": [
        {
          "output_type": "stream",
          "text": [
            "โยเกิร์ต รัก พิบูม\n",
            "โยเกิร์ต รัก น้อนจ้าว\n",
            "โยเกิร์ต รัก พิไมเคิล\n",
            "โยเกิร์ต รัก พิแฟรง\n",
            "โยเกิร์ต รัก น้ำค้าง\n",
            "โยเกิร์ต รัก พิม\n"
          ],
          "name": "stdout"
        }
      ]
    },
    {
      "cell_type": "code",
      "metadata": {
        "colab": {
          "base_uri": "https://localhost:8080/"
        },
        "id": "d2yAYVtios9u",
        "outputId": "0f112d63-add5-4516-8236-aef6b7267c81"
      },
      "source": [
        "print_feelings('โยเกิร์ต',list_friend,'รัก')"
      ],
      "execution_count": 56,
      "outputs": [
        {
          "output_type": "stream",
          "text": [
            "โยเกิร์ต รัก พิบูม\n",
            "โยเกิร์ต รัก น้อนจ้าว\n",
            "โยเกิร์ต รัก พิไมเคิล\n",
            "โยเกิร์ต รัก พิแฟรง\n",
            "โยเกิร์ต รัก น้ำค้าง\n",
            "โยเกิร์ต รัก พิม\n"
          ],
          "name": "stdout"
        }
      ]
    },
    {
      "cell_type": "markdown",
      "metadata": {
        "id": "4XmEaJqVpulX"
      },
      "source": [
        "### looping in dict\r\n",
        "#### ทำการวนลูปในค่า dict โดยที่เรากำหนดตัว key และvalueขึ้นมา ได้ดังนี้"
      ]
    },
    {
      "cell_type": "code",
      "metadata": {
        "colab": {
          "base_uri": "https://localhost:8080/"
        },
        "id": "0-SSUuoxpwoh",
        "outputId": "2b2deb8a-dc3a-4cf2-a013-fbc514dca52f"
      },
      "source": [
        "name_grade = {'พันทิพา' : 'B','ศุภนิตา' : 'C','ปนัดดา' : 'A','ทรงกลด' : 'F'}\r\n",
        "name_grade"
      ],
      "execution_count": 57,
      "outputs": [
        {
          "output_type": "execute_result",
          "data": {
            "text/plain": [
              "{'ทรงกลด': 'F', 'ปนัดดา': 'A', 'พันทิพา': 'B', 'ศุภนิตา': 'C'}"
            ]
          },
          "metadata": {
            "tags": []
          },
          "execution_count": 57
        }
      ]
    },
    {
      "cell_type": "code",
      "metadata": {
        "colab": {
          "base_uri": "https://localhost:8080/",
          "height": 34
        },
        "id": "hv66IR9Vp0ze",
        "outputId": "698decf5-603b-48e1-aad6-3bd1d00304ff"
      },
      "source": [
        "name_grade['ปนัดดา']"
      ],
      "execution_count": 58,
      "outputs": [
        {
          "output_type": "execute_result",
          "data": {
            "application/vnd.google.colaboratory.intrinsic+json": {
              "type": "string"
            },
            "text/plain": [
              "'A'"
            ]
          },
          "metadata": {
            "tags": []
          },
          "execution_count": 58
        }
      ]
    },
    {
      "cell_type": "code",
      "metadata": {
        "colab": {
          "base_uri": "https://localhost:8080/"
        },
        "id": "b01Lgv-Kp2EQ",
        "outputId": "b7a00477-32a1-4ff9-cb7d-0a94acc4d227"
      },
      "source": [
        "for i in name_grade.keys():\r\n",
        "    print(i)"
      ],
      "execution_count": 59,
      "outputs": [
        {
          "output_type": "stream",
          "text": [
            "พันทิพา\n",
            "ศุภนิตา\n",
            "ปนัดดา\n",
            "ทรงกลด\n"
          ],
          "name": "stdout"
        }
      ]
    },
    {
      "cell_type": "code",
      "metadata": {
        "colab": {
          "base_uri": "https://localhost:8080/"
        },
        "id": "Kep883Ikp3je",
        "outputId": "b90f818a-f735-410e-b41e-8159271dcd15"
      },
      "source": [
        "name_grade.keys()"
      ],
      "execution_count": 60,
      "outputs": [
        {
          "output_type": "execute_result",
          "data": {
            "text/plain": [
              "dict_keys(['พันทิพา', 'ศุภนิตา', 'ปนัดดา', 'ทรงกลด'])"
            ]
          },
          "metadata": {
            "tags": []
          },
          "execution_count": 60
        }
      ]
    },
    {
      "cell_type": "code",
      "metadata": {
        "colab": {
          "base_uri": "https://localhost:8080/"
        },
        "id": "w8YwhH6Rp3_K",
        "outputId": "4f6ecbcb-4a37-4659-fc5d-7f4c65379acc"
      },
      "source": [
        "for i in name_grade.keys():\r\n",
        "    print(f'{i} ได้เกรด {name_grade[i]}')"
      ],
      "execution_count": 61,
      "outputs": [
        {
          "output_type": "stream",
          "text": [
            "พันทิพา ได้เกรด B\n",
            "ศุภนิตา ได้เกรด C\n",
            "ปนัดดา ได้เกรด A\n",
            "ทรงกลด ได้เกรด F\n"
          ],
          "name": "stdout"
        }
      ]
    },
    {
      "cell_type": "markdown",
      "metadata": {
        "id": "W5A6yDkTp6i8"
      },
      "source": [
        "### conditional คือ เงื่อนไข /ประโยคเงื่อนไข"
      ]
    },
    {
      "cell_type": "markdown",
      "metadata": {
        "id": "UVHM7DMLp8PM"
      },
      "source": [
        "##### True / False\r\n",
        "##### การวนลูปโดยมีเงื่อนไขต่างๆมาเกี่ยวข้อง โดยมี pattern ดังนี้"
      ]
    },
    {
      "cell_type": "markdown",
      "metadata": {
        "id": "1whs1WeCp-HB"
      },
      "source": [
        "```Python\r\n",
        "if condition1 :\r\n",
        "    do something\r\n",
        "elif condition2 :  #elif คือ else if\r\n",
        "    do another thing\r\n",
        "else:\r\n",
        "    do ...\r\n",
        "```"
      ]
    },
    {
      "cell_type": "code",
      "metadata": {
        "colab": {
          "base_uri": "https://localhost:8080/"
        },
        "id": "N4CnYuAgp90Y",
        "outputId": "1c79dd54-8d7b-40eb-93c6-f12acad04054"
      },
      "source": [
        "print(list_friend)"
      ],
      "execution_count": 62,
      "outputs": [
        {
          "output_type": "stream",
          "text": [
            "['พิบูม', 'น้อนจ้าว', 'พิไมเคิล', 'พิแฟรง', 'น้ำค้าง', 'พิม']\n"
          ],
          "name": "stdout"
        }
      ]
    },
    {
      "cell_type": "code",
      "metadata": {
        "colab": {
          "base_uri": "https://localhost:8080/"
        },
        "id": "LjmPBHL5qA9r",
        "outputId": "8c4066d7-1133-4925-a337-949910c8a332"
      },
      "source": [
        "for name1 in list_friend :\r\n",
        "    for name2 in list_friend :\r\n",
        "            print(name1,'รัก',name2)"
      ],
      "execution_count": 63,
      "outputs": [
        {
          "output_type": "stream",
          "text": [
            "พิบูม รัก พิบูม\n",
            "พิบูม รัก น้อนจ้าว\n",
            "พิบูม รัก พิไมเคิล\n",
            "พิบูม รัก พิแฟรง\n",
            "พิบูม รัก น้ำค้าง\n",
            "พิบูม รัก พิม\n",
            "น้อนจ้าว รัก พิบูม\n",
            "น้อนจ้าว รัก น้อนจ้าว\n",
            "น้อนจ้าว รัก พิไมเคิล\n",
            "น้อนจ้าว รัก พิแฟรง\n",
            "น้อนจ้าว รัก น้ำค้าง\n",
            "น้อนจ้าว รัก พิม\n",
            "พิไมเคิล รัก พิบูม\n",
            "พิไมเคิล รัก น้อนจ้าว\n",
            "พิไมเคิล รัก พิไมเคิล\n",
            "พิไมเคิล รัก พิแฟรง\n",
            "พิไมเคิล รัก น้ำค้าง\n",
            "พิไมเคิล รัก พิม\n",
            "พิแฟรง รัก พิบูม\n",
            "พิแฟรง รัก น้อนจ้าว\n",
            "พิแฟรง รัก พิไมเคิล\n",
            "พิแฟรง รัก พิแฟรง\n",
            "พิแฟรง รัก น้ำค้าง\n",
            "พิแฟรง รัก พิม\n",
            "น้ำค้าง รัก พิบูม\n",
            "น้ำค้าง รัก น้อนจ้าว\n",
            "น้ำค้าง รัก พิไมเคิล\n",
            "น้ำค้าง รัก พิแฟรง\n",
            "น้ำค้าง รัก น้ำค้าง\n",
            "น้ำค้าง รัก พิม\n",
            "พิม รัก พิบูม\n",
            "พิม รัก น้อนจ้าว\n",
            "พิม รัก พิไมเคิล\n",
            "พิม รัก พิแฟรง\n",
            "พิม รัก น้ำค้าง\n",
            "พิม รัก พิม\n"
          ],
          "name": "stdout"
        }
      ]
    },
    {
      "cell_type": "code",
      "metadata": {
        "colab": {
          "base_uri": "https://localhost:8080/"
        },
        "id": "LlvGAWjwqEZX",
        "outputId": "0312efce-394b-4542-c83e-6ac578b531fc"
      },
      "source": [
        "for name1 in list_friend:\r\n",
        "    for name2 in list_friend:\r\n",
        "        if name1 != name2: #ไม่ปริ้นชื่อคนเดียวกันซ้ำ\r\n",
        "            print(name1,'รัก',name2)"
      ],
      "execution_count": 64,
      "outputs": [
        {
          "output_type": "stream",
          "text": [
            "พิบูม รัก น้อนจ้าว\n",
            "พิบูม รัก พิไมเคิล\n",
            "พิบูม รัก พิแฟรง\n",
            "พิบูม รัก น้ำค้าง\n",
            "พิบูม รัก พิม\n",
            "น้อนจ้าว รัก พิบูม\n",
            "น้อนจ้าว รัก พิไมเคิล\n",
            "น้อนจ้าว รัก พิแฟรง\n",
            "น้อนจ้าว รัก น้ำค้าง\n",
            "น้อนจ้าว รัก พิม\n",
            "พิไมเคิล รัก พิบูม\n",
            "พิไมเคิล รัก น้อนจ้าว\n",
            "พิไมเคิล รัก พิแฟรง\n",
            "พิไมเคิล รัก น้ำค้าง\n",
            "พิไมเคิล รัก พิม\n",
            "พิแฟรง รัก พิบูม\n",
            "พิแฟรง รัก น้อนจ้าว\n",
            "พิแฟรง รัก พิไมเคิล\n",
            "พิแฟรง รัก น้ำค้าง\n",
            "พิแฟรง รัก พิม\n",
            "น้ำค้าง รัก พิบูม\n",
            "น้ำค้าง รัก น้อนจ้าว\n",
            "น้ำค้าง รัก พิไมเคิล\n",
            "น้ำค้าง รัก พิแฟรง\n",
            "น้ำค้าง รัก พิม\n",
            "พิม รัก พิบูม\n",
            "พิม รัก น้อนจ้าว\n",
            "พิม รัก พิไมเคิล\n",
            "พิม รัก พิแฟรง\n",
            "พิม รัก น้ำค้าง\n"
          ],
          "name": "stdout"
        }
      ]
    },
    {
      "cell_type": "code",
      "metadata": {
        "colab": {
          "base_uri": "https://localhost:8080/"
        },
        "id": "M4GNZ-cfqFhP",
        "outputId": "b7946e40-3b4d-41bd-9046-ca3407f021c0"
      },
      "source": [
        "for name1 in list_friend:\r\n",
        "    for name2 in list_friend:\r\n",
        "        if name1 == name2: #ปริ้นชื่อคนเดียวกันซ้ำ\r\n",
        "            print(name1,'รัก',name2)"
      ],
      "execution_count": 65,
      "outputs": [
        {
          "output_type": "stream",
          "text": [
            "พิบูม รัก พิบูม\n",
            "น้อนจ้าว รัก น้อนจ้าว\n",
            "พิไมเคิล รัก พิไมเคิล\n",
            "พิแฟรง รัก พิแฟรง\n",
            "น้ำค้าง รัก น้ำค้าง\n",
            "พิม รัก พิม\n"
          ],
          "name": "stdout"
        }
      ]
    },
    {
      "cell_type": "code",
      "metadata": {
        "colab": {
          "base_uri": "https://localhost:8080/"
        },
        "id": "uvmli8idqJA3",
        "outputId": "0ff54b2b-12e1-48a1-cd0a-535efd7a0cb0"
      },
      "source": [
        "for name1 in list_friend:\r\n",
        "    for name2 in list_friend:\r\n",
        "        if name1 == name2: \r\n",
        "            'do nothing'\r\n",
        "        else:\r\n",
        "            print(name1,'รัก',name2)"
      ],
      "execution_count": 66,
      "outputs": [
        {
          "output_type": "stream",
          "text": [
            "พิบูม รัก น้อนจ้าว\n",
            "พิบูม รัก พิไมเคิล\n",
            "พิบูม รัก พิแฟรง\n",
            "พิบูม รัก น้ำค้าง\n",
            "พิบูม รัก พิม\n",
            "น้อนจ้าว รัก พิบูม\n",
            "น้อนจ้าว รัก พิไมเคิล\n",
            "น้อนจ้าว รัก พิแฟรง\n",
            "น้อนจ้าว รัก น้ำค้าง\n",
            "น้อนจ้าว รัก พิม\n",
            "พิไมเคิล รัก พิบูม\n",
            "พิไมเคิล รัก น้อนจ้าว\n",
            "พิไมเคิล รัก พิแฟรง\n",
            "พิไมเคิล รัก น้ำค้าง\n",
            "พิไมเคิล รัก พิม\n",
            "พิแฟรง รัก พิบูม\n",
            "พิแฟรง รัก น้อนจ้าว\n",
            "พิแฟรง รัก พิไมเคิล\n",
            "พิแฟรง รัก น้ำค้าง\n",
            "พิแฟรง รัก พิม\n",
            "น้ำค้าง รัก พิบูม\n",
            "น้ำค้าง รัก น้อนจ้าว\n",
            "น้ำค้าง รัก พิไมเคิล\n",
            "น้ำค้าง รัก พิแฟรง\n",
            "น้ำค้าง รัก พิม\n",
            "พิม รัก พิบูม\n",
            "พิม รัก น้อนจ้าว\n",
            "พิม รัก พิไมเคิล\n",
            "พิม รัก พิแฟรง\n",
            "พิม รัก น้ำค้าง\n"
          ],
          "name": "stdout"
        }
      ]
    },
    {
      "cell_type": "markdown",
      "metadata": {
        "id": "blAYpolcqPMV"
      },
      "source": [
        "#### ==, !=,>=,<=,<,>"
      ]
    },
    {
      "cell_type": "code",
      "metadata": {
        "colab": {
          "base_uri": "https://localhost:8080/"
        },
        "id": "Ci-qwG-TqPm2",
        "outputId": "196fdf68-e8ab-462b-c5ab-4a437d243081"
      },
      "source": [
        "'พิไมเคิล' == 'พิแฟรง'"
      ],
      "execution_count": 67,
      "outputs": [
        {
          "output_type": "execute_result",
          "data": {
            "text/plain": [
              "False"
            ]
          },
          "metadata": {
            "tags": []
          },
          "execution_count": 67
        }
      ]
    },
    {
      "cell_type": "code",
      "metadata": {
        "colab": {
          "base_uri": "https://localhost:8080/"
        },
        "id": "S0eW2CntqVmq",
        "outputId": "6ddb1d4f-6dc1-45da-941c-a4ce2f1925dd"
      },
      "source": [
        "'พิบูม' != 'พิม'"
      ],
      "execution_count": 68,
      "outputs": [
        {
          "output_type": "execute_result",
          "data": {
            "text/plain": [
              "True"
            ]
          },
          "metadata": {
            "tags": []
          },
          "execution_count": 68
        }
      ]
    },
    {
      "cell_type": "markdown",
      "metadata": {
        "id": "KuIcTogYqgK3"
      },
      "source": [
        "#### หากหลังเงื่อนไข True ถูกต้องจะทำการ print ข้อความออกมาว่า Yes"
      ]
    },
    {
      "cell_type": "code",
      "metadata": {
        "colab": {
          "base_uri": "https://localhost:8080/"
        },
        "id": "Iqfj5nFFqhmO",
        "outputId": "f2355383-5471-474f-c45f-af476a74f8cc"
      },
      "source": [
        "if True:\r\n",
        "    print('Yes')"
      ],
      "execution_count": 69,
      "outputs": [
        {
          "output_type": "stream",
          "text": [
            "Yes\n"
          ],
          "name": "stdout"
        }
      ]
    },
    {
      "cell_type": "code",
      "metadata": {
        "id": "dDD1rZQsqixq"
      },
      "source": [
        "if False:\r\n",
        "    print('No')"
      ],
      "execution_count": 70,
      "outputs": []
    },
    {
      "cell_type": "markdown",
      "metadata": {
        "id": "cspQnFohqkfM"
      },
      "source": [
        "#### หากหลังเงื่อนไข False ไม่ถูกต้องจะไม่ปริ้นข้อความใดๆออกมา\r\n",
        "#### ซึ่งจะต้องใช้เงื่อนไขนี้ จึงจะได้ปริ้นค่าเงื่อนไขนั้นออกมา ดังนี้"
      ]
    },
    {
      "cell_type": "code",
      "metadata": {
        "colab": {
          "base_uri": "https://localhost:8080/"
        },
        "id": "MsO3U1Y4qlGK",
        "outputId": "bbf4b576-f00e-4360-8db6-f02246f9e611"
      },
      "source": [
        "if False:\r\n",
        "    print('Yes')\r\n",
        "else:\r\n",
        "    print('No')"
      ],
      "execution_count": 71,
      "outputs": [
        {
          "output_type": "stream",
          "text": [
            "No\n"
          ],
          "name": "stdout"
        }
      ]
    },
    {
      "cell_type": "markdown",
      "metadata": {
        "id": "kBo46eJGn65H"
      },
      "source": [
        "#HW \r\n",
        "###เขียน function ตัดเกรดโดย input เป็นคะแนน(0-100) , output เป็นเกรด(F-A)\r\n",
        "###input = [1,50,65,90,101,-5,49]"
      ]
    },
    {
      "cell_type": "markdown",
      "metadata": {
        "id": "2JDddMH4pSXL"
      },
      "source": [
        "##### กำหนด\r\n",
        "      ถ้าคะแนนอยู่ระหว่างมากกว่าหรือเท่ากับ  0  แต่น้อยกว่า 50 จะได้เกรด F\r\n",
        "      ถ้าคะแนนอยู่ระหว่างมากกว่าหรือเท่ากับ 50 แต่น้อยกว่า 55 จะได้เกรด D\r\n",
        "      ถ้าคะแนนอยู่ระหว่างมากกว่าหรือเท่ากับ 55 แต่น้อยกว่า 60 จะได้เกรด D+\r\n",
        "      ถ้าคะแนนอยู่ระหว่างมากกว่าหรือเท่ากับ 60 แต่น้อยกว่า 65 จะได้เกรด C\r\n",
        "      ถ้าคะแนนอยู่ระหว่างมากกว่าหรือเท่ากับ 65 แต่น้อยกว่า 70 จะได้เกรด C+\r\n",
        "      ถ้าคะแนนอยู่ระหว่างมากกว่าหรือเท่ากับ 70 แต่น้อยกว่า 75 จะได้เกรด B\r\n",
        "      ถ้าคะแนนอยู่ระหว่างมากกว่าหรือเท่ากับ 75 แต่น้อยกว่า 80 จะได้เกรด B+\r\n",
        "      ถ้าคะแนนอยู่ระหว่างมากกว่าหรือเท่ากับ 80  จะได้เกรด A\r\n",
        "      แต่ว่าค่าคะแนนจะต้องไม่ต่ำกว่า 0 และมากกว่า 100 ไม่งั้นจะเกิด error"
      ]
    },
    {
      "cell_type": "code",
      "metadata": {
        "id": "xvDzcxHntOe4"
      },
      "source": [
        "input = [1,50,65,90,101,-5,49]"
      ],
      "execution_count": 111,
      "outputs": []
    },
    {
      "cell_type": "code",
      "metadata": {
        "id": "TbVd_ET2xrY0",
        "outputId": "6195dcc7-4858-4414-c727-489ee3ca763d",
        "colab": {
          "base_uri": "https://localhost:8080/"
        }
      },
      "source": [
        "#ตรวจจำนวนสมาชิก\r\n",
        "len(input)"
      ],
      "execution_count": 112,
      "outputs": [
        {
          "output_type": "execute_result",
          "data": {
            "text/plain": [
              "7"
            ]
          },
          "metadata": {
            "tags": []
          },
          "execution_count": 112
        }
      ]
    },
    {
      "cell_type": "code",
      "metadata": {
        "id": "-dCVUSxVvbfg"
      },
      "source": [
        "#ทดลอง\r\n",
        "def grade(score): #ห้ามลืมใส่ colon\r\n",
        "   if score>=0 and score<50: \r\n",
        "    print(f' นักศึกษาที่มีคะแนนเท่ากับ {score} เป็นนักศึกษาที่ได้เกรด F') #ปริ้นเป็นคำที่ต้องการให้แสดงผล \r\n",
        "   if score >=50:\r\n",
        "    print(f' นักศึกษาที่มีคะแนนเท่ากับ {score} เป็นนักศึกษาที่ได้เกรด A')\r\n",
        "#ต้องดูเครื่องหมายให้ดี ถ้าเครื่องหมายผิด ค่าที่รันจะเกิดการ error เช่น มากกว่า > น้อยกว่า < มากกว่าเท่ากับ >= น้อยกว่าเท่ากัน <="
      ],
      "execution_count": 113,
      "outputs": []
    },
    {
      "cell_type": "code",
      "metadata": {
        "colab": {
          "base_uri": "https://localhost:8080/"
        },
        "id": "xQhbCmhnwGIs",
        "outputId": "9cd4903a-ef58-422c-db06-9effd85e9e8a"
      },
      "source": [
        "for score in input :\r\n",
        "  grade(score) "
      ],
      "execution_count": 114,
      "outputs": [
        {
          "output_type": "stream",
          "text": [
            " นักศึกษาที่มีคะแนนเท่ากับ 1 เป็นนักศึกษาที่ได้เกรด F\n",
            " นักศึกษาที่มีคะแนนเท่ากับ 50 เป็นนักศึกษาที่ได้เกรด A\n",
            " นักศึกษาที่มีคะแนนเท่ากับ 65 เป็นนักศึกษาที่ได้เกรด A\n",
            " นักศึกษาที่มีคะแนนเท่ากับ 90 เป็นนักศึกษาที่ได้เกรด A\n",
            " นักศึกษาที่มีคะแนนเท่ากับ 101 เป็นนักศึกษาที่ได้เกรด A\n",
            " นักศึกษาที่มีคะแนนเท่ากับ 49 เป็นนักศึกษาที่ได้เกรด F\n"
          ],
          "name": "stdout"
        }
      ]
    },
    {
      "cell_type": "code",
      "metadata": {
        "id": "BQ8wWqpVpTWe"
      },
      "source": [
        "def grade(s): \r\n",
        "   if s >= 0 and s < 50 : \r\n",
        "    print(f' นักศึกษาที่มีคะแนนเท่ากับ {s} เป็นนักศึกษาที่ได้เกรด F')\r\n",
        "   if s >= 50 and s < 55 :\r\n",
        "    print(f' นักศึกษาที่มีคะแนนเท่ากับ {s} เป็นนักศึกษาที่ได้เกรด D')\r\n",
        "   if s >= 55 and s < 60 :\r\n",
        "    print(f' นักศึกษาที่มีคะแนนเท่ากับ {s} เป็นนักศึกษาที่ได้เกรด D+')\r\n",
        "   if s >= 60 and s < 65 :\r\n",
        "    print(f' นักศึกษาที่มีคะแนนเท่ากับ {s} เป็นนักศึกษาที่ได้เกรด C')\r\n",
        "   if s >= 65 and s < 70 :\r\n",
        "    print(f' นักศึกษาที่มีคะแนนเท่ากับ {s} เป็นนักศึกษาที่ได้เกรด C+')\r\n",
        "   if s >= 70 and s < 75 : \r\n",
        "    print(f' นักศึกษาที่มีคะแนนเท่ากับ {s} เป็นนักศึกษาที่ได้เกรด B')\r\n",
        "   if s >= 75 and s < 80 :\r\n",
        "    print(f' นักศึกษาที่มีคะแนนเท่ากับ {s} เป็นนักศึกษาที่ได้เกรด B+')\r\n",
        "   if s >= 80 :\r\n",
        "    print(f' นักศึกษาที่มีคะแนนเท่ากับ {s} เป็นนักศึกษาที่ได้เกรด A')\r\n",
        "   if s < 0 and s > 100 :\r\n",
        "    print(f'error')"
      ],
      "execution_count": 118,
      "outputs": []
    },
    {
      "cell_type": "code",
      "metadata": {
        "colab": {
          "base_uri": "https://localhost:8080/"
        },
        "id": "wn7gwexAt5SA",
        "outputId": "98dad7de-0817-4012-d52a-2aed587c30ec"
      },
      "source": [
        "for s in [1,50,65,90,101,-5,49] :\r\n",
        "  grade(s)"
      ],
      "execution_count": 120,
      "outputs": [
        {
          "output_type": "stream",
          "text": [
            " นักศึกษาที่มีคะแนนเท่ากับ 1 เป็นนักศึกษาที่ได้เกรด F\n",
            " นักศึกษาที่มีคะแนนเท่ากับ 50 เป็นนักศึกษาที่ได้เกรด D\n",
            " นักศึกษาที่มีคะแนนเท่ากับ 65 เป็นนักศึกษาที่ได้เกรด C+\n",
            " นักศึกษาที่มีคะแนนเท่ากับ 90 เป็นนักศึกษาที่ได้เกรด A\n",
            " นักศึกษาที่มีคะแนนเท่ากับ 101 เป็นนักศึกษาที่ได้เกรด A\n",
            " นักศึกษาที่มีคะแนนเท่ากับ 49 เป็นนักศึกษาที่ได้เกรด F\n"
          ],
          "name": "stdout"
        }
      ]
    },
    {
      "cell_type": "code",
      "metadata": {
        "id": "1SAVaPACzFQm"
      },
      "source": [
        "def grade(s): \r\n",
        "   if s >= 0 and s < 50 : \r\n",
        "    print(f' นักศึกษาที่มีคะแนนเท่ากับ {s} เป็นนักศึกษาที่ได้เกรด F')\r\n",
        "   if s >= 50 and s < 55 :\r\n",
        "    print(f' นักศึกษาที่มีคะแนนเท่ากับ {s} เป็นนักศึกษาที่ได้เกรด D')\r\n",
        "   if s >= 55 and s < 60 :\r\n",
        "    print(f' นักศึกษาที่มีคะแนนเท่ากับ {s} เป็นนักศึกษาที่ได้เกรด D+')\r\n",
        "   if s >= 60 and s < 65 :\r\n",
        "    print(f' นักศึกษาที่มีคะแนนเท่ากับ {s} เป็นนักศึกษาที่ได้เกรด C')\r\n",
        "   if s >= 65 and s < 70 :\r\n",
        "    print(f' นักศึกษาที่มีคะแนนเท่ากับ {s} เป็นนักศึกษาที่ได้เกรด C+')\r\n",
        "   if s >= 70 and s < 75 : \r\n",
        "    print(f' นักศึกษาที่มีคะแนนเท่ากับ {s} เป็นนักศึกษาที่ได้เกรด B')\r\n",
        "   if s >= 75 and s < 80 :\r\n",
        "    print(f' นักศึกษาที่มีคะแนนเท่ากับ {s} เป็นนักศึกษาที่ได้เกรด B+')\r\n",
        "   if s >= 80 :\r\n",
        "    print(f' นักศึกษาที่มีคะแนนเท่ากับ {s} เป็นนักศึกษาที่ได้เกรด A')\r\n",
        "   if s < 0 :\r\n",
        "    print(f'error')\r\n",
        "   if s > 100 :\r\n",
        "    print(f'error')\r\n",
        "    #ต้องแยกเงื่อนไขออกมาที่ละข้อ"
      ],
      "execution_count": 121,
      "outputs": []
    },
    {
      "cell_type": "code",
      "metadata": {
        "id": "r9tFhpuHzMbp",
        "outputId": "4487aea7-507d-408c-d9de-922c54e9b957",
        "colab": {
          "base_uri": "https://localhost:8080/"
        }
      },
      "source": [
        "for s in [1,50,65,90,101,-5,49] :\r\n",
        "  grade(s)"
      ],
      "execution_count": 122,
      "outputs": [
        {
          "output_type": "stream",
          "text": [
            " นักศึกษาที่มีคะแนนเท่ากับ 1 เป็นนักศึกษาที่ได้เกรด F\n",
            " นักศึกษาที่มีคะแนนเท่ากับ 50 เป็นนักศึกษาที่ได้เกรด D\n",
            " นักศึกษาที่มีคะแนนเท่ากับ 65 เป็นนักศึกษาที่ได้เกรด C+\n",
            " นักศึกษาที่มีคะแนนเท่ากับ 90 เป็นนักศึกษาที่ได้เกรด A\n",
            " นักศึกษาที่มีคะแนนเท่ากับ 101 เป็นนักศึกษาที่ได้เกรด A\n",
            "error\n",
            "error\n",
            " นักศึกษาที่มีคะแนนเท่ากับ 49 เป็นนักศึกษาที่ได้เกรด F\n"
          ],
          "name": "stdout"
        }
      ]
    }
  ]
}