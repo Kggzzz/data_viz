{
  "nbformat": 4,
  "nbformat_minor": 0,
  "metadata": {
    "colab": {
      "name": "Intro.ipynb",
      "provenance": [],
      "authorship_tag": "ABX9TyPhkHd7jbB/Ze2Gu52L6zFX",
      "include_colab_link": true
    },
    "kernelspec": {
      "name": "python3",
      "display_name": "Python 3"
    }
  },
  "cells": [
    {
      "cell_type": "markdown",
      "metadata": {
        "id": "view-in-github",
        "colab_type": "text"
      },
      "source": [
        "<a href=\"https://colab.research.google.com/github/Kggzzz/data_viz/blob/main/Intro.ipynb\" target=\"_parent\"><img src=\"https://colab.research.google.com/assets/colab-badge.svg\" alt=\"Open In Colab\"/></a>"
      ]
    },
    {
      "cell_type": "markdown",
      "metadata": {
        "id": "3aJODClnMCxV"
      },
      "source": [
        "รัฐพร  ลีนาราชรุ่งเรือง  613021020-4"
      ]
    },
    {
      "cell_type": "markdown",
      "metadata": {
        "id": "CZsP8X1lNTAs"
      },
      "source": [
        "ภาษา Markdown \r\n",
        "\r\n",
        "เป็นภาษาที่มีสัญลักษณ์ต่างให้เราเข้าใจง่าย \r\n",
        "\r\n",
        "###Markdown\r\n",
        "~strike~\r\n"
      ]
    },
    {
      "cell_type": "code",
      "metadata": {
        "colab": {
          "base_uri": "https://localhost:8080/"
        },
        "id": "2X68j4OGLUwl",
        "outputId": "20fdd640-3927-4aaa-ecc2-d733d52dce95"
      },
      "source": [
        "print('รัฐพร')"
      ],
      "execution_count": 1,
      "outputs": [
        {
          "output_type": "stream",
          "text": [
            "รัฐพร\n"
          ],
          "name": "stdout"
        }
      ]
    }
  ]
}