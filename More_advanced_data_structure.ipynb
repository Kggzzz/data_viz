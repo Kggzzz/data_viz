{
  "nbformat": 4,
  "nbformat_minor": 0,
  "metadata": {
    "colab": {
      "name": "More_advanced_data_structure.ipynb",
      "provenance": [],
      "authorship_tag": "ABX9TyO9qZoPLRM2b5tFRh8z4C5B",
      "include_colab_link": true
    },
    "kernelspec": {
      "name": "python3",
      "display_name": "Python 3"
    }
  },
  "cells": [
    {
      "cell_type": "markdown",
      "metadata": {
        "id": "view-in-github",
        "colab_type": "text"
      },
      "source": [
        "<a href=\"https://colab.research.google.com/github/Kggzzz/data_viz/blob/main/More_advanced_data_structure.ipynb\" target=\"_parent\"><img src=\"https://colab.research.google.com/assets/colab-badge.svg\" alt=\"Open In Colab\"/></a>"
      ]
    },
    {
      "cell_type": "markdown",
      "metadata": {
        "id": "hwJpVj_BnMB-"
      },
      "source": [
        "ที่เรียนไปแล้วมี 1 ตัวคือ list หน้าตาประมาณนี้\r\n",
        "\r\n",
        "{แนบรูป}"
      ]
    },
    {
      "cell_type": "markdown",
      "metadata": {
        "id": "9aC2t-IOoask"
      },
      "source": [
        "#Dictionary\r\n",
        "\r\n",
        "สามารถ index เก็บด้วยอะไรก็ได้ ไม่จำเป็นต้องเป็น 0,1,2,3,... พอไม่ได้เก็บด้วยตัวเลขจะทำให้เราไม่รู้ลำดับข้อมูล ทำให้ลำดับหายไป "
      ]
    },
    {
      "cell_type": "code",
      "metadata": {
        "id": "a7GLazAEnLnD"
      },
      "source": [
        "ex_dict = {'a':10,'1':1,'stat':5} #curly bracket ในการบอกว่าเป็น dict\r\n",
        "#ตัวหน้าคือตัวชี้ เวลาในการหาข้อมูล"
      ],
      "execution_count": 1,
      "outputs": []
    },
    {
      "cell_type": "code",
      "metadata": {
        "colab": {
          "base_uri": "https://localhost:8080/"
        },
        "id": "HLJUht39pPK7",
        "outputId": "826eb628-a607-422e-c86b-6badeea18fb1"
      },
      "source": [
        "ex_dict['stat']"
      ],
      "execution_count": 2,
      "outputs": [
        {
          "output_type": "execute_result",
          "data": {
            "text/plain": [
              "5"
            ]
          },
          "metadata": {
            "tags": []
          },
          "execution_count": 2
        }
      ]
    },
    {
      "cell_type": "code",
      "metadata": {
        "id": "_UaT9L8Bp1Hc"
      },
      "source": [
        "ex2_dict = {1:'one',2:'two',3:'three'}"
      ],
      "execution_count": 3,
      "outputs": []
    },
    {
      "cell_type": "code",
      "metadata": {
        "colab": {
          "base_uri": "https://localhost:8080/",
          "height": 34
        },
        "id": "Zgwig_29qAl9",
        "outputId": "1bc03653-e9fc-44f6-ea05-eb429e089918"
      },
      "source": [
        "ex2_dict[2]"
      ],
      "execution_count": 4,
      "outputs": [
        {
          "output_type": "execute_result",
          "data": {
            "application/vnd.google.colaboratory.intrinsic+json": {
              "type": "string"
            },
            "text/plain": [
              "'two'"
            ]
          },
          "metadata": {
            "tags": []
          },
          "execution_count": 4
        }
      ]
    },
    {
      "cell_type": "markdown",
      "metadata": {
        "id": "WI0WjGlJqr58"
      },
      "source": [
        "การเพิ่มสมาชิก"
      ]
    },
    {
      "cell_type": "code",
      "metadata": {
        "id": "DJlPIy1gqt3T"
      },
      "source": [
        "ex2_dict[0] = 'zero' #เพิ่มค่าเข้าไปใน dict "
      ],
      "execution_count": 5,
      "outputs": []
    },
    {
      "cell_type": "code",
      "metadata": {
        "colab": {
          "base_uri": "https://localhost:8080/",
          "height": 34
        },
        "id": "ER5vdReSq4W8",
        "outputId": "41242c48-5d41-42dc-d2fe-ac86f9eafdc7"
      },
      "source": [
        "ex2_dict[0]"
      ],
      "execution_count": 6,
      "outputs": [
        {
          "output_type": "execute_result",
          "data": {
            "application/vnd.google.colaboratory.intrinsic+json": {
              "type": "string"
            },
            "text/plain": [
              "'zero'"
            ]
          },
          "metadata": {
            "tags": []
          },
          "execution_count": 6
        }
      ]
    },
    {
      "cell_type": "markdown",
      "metadata": {
        "id": "0qjS-xpDq63G"
      },
      "source": [
        "คำสั่ง"
      ]
    },
    {
      "cell_type": "code",
      "metadata": {
        "colab": {
          "base_uri": "https://localhost:8080/"
        },
        "id": "3PtaMxgUrFDL",
        "outputId": "a29bd48b-3c52-4971-eb90-19480f30dce3"
      },
      "source": [
        "ex2_dict.keys() #เป็นการดูว่า dict นี้มีตัว index อะไรบ้าง"
      ],
      "execution_count": 7,
      "outputs": [
        {
          "output_type": "execute_result",
          "data": {
            "text/plain": [
              "dict_keys([1, 2, 3, 0])"
            ]
          },
          "metadata": {
            "tags": []
          },
          "execution_count": 7
        }
      ]
    },
    {
      "cell_type": "code",
      "metadata": {
        "colab": {
          "base_uri": "https://localhost:8080/"
        },
        "id": "CBnkmSmlrP3t",
        "outputId": "694d2aee-35dc-40c9-fe18-19d2a6b4798c"
      },
      "source": [
        "#วนลูปเพื่อให้ปิด index ที่ละตัว\r\n",
        "for index in ex2_dict.keys() : #ตัวหน้าเรียก keys ตัวหลังเรียกว่า value\r\n",
        "  print(index)"
      ],
      "execution_count": 8,
      "outputs": [
        {
          "output_type": "stream",
          "text": [
            "1\n",
            "2\n",
            "3\n",
            "0\n"
          ],
          "name": "stdout"
        }
      ]
    },
    {
      "cell_type": "code",
      "metadata": {
        "colab": {
          "base_uri": "https://localhost:8080/"
        },
        "id": "IAHWUWIWsLkk",
        "outputId": "8bb7e814-4e3c-48f5-d975-a5d6aacd58cf"
      },
      "source": [
        "ex2_dict.values()"
      ],
      "execution_count": 9,
      "outputs": [
        {
          "output_type": "execute_result",
          "data": {
            "text/plain": [
              "dict_values(['one', 'two', 'three', 'zero'])"
            ]
          },
          "metadata": {
            "tags": []
          },
          "execution_count": 9
        }
      ]
    },
    {
      "cell_type": "markdown",
      "metadata": {
        "id": "HcXDHtrps7O7"
      },
      "source": [
        "###Dict จะเอาไปใช้ร่วมกับ Dataframe ของ Pandas "
      ]
    },
    {
      "cell_type": "markdown",
      "metadata": {
        "id": "h4ytFmyJuKcc"
      },
      "source": [
        "###Numpy คือ package ที่ทำงานเกี่ยวกับ array ของตัวเลข (ที่มีคนเขียนขึ้นมาแล้วนิยมใช้กัน)\r\n",
        "\r\n",
        "Numpy -> number python"
      ]
    },
    {
      "cell_type": "code",
      "metadata": {
        "id": "rqsVSgj1tESW"
      },
      "source": [
        "import numpy as np\r\n",
        "#วิธีเรียกใช้งาน packet ของ numpy"
      ],
      "execution_count": 10,
      "outputs": []
    },
    {
      "cell_type": "code",
      "metadata": {
        "colab": {
          "base_uri": "https://localhost:8080/"
        },
        "id": "7pN1VGUZu2_7",
        "outputId": "22d1d2e6-9b03-419e-b848-12eb4f0474fa"
      },
      "source": [
        "ex_2d_array = np.array([[5.2,3.0,4.5],[9.1,0.1,0.3]])\r\n",
        "print(ex_2d_array) #เป็นการส้รางเมททริกตัวตนเอง"
      ],
      "execution_count": 43,
      "outputs": [
        {
          "output_type": "stream",
          "text": [
            "[[5.2 3.  4.5]\n",
            " [9.1 0.1 0.3]]\n"
          ],
          "name": "stdout"
        }
      ]
    },
    {
      "cell_type": "markdown",
      "metadata": {
        "id": "XjsehbDKvXAl"
      },
      "source": [
        "การชี้ค่าใน numpy array "
      ]
    },
    {
      "cell_type": "code",
      "metadata": {
        "colab": {
          "base_uri": "https://localhost:8080/"
        },
        "id": "M_eRJsL6vapG",
        "outputId": "cd979c14-9850-47b4-d87c-179ac7a43c12"
      },
      "source": [
        "ex_2d_array[1,2]"
      ],
      "execution_count": 44,
      "outputs": [
        {
          "output_type": "execute_result",
          "data": {
            "text/plain": [
              "0.3"
            ]
          },
          "metadata": {
            "tags": []
          },
          "execution_count": 44
        }
      ]
    },
    {
      "cell_type": "code",
      "metadata": {
        "colab": {
          "base_uri": "https://localhost:8080/"
        },
        "id": "-t43ogrlv12_",
        "outputId": "989fe731-c35e-41ce-b257-101d8ef77df8"
      },
      "source": [
        "list_x = [[5.2,3.0,4.5],[9.1,0.1,0.3]] #การชี้ list\r\n",
        "\r\n",
        "list_x[1][2] #ดูลำดับใน list อยากเห็นตัวไหนก็เลือก เมททริกก่อนแล้วค่อยเลือกตัวในเมททริก"
      ],
      "execution_count": 45,
      "outputs": [
        {
          "output_type": "execute_result",
          "data": {
            "text/plain": [
              "0.3"
            ]
          },
          "metadata": {
            "tags": []
          },
          "execution_count": 45
        }
      ]
    },
    {
      "cell_type": "markdown",
      "metadata": {
        "id": "plBHeL1myfSF"
      },
      "source": [
        "Operations"
      ]
    },
    {
      "cell_type": "code",
      "metadata": {
        "colab": {
          "base_uri": "https://localhost:8080/"
        },
        "id": "YoQDJGKWwSFk",
        "outputId": "98f98354-8557-49dc-b26c-818619552293"
      },
      "source": [
        "ex2_2d_array = np.array([[1,0,0],[0,0,1]])\r\n",
        "print(ex2_2d_array)\r\n",
        "print(ex_2d_array)"
      ],
      "execution_count": 46,
      "outputs": [
        {
          "output_type": "stream",
          "text": [
            "[[1 0 0]\n",
            " [0 0 1]]\n",
            "[[5.2 3.  4.5]\n",
            " [9.1 0.1 0.3]]\n"
          ],
          "name": "stdout"
        }
      ]
    },
    {
      "cell_type": "code",
      "metadata": {
        "colab": {
          "base_uri": "https://localhost:8080/"
        },
        "id": "Yzi_IKu8yyhH",
        "outputId": "a2b062e0-adcb-4b75-80f9-a62602eeb64a"
      },
      "source": [
        "ex_2d_array.shape #ตรวจสอบขนาดของ matrix "
      ],
      "execution_count": 47,
      "outputs": [
        {
          "output_type": "execute_result",
          "data": {
            "text/plain": [
              "(2, 3)"
            ]
          },
          "metadata": {
            "tags": []
          },
          "execution_count": 47
        }
      ]
    },
    {
      "cell_type": "code",
      "metadata": {
        "colab": {
          "base_uri": "https://localhost:8080/"
        },
        "id": "RnOJ87Aoy5yP",
        "outputId": "2433526e-7b6e-4c09-baab-9af85a54b917"
      },
      "source": [
        "ex_2d_array + ex2_2d_array #matrix แถวบวกแถว หลักบวกหลัก"
      ],
      "execution_count": 48,
      "outputs": [
        {
          "output_type": "execute_result",
          "data": {
            "text/plain": [
              "array([[6.2, 3. , 4.5],\n",
              "       [9.1, 0.1, 1.3]])"
            ]
          },
          "metadata": {
            "tags": []
          },
          "execution_count": 48
        }
      ]
    },
    {
      "cell_type": "code",
      "metadata": {
        "colab": {
          "base_uri": "https://localhost:8080/"
        },
        "id": "QcLo4pAt1K9o",
        "outputId": "072a8f5f-a534-4e79-cc70-c8de129df506"
      },
      "source": [
        "ex_2d_array - ex2_2d_array"
      ],
      "execution_count": 49,
      "outputs": [
        {
          "output_type": "execute_result",
          "data": {
            "text/plain": [
              "array([[ 4.2,  3. ,  4.5],\n",
              "       [ 9.1,  0.1, -0.7]])"
            ]
          },
          "metadata": {
            "tags": []
          },
          "execution_count": 49
        }
      ]
    },
    {
      "cell_type": "code",
      "metadata": {
        "colab": {
          "base_uri": "https://localhost:8080/"
        },
        "id": "WyNdAFf4zAr3",
        "outputId": "d8b023b5-69fc-41a2-94c9-a16766a01da7"
      },
      "source": [
        "#ทดลองนำ matrix ที่อยู่ใน list มาบวกกัน\r\n",
        "list_x = [[5.2,3.0,4.5],[9.1,0.1,3.0]]\r\n",
        "list_x2 = [[1,0,0],[0,0,1]]\r\n",
        "\r\n",
        "list_x + list_x2 #list จะต่อกัน "
      ],
      "execution_count": 50,
      "outputs": [
        {
          "output_type": "execute_result",
          "data": {
            "text/plain": [
              "[[5.2, 3.0, 4.5], [9.1, 0.1, 3.0], [1, 0, 0], [0, 0, 1]]"
            ]
          },
          "metadata": {
            "tags": []
          },
          "execution_count": 50
        }
      ]
    },
    {
      "cell_type": "code",
      "metadata": {
        "colab": {
          "base_uri": "https://localhost:8080/"
        },
        "id": "ih8fsl540B7H",
        "outputId": "d14faf29-1108-49e5-c976-460f160c6917"
      },
      "source": [
        "ex_2d_array * ex2_2d_array \r\n",
        "#โดยวิธีการคูณแบบ array จะเป็นการเอาต่ำแหน่งเดียวกันมาคูณกัน"
      ],
      "execution_count": 51,
      "outputs": [
        {
          "output_type": "execute_result",
          "data": {
            "text/plain": [
              "array([[5.2, 0. , 0. ],\n",
              "       [0. , 0. , 0.3]])"
            ]
          },
          "metadata": {
            "tags": []
          },
          "execution_count": 51
        }
      ]
    },
    {
      "cell_type": "markdown",
      "metadata": {
        "id": "tClmLh591NaW"
      },
      "source": [
        "##Matix multiplication (dot product)"
      ]
    },
    {
      "cell_type": "code",
      "metadata": {
        "colab": {
          "base_uri": "https://localhost:8080/"
        },
        "id": "BNtU3IOR1fjn",
        "outputId": "b44d5ed7-eb98-4b58-a58e-1379282f894a"
      },
      "source": [
        "np.dot(ex_2d_array,ex2_2d_array.T) #เราจะ transpote กลับแถวเป็นหลัก 1 ตัวเพื่อให้คูณกันได้\r\n",
        "#matrix คูณกัน แถวคูณหลัก (เงื่อนไขคือหลักของตัวหน้าต้องเท่ากับแถวของตัวหลัง)"
      ],
      "execution_count": 52,
      "outputs": [
        {
          "output_type": "execute_result",
          "data": {
            "text/plain": [
              "array([[5.2, 4.5],\n",
              "       [9.1, 0.3]])"
            ]
          },
          "metadata": {
            "tags": []
          },
          "execution_count": 52
        }
      ]
    },
    {
      "cell_type": "code",
      "metadata": {
        "colab": {
          "base_uri": "https://localhost:8080/"
        },
        "id": "xxj880VN3Phc",
        "outputId": "f54dde0f-9da6-4cc2-af3a-37b642787d45"
      },
      "source": [
        "print(ex_2d_array)\r\n",
        "print(ex2_2d_array.T)"
      ],
      "execution_count": 53,
      "outputs": [
        {
          "output_type": "stream",
          "text": [
            "[[5.2 3.  4.5]\n",
            " [9.1 0.1 0.3]]\n",
            "[[1 0]\n",
            " [0 0]\n",
            " [0 1]]\n"
          ],
          "name": "stdout"
        }
      ]
    },
    {
      "cell_type": "code",
      "metadata": {
        "colab": {
          "base_uri": "https://localhost:8080/"
        },
        "id": "HWndglLh3XKO",
        "outputId": "c79a007b-538b-4940-a933-9c986f1c6876"
      },
      "source": [
        "dot_mat = np.dot(ex_2d_array,ex2_2d_array.T)\r\n",
        "print(dot_mat)"
      ],
      "execution_count": 54,
      "outputs": [
        {
          "output_type": "stream",
          "text": [
            "[[5.2 4.5]\n",
            " [9.1 0.3]]\n"
          ],
          "name": "stdout"
        }
      ]
    },
    {
      "cell_type": "code",
      "metadata": {
        "colab": {
          "base_uri": "https://localhost:8080/"
        },
        "id": "znMbj5kF4Abl",
        "outputId": "19244ebc-438c-424c-ab84-5387f09dfa08"
      },
      "source": [
        "np.linalg.det(dot_mat)"
      ],
      "execution_count": 55,
      "outputs": [
        {
          "output_type": "execute_result",
          "data": {
            "text/plain": [
              "-39.389999999999986"
            ]
          },
          "metadata": {
            "tags": []
          },
          "execution_count": 55
        }
      ]
    },
    {
      "cell_type": "markdown",
      "metadata": {
        "id": "1TpQZsRJ4U3y"
      },
      "source": [
        "Search google -> stackoverflow หรือ web ของ package สำหรับ operations อื่นๆ"
      ]
    },
    {
      "cell_type": "markdown",
      "metadata": {
        "id": "rpB0r3mO5Yxk"
      },
      "source": [
        "Matrix slicing "
      ]
    },
    {
      "cell_type": "code",
      "metadata": {
        "id": "2b0mK5B04JYE"
      },
      "source": [
        ""
      ],
      "execution_count": 55,
      "outputs": []
    },
    {
      "cell_type": "markdown",
      "metadata": {
        "id": "TyKct9rl5NLD"
      },
      "source": [
        "#HW 5 \r\n",
        "###ห้ามใช้ funtion array , numpy "
      ]
    }
  ]
}