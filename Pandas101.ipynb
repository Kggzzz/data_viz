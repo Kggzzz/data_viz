{
  "nbformat": 4,
  "nbformat_minor": 0,
  "metadata": {
    "colab": {
      "name": "Pandas101.ipynb",
      "provenance": [],
      "authorship_tag": "ABX9TyNimeOiyL1rm6Yo2D29SQnA",
      "include_colab_link": true
    },
    "kernelspec": {
      "name": "python3",
      "display_name": "Python 3"
    }
  },
  "cells": [
    {
      "cell_type": "markdown",
      "metadata": {
        "id": "view-in-github",
        "colab_type": "text"
      },
      "source": [
        "<a href=\"https://colab.research.google.com/github/Kggzzz/data_viz/blob/main/Pandas101.ipynb\" target=\"_parent\"><img src=\"https://colab.research.google.com/assets/colab-badge.svg\" alt=\"Open In Colab\"/></a>"
      ]
    },
    {
      "cell_type": "code",
      "metadata": {
        "id": "5c0PEKjAlUlN"
      },
      "source": [
        "import pandas as pd "
      ],
      "execution_count": 1,
      "outputs": []
    },
    {
      "cell_type": "code",
      "metadata": {
        "colab": {
          "base_uri": "https://localhost:8080/"
        },
        "id": "ciDCuWhToiY-",
        "outputId": "d2cf1167-3fcc-49ad-e242-0fed60508f04"
      },
      "source": [
        "from google.colab import drive #เชื่อมต่อกับไดฟ์ของเรา \r\n",
        "drive.mount('/content/drive')"
      ],
      "execution_count": 4,
      "outputs": [
        {
          "output_type": "stream",
          "text": [
            "Mounted at /content/drive\n"
          ],
          "name": "stdout"
        }
      ]
    },
    {
      "cell_type": "code",
      "metadata": {
        "id": "rccaSc1Fq-HX"
      },
      "source": [
        "import os \r\n",
        "path = '/content/drive/My Drive/Data_viz' #กำหนดให้ path คือโฟล์เดอร์Data_vizในไดฟ์ "
      ],
      "execution_count": 5,
      "outputs": []
    },
    {
      "cell_type": "code",
      "metadata": {
        "colab": {
          "base_uri": "https://localhost:8080/"
        },
        "id": "cU3LkBrer4dV",
        "outputId": "e89a0790-5060-48b9-a61f-96f6ba40966a"
      },
      "source": [
        "a = path + '/pm-18-jan-2021.csv' #อีกวิธีในการเชื่อม \r\n",
        "print(a)"
      ],
      "execution_count": 7,
      "outputs": [
        {
          "output_type": "stream",
          "text": [
            "/content/drive/My Drive/Data_viz/pm-18-jan-2021.csv\n"
          ],
          "name": "stdout"
        }
      ]
    },
    {
      "cell_type": "code",
      "metadata": {
        "colab": {
          "base_uri": "https://localhost:8080/"
        },
        "id": "vwU6d9hMruwb",
        "outputId": "3a5861b7-2d4a-4d93-9234-c4eb68e12d75"
      },
      "source": [
        "covid_file_path = os.path.join(path, 'pm-18-jan-2021.csv')\r\n",
        "print(covid_file_path)"
      ],
      "execution_count": 8,
      "outputs": [
        {
          "output_type": "stream",
          "text": [
            "/content/drive/My Drive/Data_viz/pm-18-jan-2021.csv\n"
          ],
          "name": "stdout"
        }
      ]
    },
    {
      "cell_type": "markdown",
      "metadata": {
        "id": "PaZwS-9UtFNe"
      },
      "source": [
        "##Load data to memory"
      ]
    },
    {
      "cell_type": "code",
      "metadata": {
        "colab": {
          "base_uri": "https://localhost:8080/",
          "height": 857
        },
        "id": "7C8HNJdksSDq",
        "outputId": "b6c9183e-e862-482a-d274-1cfdce82f25b"
      },
      "source": [
        "data_covid = pd.read_csv(covid_file_path)\r\n",
        "data_covid"
      ],
      "execution_count": 9,
      "outputs": [
        {
          "output_type": "execute_result",
          "data": {
            "text/html": [
              "<div>\n",
              "<style scoped>\n",
              "    .dataframe tbody tr th:only-of-type {\n",
              "        vertical-align: middle;\n",
              "    }\n",
              "\n",
              "    .dataframe tbody tr th {\n",
              "        vertical-align: top;\n",
              "    }\n",
              "\n",
              "    .dataframe thead th {\n",
              "        text-align: right;\n",
              "    }\n",
              "</style>\n",
              "<table border=\"1\" class=\"dataframe\">\n",
              "  <thead>\n",
              "    <tr style=\"text-align: right;\">\n",
              "      <th></th>\n",
              "      <th>No.</th>\n",
              "      <th>announce_date</th>\n",
              "      <th>notification_date</th>\n",
              "      <th>sex</th>\n",
              "      <th>age</th>\n",
              "      <th>nationality</th>\n",
              "      <th>province_of_isolation</th>\n",
              "      <th>province_of_onset</th>\n",
              "      <th>district_of_onset</th>\n",
              "      <th>risk</th>\n",
              "    </tr>\n",
              "  </thead>\n",
              "  <tbody>\n",
              "    <tr>\n",
              "      <th>0</th>\n",
              "      <td>1</td>\n",
              "      <td>1/12/2020</td>\n",
              "      <td>NaN</td>\n",
              "      <td>หญิง</td>\n",
              "      <td>61.0</td>\n",
              "      <td>China</td>\n",
              "      <td>กรุงเทพมหานคร</td>\n",
              "      <td>กรุงเทพมหานคร</td>\n",
              "      <td>NaN</td>\n",
              "      <td>คนต่างชาติเดินทางมาจากต่างประเทศ</td>\n",
              "    </tr>\n",
              "    <tr>\n",
              "      <th>1</th>\n",
              "      <td>2</td>\n",
              "      <td>1/17/2020</td>\n",
              "      <td>NaN</td>\n",
              "      <td>หญิง</td>\n",
              "      <td>74.0</td>\n",
              "      <td>China</td>\n",
              "      <td>กรุงเทพมหานคร</td>\n",
              "      <td>กรุงเทพมหานคร</td>\n",
              "      <td>NaN</td>\n",
              "      <td>คนต่างชาติเดินทางมาจากต่างประเทศ</td>\n",
              "    </tr>\n",
              "    <tr>\n",
              "      <th>2</th>\n",
              "      <td>3</td>\n",
              "      <td>1/22/2020</td>\n",
              "      <td>NaN</td>\n",
              "      <td>หญิง</td>\n",
              "      <td>73.0</td>\n",
              "      <td>Thailand</td>\n",
              "      <td>นครปฐม</td>\n",
              "      <td>นครปฐม</td>\n",
              "      <td>เมือง</td>\n",
              "      <td>คนต่างชาติเดินทางมาจากต่างประเทศ</td>\n",
              "    </tr>\n",
              "    <tr>\n",
              "      <th>3</th>\n",
              "      <td>4</td>\n",
              "      <td>1/22/2020</td>\n",
              "      <td>NaN</td>\n",
              "      <td>ชาย</td>\n",
              "      <td>68.0</td>\n",
              "      <td>China</td>\n",
              "      <td>กรุงเทพมหานคร</td>\n",
              "      <td>กรุงเทพมหานคร</td>\n",
              "      <td>NaN</td>\n",
              "      <td>คนต่างชาติเดินทางมาจากต่างประเทศ</td>\n",
              "    </tr>\n",
              "    <tr>\n",
              "      <th>4</th>\n",
              "      <td>5</td>\n",
              "      <td>1/24/2020</td>\n",
              "      <td>NaN</td>\n",
              "      <td>หญิง</td>\n",
              "      <td>66.0</td>\n",
              "      <td>China</td>\n",
              "      <td>นนทบุรี</td>\n",
              "      <td>กรุงเทพมหานคร</td>\n",
              "      <td>NaN</td>\n",
              "      <td>คนต่างชาติเดินทางมาจากต่างประเทศ</td>\n",
              "    </tr>\n",
              "    <tr>\n",
              "      <th>...</th>\n",
              "      <td>...</td>\n",
              "      <td>...</td>\n",
              "      <td>...</td>\n",
              "      <td>...</td>\n",
              "      <td>...</td>\n",
              "      <td>...</td>\n",
              "      <td>...</td>\n",
              "      <td>...</td>\n",
              "      <td>...</td>\n",
              "      <td>...</td>\n",
              "    </tr>\n",
              "    <tr>\n",
              "      <th>12418</th>\n",
              "      <td>12419</td>\n",
              "      <td>1/18/2021</td>\n",
              "      <td>1/17/2021</td>\n",
              "      <td>หญิง</td>\n",
              "      <td>28.0</td>\n",
              "      <td>Thailand</td>\n",
              "      <td>สมุทรปราการ</td>\n",
              "      <td>สมุทรปราการ</td>\n",
              "      <td>เมือง</td>\n",
              "      <td>สถานบันเทิง</td>\n",
              "    </tr>\n",
              "    <tr>\n",
              "      <th>12419</th>\n",
              "      <td>12420</td>\n",
              "      <td>1/18/2021</td>\n",
              "      <td>1/17/2021</td>\n",
              "      <td>หญิง</td>\n",
              "      <td>27.0</td>\n",
              "      <td>Thailand</td>\n",
              "      <td>สมุทรปราการ</td>\n",
              "      <td>สมุทรปราการ</td>\n",
              "      <td>เมือง</td>\n",
              "      <td>สัมผัสใกล้ชิดกับผู้ป่วยยืนยันรายก่อนหน้านี้</td>\n",
              "    </tr>\n",
              "    <tr>\n",
              "      <th>12420</th>\n",
              "      <td>12421</td>\n",
              "      <td>1/18/2021</td>\n",
              "      <td>1/17/2021</td>\n",
              "      <td>ชาย</td>\n",
              "      <td>10.0</td>\n",
              "      <td>Thailand</td>\n",
              "      <td>ชลบุรี</td>\n",
              "      <td>ชลบุรี</td>\n",
              "      <td>สัตหีบ</td>\n",
              "      <td>สัมผัสใกล้ชิดกับผู้ป่วยยืนยันรายก่อนหน้านี้</td>\n",
              "    </tr>\n",
              "    <tr>\n",
              "      <th>12421</th>\n",
              "      <td>12422</td>\n",
              "      <td>1/18/2021</td>\n",
              "      <td>1/17/2021</td>\n",
              "      <td>ชาย</td>\n",
              "      <td>52.0</td>\n",
              "      <td>Thailand</td>\n",
              "      <td>ชลบุรี</td>\n",
              "      <td>ชลบุรี</td>\n",
              "      <td>ศรีราชา</td>\n",
              "      <td>Cluster ชลบุรี โรงเบียร์ 90</td>\n",
              "    </tr>\n",
              "    <tr>\n",
              "      <th>12422</th>\n",
              "      <td>12423</td>\n",
              "      <td>1/18/2021</td>\n",
              "      <td>1/17/2021</td>\n",
              "      <td>ชาย</td>\n",
              "      <td>51.0</td>\n",
              "      <td>Thailand</td>\n",
              "      <td>ระยอง</td>\n",
              "      <td>ระยอง</td>\n",
              "      <td>แกลง</td>\n",
              "      <td>สัมผัสใกล้ชิดกับผู้ป่วยยืนยันรายก่อนหน้านี้</td>\n",
              "    </tr>\n",
              "  </tbody>\n",
              "</table>\n",
              "<p>12423 rows × 10 columns</p>\n",
              "</div>"
            ],
            "text/plain": [
              "         No.  ...                                         risk\n",
              "0          1  ...             คนต่างชาติเดินทางมาจากต่างประเทศ\n",
              "1          2  ...             คนต่างชาติเดินทางมาจากต่างประเทศ\n",
              "2          3  ...             คนต่างชาติเดินทางมาจากต่างประเทศ\n",
              "3          4  ...             คนต่างชาติเดินทางมาจากต่างประเทศ\n",
              "4          5  ...             คนต่างชาติเดินทางมาจากต่างประเทศ\n",
              "...      ...  ...                                          ...\n",
              "12418  12419  ...                                  สถานบันเทิง\n",
              "12419  12420  ...  สัมผัสใกล้ชิดกับผู้ป่วยยืนยันรายก่อนหน้านี้\n",
              "12420  12421  ...  สัมผัสใกล้ชิดกับผู้ป่วยยืนยันรายก่อนหน้านี้\n",
              "12421  12422  ...                  Cluster ชลบุรี โรงเบียร์ 90\n",
              "12422  12423  ...  สัมผัสใกล้ชิดกับผู้ป่วยยืนยันรายก่อนหน้านี้\n",
              "\n",
              "[12423 rows x 10 columns]"
            ]
          },
          "metadata": {
            "tags": []
          },
          "execution_count": 9
        }
      ]
    },
    {
      "cell_type": "code",
      "metadata": {
        "id": "K_N9wko4tmD9"
      },
      "source": [
        ""
      ],
      "execution_count": null,
      "outputs": []
    },
    {
      "cell_type": "markdown",
      "metadata": {
        "id": "JFvkvty28Nb8"
      },
      "source": [
        "#HW \r\n",
        "1.คำนวณอายุเฉลี่ยของผู้หญิง และผู้ชายของข้อมูลทั้งหมด\r\n",
        "\r\n",
        "2.คำนวณอายุเฉลี่ยของผู้หญิง และผู้ชายของผู้ป่วยในจังหวัดขอนแก่น"
      ]
    },
    {
      "cell_type": "markdown",
      "metadata": {
        "id": "eAFnGPWA87Ib"
      },
      "source": [
        "3. หาจำนวนผู้ป่วยที่เป็นคนต่างชาติเดินทางมาจากต่างประเทศ "
      ]
    }
  ]
}