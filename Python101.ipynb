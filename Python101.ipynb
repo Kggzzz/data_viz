{
  "nbformat": 4,
  "nbformat_minor": 0,
  "metadata": {
    "colab": {
      "name": "Python101.ipynb",
      "provenance": [],
      "authorship_tag": "ABX9TyPO7mXmX98F64gymxmoFu58",
      "include_colab_link": true
    },
    "kernelspec": {
      "name": "python3",
      "display_name": "Python 3"
    }
  },
  "cells": [
    {
      "cell_type": "markdown",
      "metadata": {
        "id": "view-in-github",
        "colab_type": "text"
      },
      "source": [
        "<a href=\"https://colab.research.google.com/github/Kggzzz/data_viz/blob/main/Python101.ipynb\" target=\"_parent\"><img src=\"https://colab.research.google.com/assets/colab-badge.svg\" alt=\"Open In Colab\"/></a>"
      ]
    },
    {
      "cell_type": "markdown",
      "metadata": {
        "id": "dLhXiIwwNian"
      },
      "source": [
        "#Variables"
      ]
    },
    {
      "cell_type": "code",
      "metadata": {
        "colab": {
          "base_uri": "https://localhost:8080/"
        },
        "id": "hJilkbpGNM_Z",
        "outputId": "91f9511b-f57e-4d43-ebba-01f4f26d6477"
      },
      "source": [
        "3.14159265359"
      ],
      "execution_count": 1,
      "outputs": [
        {
          "output_type": "execute_result",
          "data": {
            "text/plain": [
              "3.14159265359"
            ]
          },
          "metadata": {
            "tags": []
          },
          "execution_count": 1
        }
      ]
    },
    {
      "cell_type": "markdown",
      "metadata": {
        "id": "fYu_gfy_Nyi-"
      },
      "source": [
        "หลักการตั้งชื่อตัวแปรเบื้องต้น\r\n",
        "\r\n",
        "1. ตั้งให้สื่อ\r\n",
        "2. ต้องเป็นภาษาอังกฤษ \r\n",
        "3. ใช้ตัวเลขได้แต่ห้ามขึ้นต้นด้วยตัวเลข \r\n",
        "4. ห้ามเว้นวรรค"
      ]
    },
    {
      "cell_type": "code",
      "metadata": {
        "id": "4M5EjRasN3Vl"
      },
      "source": [
        "pi = 3.14159265359"
      ],
      "execution_count": 2,
      "outputs": []
    },
    {
      "cell_type": "code",
      "metadata": {
        "colab": {
          "base_uri": "https://localhost:8080/"
        },
        "id": "COkdb_37OsC1",
        "outputId": "d6e8309a-9e0f-46e6-9f26-4a5068789b55"
      },
      "source": [
        "pi"
      ],
      "execution_count": 3,
      "outputs": [
        {
          "output_type": "execute_result",
          "data": {
            "text/plain": [
              "3.14159265359"
            ]
          },
          "metadata": {
            "tags": []
          },
          "execution_count": 3
        }
      ]
    },
    {
      "cell_type": "markdown",
      "metadata": {
        "id": "I7VO8bjFN7Se"
      },
      "source": [
        "int : จำนวนเต็ม"
      ]
    },
    {
      "cell_type": "code",
      "metadata": {
        "id": "XNcqMzqoN5Pd"
      },
      "source": [
        "a = 10"
      ],
      "execution_count": 4,
      "outputs": []
    },
    {
      "cell_type": "code",
      "metadata": {
        "colab": {
          "base_uri": "https://localhost:8080/"
        },
        "id": "ClO_BdcZOEL2",
        "outputId": "6e008389-ab83-4922-ea37-53e2686c4566"
      },
      "source": [
        "print(a)"
      ],
      "execution_count": 5,
      "outputs": [
        {
          "output_type": "stream",
          "text": [
            "10\n"
          ],
          "name": "stdout"
        }
      ]
    },
    {
      "cell_type": "markdown",
      "metadata": {
        "id": "i__YFC2HO-Nu"
      },
      "source": [
        "float : จำนวนจริงที่เป็นทศนิยม"
      ]
    },
    {
      "cell_type": "code",
      "metadata": {
        "colab": {
          "base_uri": "https://localhost:8080/"
        },
        "id": "buVIExVgPV40",
        "outputId": "5c322b7f-b19f-4f08-fb34-0af8dd1949f4"
      },
      "source": [
        "b = 10.\r\n",
        "print(b)"
      ],
      "execution_count": 9,
      "outputs": [
        {
          "output_type": "stream",
          "text": [
            "10.0\n"
          ],
          "name": "stdout"
        }
      ]
    },
    {
      "cell_type": "markdown",
      "metadata": {
        "id": "eVI9rFKoPaMt"
      },
      "source": [
        "char : ตัวอักษร (character) \r\n",
        "\r\n",
        "string : ข้อความ (text)"
      ]
    },
    {
      "cell_type": "markdown",
      "metadata": {
        "id": "MN8I6PSQP4l-"
      },
      "source": [
        "-> # hashtag, sharp ใช้สำหรับคอมเม้น"
      ]
    },
    {
      "cell_type": "code",
      "metadata": {
        "colab": {
          "base_uri": "https://localhost:8080/"
        },
        "id": "zsnPZkyCPZaN",
        "outputId": "be78e9b0-b0fc-4139-b6a0-eb64bb57ca76"
      },
      "source": [
        "c = 'รัฐพร' #เราจะบอกว่าตัวแปรเป็นตัวอักษรหรือข้อความโดยการใช้ single quote '_' หรือ double quote \"_\" ล้อมรอบ\r\n",
        "print(c)"
      ],
      "execution_count": 12,
      "outputs": [
        {
          "output_type": "stream",
          "text": [
            "รัฐพร\n"
          ],
          "name": "stdout"
        }
      ]
    },
    {
      "cell_type": "markdown",
      "metadata": {
        "id": "Y2jLcEWFRxmI"
      },
      "source": [
        "ตัวเลขที่เป็น string จะไม่สามารถนำไป +,-,"
      ]
    },
    {
      "cell_type": "markdown",
      "metadata": {
        "id": "njejRNcrPnOu"
      },
      "source": [
        "การเปลี่ยน char เป็น int "
      ]
    },
    {
      "cell_type": "code",
      "metadata": {
        "colab": {
          "base_uri": "https://localhost:8080/"
        },
        "id": "1uMR7ysDPl-S",
        "outputId": "3bdeaea1-4e3d-4672-9117-f28ebbb70d9d"
      },
      "source": [
        "ch = 10\r\n",
        "ch"
      ],
      "execution_count": 15,
      "outputs": [
        {
          "output_type": "execute_result",
          "data": {
            "text/plain": [
              "10"
            ]
          },
          "metadata": {
            "tags": []
          },
          "execution_count": 15
        }
      ]
    },
    {
      "cell_type": "code",
      "metadata": {
        "colab": {
          "base_uri": "https://localhost:8080/"
        },
        "id": "0CogtI9xPwBB",
        "outputId": "53bab69a-4e91-4d69-ac2b-a673c61616a4"
      },
      "source": [
        "int(ch)"
      ],
      "execution_count": 17,
      "outputs": [
        {
          "output_type": "execute_result",
          "data": {
            "text/plain": [
              "10"
            ]
          },
          "metadata": {
            "tags": []
          },
          "execution_count": 17
        }
      ]
    },
    {
      "cell_type": "code",
      "metadata": {
        "colab": {
          "base_uri": "https://localhost:8080/",
          "height": 35
        },
        "id": "SrnhjwCRSWm5",
        "outputId": "391e89fd-5254-453d-bc6b-4b55cc077954"
      },
      "source": [
        "d = '10'\r\n",
        "d"
      ],
      "execution_count": 13,
      "outputs": [
        {
          "output_type": "execute_result",
          "data": {
            "application/vnd.google.colaboratory.intrinsic+json": {
              "type": "string"
            },
            "text/plain": [
              "'10'"
            ]
          },
          "metadata": {
            "tags": []
          },
          "execution_count": 13
        }
      ]
    },
    {
      "cell_type": "markdown",
      "metadata": {
        "id": "oqc9WUBcQej3"
      },
      "source": [
        "##Variable casting (การเปลี่ยนชนิดข้อมูล)"
      ]
    },
    {
      "cell_type": "code",
      "metadata": {
        "colab": {
          "base_uri": "https://localhost:8080/"
        },
        "id": "BTbMQWBBSTim",
        "outputId": "bf11b2d8-5922-4e20-fd90-5c621c7bc931"
      },
      "source": [
        "int(d) + 1"
      ],
      "execution_count": 14,
      "outputs": [
        {
          "output_type": "execute_result",
          "data": {
            "text/plain": [
              "11"
            ]
          },
          "metadata": {
            "tags": []
          },
          "execution_count": 14
        }
      ]
    },
    {
      "cell_type": "code",
      "metadata": {
        "colab": {
          "base_uri": "https://localhost:8080/"
        },
        "id": "bG7aZopASdgR",
        "outputId": "558755a7-3d3c-4a41-d134-d6b1cca6b173"
      },
      "source": [
        "print(a)\r\n",
        "print(float(a))\r\n",
        "print(str(a))"
      ],
      "execution_count": 18,
      "outputs": [
        {
          "output_type": "stream",
          "text": [
            "10\n",
            "10.0\n",
            "10\n"
          ],
          "name": "stdout"
        }
      ]
    },
    {
      "cell_type": "markdown",
      "metadata": {
        "id": "MEUSItfASwXO"
      },
      "source": [
        "#Operation (Operators +,-,*,/,%)"
      ]
    },
    {
      "cell_type": "code",
      "metadata": {
        "colab": {
          "base_uri": "https://localhost:8080/"
        },
        "id": "J2GKp1ZgS6BG",
        "outputId": "198a5e91-ff17-4bf5-ab8c-24b8013b4102"
      },
      "source": [
        "a+b"
      ],
      "execution_count": 19,
      "outputs": [
        {
          "output_type": "execute_result",
          "data": {
            "text/plain": [
              "20.0"
            ]
          },
          "metadata": {
            "tags": []
          },
          "execution_count": 19
        }
      ]
    },
    {
      "cell_type": "code",
      "metadata": {
        "colab": {
          "base_uri": "https://localhost:8080/"
        },
        "id": "PFul_LU-S8yH",
        "outputId": "cc15e174-8f3d-44c6-b8c4-e0267821b494"
      },
      "source": [
        "ab = a+b\r\n",
        "ab"
      ],
      "execution_count": 20,
      "outputs": [
        {
          "output_type": "execute_result",
          "data": {
            "text/plain": [
              "20.0"
            ]
          },
          "metadata": {
            "tags": []
          },
          "execution_count": 20
        }
      ]
    },
    {
      "cell_type": "code",
      "metadata": {
        "colab": {
          "base_uri": "https://localhost:8080/"
        },
        "id": "kKRF6rf2TAy4",
        "outputId": "30003d92-fc53-4912-cf55-bef0457ee8ca"
      },
      "source": [
        "a_b = ab-b\r\n",
        "a_b"
      ],
      "execution_count": 22,
      "outputs": [
        {
          "output_type": "execute_result",
          "data": {
            "text/plain": [
              "10.0"
            ]
          },
          "metadata": {
            "tags": []
          },
          "execution_count": 22
        }
      ]
    },
    {
      "cell_type": "markdown",
      "metadata": {
        "id": "4suFwkKwTVnJ"
      },
      "source": [
        "% คือหมาย modulo"
      ]
    },
    {
      "cell_type": "code",
      "metadata": {
        "colab": {
          "base_uri": "https://localhost:8080/"
        },
        "id": "UwzTqYKSTC-x",
        "outputId": "64ceb26f-0152-473f-c948-8ba6325b518b"
      },
      "source": [
        "5%3"
      ],
      "execution_count": 23,
      "outputs": [
        {
          "output_type": "execute_result",
          "data": {
            "text/plain": [
              "2"
            ]
          },
          "metadata": {
            "tags": []
          },
          "execution_count": 23
        }
      ]
    },
    {
      "cell_type": "code",
      "metadata": {
        "colab": {
          "base_uri": "https://localhost:8080/"
        },
        "id": "vZf3mVouTi0f",
        "outputId": "d211ac0f-ec80-44ad-f63a-c3519d5e1505"
      },
      "source": [
        "7%3"
      ],
      "execution_count": 24,
      "outputs": [
        {
          "output_type": "execute_result",
          "data": {
            "text/plain": [
              "1"
            ]
          },
          "metadata": {
            "tags": []
          },
          "execution_count": 24
        }
      ]
    },
    {
      "cell_type": "markdown",
      "metadata": {
        "id": "_ZWMhDu7TnwO"
      },
      "source": [
        "###คำสั่ง print แบบพิเศษ (การ format string)"
      ]
    },
    {
      "cell_type": "code",
      "metadata": {
        "colab": {
          "base_uri": "https://localhost:8080/"
        },
        "id": "3_TTX72iTlGE",
        "outputId": "e2d17b8b-e92b-4770-a9b7-f70f3737ef28"
      },
      "source": [
        "print('ตัวแปร') #สิ่งที่อยู่ข้างในวงเล็บคือ ตัวแปร และ string"
      ],
      "execution_count": 25,
      "outputs": [
        {
          "output_type": "stream",
          "text": [
            "ตัวแปร\n"
          ],
          "name": "stdout"
        }
      ]
    },
    {
      "cell_type": "code",
      "metadata": {
        "colab": {
          "base_uri": "https://localhost:8080/"
        },
        "id": "Hf-IrMLaUHG6",
        "outputId": "d1688bf2-ca33-437c-9e78-1bab55dd7d87"
      },
      "source": [
        "print(f'% คือการหารเอาเศษ เช่น 7%3 = {7%3}') \r\n",
        "#เพิ่ม f หน้า 'string' และใช้ {} ใส่ code"
      ],
      "execution_count": 28,
      "outputs": [
        {
          "output_type": "stream",
          "text": [
            "% คือการหารเอาเศษ เช่น 7%3 = 1\n"
          ],
          "name": "stdout"
        }
      ]
    },
    {
      "cell_type": "code",
      "metadata": {
        "colab": {
          "base_uri": "https://localhost:8080/"
        },
        "id": "vTPGFl0-V5VK",
        "outputId": "c5779dc5-6ae5-4967-9c9c-30b7d7172219"
      },
      "source": [
        "print(f'% คือการหารเอาเศษ เช่น 7%3 = {7%3} แต่ \\n/ คือการหารปกติ เช่น 7/3 = {7/3}')\r\n",
        "#\\n คือการขึ้นบรรทัดใหม่ ใช้ในการตัด code แต่คอมจะไม่เห็น "
      ],
      "execution_count": 30,
      "outputs": [
        {
          "output_type": "stream",
          "text": [
            "% คือการหารเอาเศษ เช่น 7%3 = 1 แต่ \n",
            "/ คือการหารปกติ เช่น 7/3 = 2.3333333333333335\n"
          ],
          "name": "stdout"
        }
      ]
    },
    {
      "cell_type": "markdown",
      "metadata": {
        "id": "5EVsC8VVZxT5"
      },
      "source": [
        "เพิ่มอีกบรรทัดแสดงวิธีหารเอาส่วน"
      ]
    },
    {
      "cell_type": "code",
      "metadata": {
        "colab": {
          "base_uri": "https://localhost:8080/"
        },
        "id": "x8sScbggXphY",
        "outputId": "6b1ec3b6-9eb5-4d81-edaf-ef1b190eb090"
      },
      "source": [
        "print(f'% คือการหารเอาเศษ เช่น 7%3 = {7%3} แต่ \\n/ คือการหารปกติ เช่น 7/3 = {7/3} และ \\n// คือการหารเอาส่วน เช่น 7//3 = {7//3}')"
      ],
      "execution_count": 34,
      "outputs": [
        {
          "output_type": "stream",
          "text": [
            "% คือการหารเอาเศษ เช่น 7%3 = 1 แต่ \n",
            "/ คือการหารปกติ เช่น 7/3 = 2.3333333333333335 และ \n",
            "// คือการหารเอาส่วน เช่น 7//3 = 2\n"
          ],
          "name": "stdout"
        }
      ]
    },
    {
      "cell_type": "code",
      "metadata": {
        "colab": {
          "base_uri": "https://localhost:8080/"
        },
        "id": "M1uwwjldZ5JE",
        "outputId": "9cee1b1c-a41f-4a26-c2d8-5a7fcf070eba"
      },
      "source": [
        "int(7/3)"
      ],
      "execution_count": 35,
      "outputs": [
        {
          "output_type": "execute_result",
          "data": {
            "text/plain": [
              "2"
            ]
          },
          "metadata": {
            "tags": []
          },
          "execution_count": 35
        }
      ]
    },
    {
      "cell_type": "code",
      "metadata": {
        "colab": {
          "base_uri": "https://localhost:8080/"
        },
        "id": "YRAHwNi4aGta",
        "outputId": "f8579420-f27f-47c0-b3e3-b8a701ec62fb"
      },
      "source": [
        "print(f'% คือการหารเอาเศษ เช่น 7%3 = {7%3} แต่ \\n/ คือการหารปกติ เช่น 7/3 = {7/3} และ \\n// คือการหารเอาส่วน เช่น 7//3 = {7//3} หรือ \\n/ คือการหารเอาส่วนแบบให้int เช่น int(7/3) = {int(7/3)}')"
      ],
      "execution_count": 36,
      "outputs": [
        {
          "output_type": "stream",
          "text": [
            "% คือการหารเอาเศษ เช่น 7%3 = 1 แต่ \n",
            "/ คือการหารปกติ เช่น 7/3 = 2.3333333333333335 และ \n",
            "// คือการหารเอาส่วน เช่น 7//3 = 2 หรือ \n",
            "/ คือการหารเอาส่วนแบบให้int เช่น int(7/3) = 2\n"
          ],
          "name": "stdout"
        }
      ]
    },
    {
      "cell_type": "markdown",
      "metadata": {
        "id": "qsWGL55Lae96"
      },
      "source": [
        "#DATA STRUCTURE (โครงสร้างข้อมูล)\r\n",
        "\r\n",
        "###List คือ การเอาตัวแปรหลายๆตัวมาเรียงกัน\r\n",
        "\r\n",
        "####list สามารถสร้างได้ 2 แบบ"
      ]
    },
    {
      "cell_type": "markdown",
      "metadata": {
        "id": "DfE7aEOpb3Zi"
      },
      "source": [
        "แบบที่ 1 square bucket"
      ]
    },
    {
      "cell_type": "code",
      "metadata": {
        "id": "FcVqbUAubHdp"
      },
      "source": [
        "list_a = []"
      ],
      "execution_count": 37,
      "outputs": []
    },
    {
      "cell_type": "code",
      "metadata": {
        "id": "d-YY3iTbbLUi"
      },
      "source": [
        "list_b = [1,5,'v']"
      ],
      "execution_count": 38,
      "outputs": []
    },
    {
      "cell_type": "code",
      "metadata": {
        "colab": {
          "base_uri": "https://localhost:8080/"
        },
        "id": "I4UA5T0HbOju",
        "outputId": "56ca0ce6-a74b-4083-d246-ca9eaec61594"
      },
      "source": [
        "list_a\r\n",
        "list_b"
      ],
      "execution_count": 39,
      "outputs": [
        {
          "output_type": "execute_result",
          "data": {
            "text/plain": [
              "[1, 5, 'v']"
            ]
          },
          "metadata": {
            "tags": []
          },
          "execution_count": 39
        }
      ]
    },
    {
      "cell_type": "markdown",
      "metadata": {
        "id": "PV6T_v8gcMZI"
      },
      "source": [
        "ลำดับที่อยู่ใน list มีความสำคัญ "
      ]
    },
    {
      "cell_type": "markdown",
      "metadata": {
        "id": "7AxS4Stdb2Iy"
      },
      "source": [
        "แบบที่ 2 "
      ]
    },
    {
      "cell_type": "code",
      "metadata": {
        "colab": {
          "base_uri": "https://localhost:8080/"
        },
        "id": "wBUdaTGubROc",
        "outputId": "b50529ce-b946-4b51-b178-102e00ceb59d"
      },
      "source": [
        "list_c = list()\r\n",
        "list_c"
      ],
      "execution_count": 41,
      "outputs": [
        {
          "output_type": "execute_result",
          "data": {
            "text/plain": [
              "[]"
            ]
          },
          "metadata": {
            "tags": []
          },
          "execution_count": 41
        }
      ]
    },
    {
      "cell_type": "markdown",
      "metadata": {
        "id": "15iscbFFcYkS"
      },
      "source": [
        "####append() เพิ่มสมาชิกใน list"
      ]
    },
    {
      "cell_type": "code",
      "metadata": {
        "colab": {
          "base_uri": "https://localhost:8080/"
        },
        "id": "ibgRG3mecVnm",
        "outputId": "d717baa1-5a68-406f-87ad-ab2c7475d3a2"
      },
      "source": [
        "list_b.append('u')\r\n",
        "list_b"
      ],
      "execution_count": 42,
      "outputs": [
        {
          "output_type": "execute_result",
          "data": {
            "text/plain": [
              "[1, 5, 'v', 'u']"
            ]
          },
          "metadata": {
            "tags": []
          },
          "execution_count": 42
        }
      ]
    },
    {
      "cell_type": "code",
      "metadata": {
        "colab": {
          "base_uri": "https://localhost:8080/",
          "height": 35
        },
        "id": "I94isr7gckUc",
        "outputId": "a43670b2-725f-4cc6-fadc-24e5b090afb9"
      },
      "source": [
        "list_b.pop() #เป็นการดึงตัวที่เราเติมตัวสุดท้ายใน list ออกมา"
      ],
      "execution_count": 43,
      "outputs": [
        {
          "output_type": "execute_result",
          "data": {
            "application/vnd.google.colaboratory.intrinsic+json": {
              "type": "string"
            },
            "text/plain": [
              "'u'"
            ]
          },
          "metadata": {
            "tags": []
          },
          "execution_count": 43
        }
      ]
    },
    {
      "cell_type": "code",
      "metadata": {
        "colab": {
          "base_uri": "https://localhost:8080/"
        },
        "id": "Z4mkGEhCctIJ",
        "outputId": "cd9c4469-fc0f-4bf4-ab1a-c10ecf1e7368"
      },
      "source": [
        "list_b"
      ],
      "execution_count": 44,
      "outputs": [
        {
          "output_type": "execute_result",
          "data": {
            "text/plain": [
              "[1, 5, 'v']"
            ]
          },
          "metadata": {
            "tags": []
          },
          "execution_count": 44
        }
      ]
    },
    {
      "cell_type": "code",
      "metadata": {
        "colab": {
          "base_uri": "https://localhost:8080/"
        },
        "id": "pvrWYi7scx6F",
        "outputId": "2438cae8-b047-45da-fb3a-0aab5a18567f"
      },
      "source": [
        "list_b.append(list_a)\r\n",
        "list_b"
      ],
      "execution_count": 45,
      "outputs": [
        {
          "output_type": "execute_result",
          "data": {
            "text/plain": [
              "[1, 5, 'v', []]"
            ]
          },
          "metadata": {
            "tags": []
          },
          "execution_count": 45
        }
      ]
    },
    {
      "cell_type": "markdown",
      "metadata": {
        "id": "g1QLA2RseCxX"
      },
      "source": [
        "####string >>> list of characetor"
      ]
    },
    {
      "cell_type": "code",
      "metadata": {
        "colab": {
          "base_uri": "https://localhost:8080/",
          "height": 35
        },
        "id": "FgbCfaQUdFEJ",
        "outputId": "ebf517d0-2c2d-4294-fe43-04b28638ae9b"
      },
      "source": [
        "t = 'python is easy'\r\n",
        "t"
      ],
      "execution_count": 46,
      "outputs": [
        {
          "output_type": "execute_result",
          "data": {
            "application/vnd.google.colaboratory.intrinsic+json": {
              "type": "string"
            },
            "text/plain": [
              "'python is easy'"
            ]
          },
          "metadata": {
            "tags": []
          },
          "execution_count": 46
        }
      ]
    },
    {
      "cell_type": "code",
      "metadata": {
        "colab": {
          "base_uri": "https://localhost:8080/"
        },
        "id": "W2LbvlqAdtJk",
        "outputId": "aeb9ec1e-a22a-4c11-c220-75dcaf8ed3d6"
      },
      "source": [
        "len(list_b) #len คือคำสั่งตรวจสอบความยาวของ list (จำนวนสมาชิก)"
      ],
      "execution_count": 47,
      "outputs": [
        {
          "output_type": "execute_result",
          "data": {
            "text/plain": [
              "4"
            ]
          },
          "metadata": {
            "tags": []
          },
          "execution_count": 47
        }
      ]
    },
    {
      "cell_type": "code",
      "metadata": {
        "colab": {
          "base_uri": "https://localhost:8080/"
        },
        "id": "3xkCMcGfd4mT",
        "outputId": "4be475f9-a30c-483b-dc16-0b6554d711fc"
      },
      "source": [
        "len(t)"
      ],
      "execution_count": 48,
      "outputs": [
        {
          "output_type": "execute_result",
          "data": {
            "text/plain": [
              "14"
            ]
          },
          "metadata": {
            "tags": []
          },
          "execution_count": 48
        }
      ]
    },
    {
      "cell_type": "markdown",
      "metadata": {
        "id": "54m0wewMeIJ_"
      },
      "source": [
        "###access a member of list (list and string)\r\n",
        "\r\n",
        "โดยการเริ่ม"
      ]
    },
    {
      "cell_type": "code",
      "metadata": {
        "colab": {
          "base_uri": "https://localhost:8080/",
          "height": 35
        },
        "id": "bo1UZ_ZJerOJ",
        "outputId": "1f866f0a-255a-4332-b324-81911732bb6e"
      },
      "source": [
        "t[1]"
      ],
      "execution_count": 51,
      "outputs": [
        {
          "output_type": "execute_result",
          "data": {
            "application/vnd.google.colaboratory.intrinsic+json": {
              "type": "string"
            },
            "text/plain": [
              "'y'"
            ]
          },
          "metadata": {
            "tags": []
          },
          "execution_count": 51
        }
      ]
    },
    {
      "cell_type": "code",
      "metadata": {
        "colab": {
          "base_uri": "https://localhost:8080/",
          "height": 35
        },
        "id": "c3Pfe4skel1p",
        "outputId": "d9353217-aeb9-4d77-a899-b7c52120e3b1"
      },
      "source": [
        "t[-1]"
      ],
      "execution_count": 52,
      "outputs": [
        {
          "output_type": "execute_result",
          "data": {
            "application/vnd.google.colaboratory.intrinsic+json": {
              "type": "string"
            },
            "text/plain": [
              "'y'"
            ]
          },
          "metadata": {
            "tags": []
          },
          "execution_count": 52
        }
      ]
    },
    {
      "cell_type": "markdown",
      "metadata": {
        "id": "Pk_5VZkEe0IC"
      },
      "source": [
        "### ตัวที่อยู่ข้างใน [] เราจะเรียกว่า index (ตัวชี้)"
      ]
    },
    {
      "cell_type": "code",
      "metadata": {
        "colab": {
          "base_uri": "https://localhost:8080/",
          "height": 35
        },
        "id": "vdrOf4V0eyvy",
        "outputId": "744e085c-886a-4975-efd4-992477292afc"
      },
      "source": [
        "t[-3]"
      ],
      "execution_count": 53,
      "outputs": [
        {
          "output_type": "execute_result",
          "data": {
            "application/vnd.google.colaboratory.intrinsic+json": {
              "type": "string"
            },
            "text/plain": [
              "'a'"
            ]
          },
          "metadata": {
            "tags": []
          },
          "execution_count": 53
        }
      ]
    },
    {
      "cell_type": "markdown",
      "metadata": {
        "id": "-9-zMuAhfwLW"
      },
      "source": [
        "### List slicing สามารถทำได้โดยใช้ colon : [a:]->[a,b)"
      ]
    },
    {
      "cell_type": "code",
      "metadata": {
        "colab": {
          "base_uri": "https://localhost:8080/",
          "height": 52
        },
        "id": "YYOpEt9Xe-Kz",
        "outputId": "962d1bd2-044c-45b3-9117-c205d21a04b0"
      },
      "source": [
        "print(t)\r\n",
        "t[7:9] #ข้างหน้า : คือตัวเริ่มต้น ข้างหลัง : คือตัวสุดท้าย "
      ],
      "execution_count": 56,
      "outputs": [
        {
          "output_type": "stream",
          "text": [
            "python is easy\n"
          ],
          "name": "stdout"
        },
        {
          "output_type": "execute_result",
          "data": {
            "application/vnd.google.colaboratory.intrinsic+json": {
              "type": "string"
            },
            "text/plain": [
              "'is'"
            ]
          },
          "metadata": {
            "tags": []
          },
          "execution_count": 56
        }
      ]
    },
    {
      "cell_type": "markdown",
      "metadata": {
        "id": "vK2TFtLhhEDN"
      },
      "source": [
        "ถ้าเว้นว่างหน้า : หมายความว่า เริ่มตั้งแต่แรก\r\n",
        "\r\n",
        "ถ้าเว้นว่างหลัง : หมายความว่า ไปจนถึงตัวสุดท้าย"
      ]
    },
    {
      "cell_type": "code",
      "metadata": {
        "colab": {
          "base_uri": "https://localhost:8080/"
        },
        "id": "Rkyq9PnZgF5d",
        "outputId": "1b94689e-644d-40c5-d96a-dd6acf568aa4"
      },
      "source": [
        "print(t)\r\n",
        "print(t[:6])\r\n",
        "print(t[10:])\r\n",
        "print(t[-4:])\r\n",
        "print(t[:])"
      ],
      "execution_count": 59,
      "outputs": [
        {
          "output_type": "stream",
          "text": [
            "python is easy\n",
            "python\n",
            "easy\n",
            "easy\n",
            "python is easy\n"
          ],
          "name": "stdout"
        }
      ]
    },
    {
      "cell_type": "markdown",
      "metadata": {
        "id": "zwQeo-Eni1By"
      },
      "source": [
        "เราสามารถเรา list มาต่อกันได้ด้วย + "
      ]
    },
    {
      "cell_type": "code",
      "metadata": {
        "colab": {
          "base_uri": "https://localhost:8080/",
          "height": 35
        },
        "id": "fpY38d2jh0LJ",
        "outputId": "05310dd8-ecd9-44fa-d6a5-cbc6609bf3b3"
      },
      "source": [
        "t + '??'"
      ],
      "execution_count": 60,
      "outputs": [
        {
          "output_type": "execute_result",
          "data": {
            "application/vnd.google.colaboratory.intrinsic+json": {
              "type": "string"
            },
            "text/plain": [
              "'python is easy??'"
            ]
          },
          "metadata": {
            "tags": []
          },
          "execution_count": 60
        }
      ]
    },
    {
      "cell_type": "code",
      "metadata": {
        "id": "be7pnx0ti7gY"
      },
      "source": [
        "t + list_b ##เราไม่สามารถนำ list ไปต่อกับ string ได้"
      ],
      "execution_count": null,
      "outputs": []
    },
    {
      "cell_type": "markdown",
      "metadata": {
        "id": "tct3VLZFjJHa"
      },
      "source": [
        "#### การแบ่ง string ตามสัญลักษณ์ที่กำหนด -> split string"
      ]
    },
    {
      "cell_type": "code",
      "metadata": {
        "colab": {
          "base_uri": "https://localhost:8080/"
        },
        "id": "FbAcHHEmjco6",
        "outputId": "b529ac01-9f6b-4d86-cba4-726754bbbf9b"
      },
      "source": [
        "t.split(' ')"
      ],
      "execution_count": 61,
      "outputs": [
        {
          "output_type": "execute_result",
          "data": {
            "text/plain": [
              "['python', 'is', 'easy']"
            ]
          },
          "metadata": {
            "tags": []
          },
          "execution_count": 61
        }
      ]
    },
    {
      "cell_type": "code",
      "metadata": {
        "id": "dO5aeP3Gjf1x"
      },
      "source": [
        "time = '12:30:15'"
      ],
      "execution_count": 62,
      "outputs": []
    },
    {
      "cell_type": "code",
      "metadata": {
        "colab": {
          "base_uri": "https://localhost:8080/"
        },
        "id": "F69JSm50jjz3",
        "outputId": "26d661bb-e842-4d4e-e42b-bf9724968ef1"
      },
      "source": [
        "time.split(':')"
      ],
      "execution_count": 63,
      "outputs": [
        {
          "output_type": "execute_result",
          "data": {
            "text/plain": [
              "['12', '30', '15']"
            ]
          },
          "metadata": {
            "tags": []
          },
          "execution_count": 63
        }
      ]
    },
    {
      "cell_type": "code",
      "metadata": {
        "id": "kaDvapj9kp6O"
      },
      "source": [
        "t_sp = t.split(' ')\r\n",
        "print(t_sp) "
      ],
      "execution_count": null,
      "outputs": []
    }
  ]
}