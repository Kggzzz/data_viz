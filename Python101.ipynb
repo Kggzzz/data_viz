{
  "nbformat": 4,
  "nbformat_minor": 0,
  "metadata": {
    "colab": {
      "name": "Untitled0.ipynb",
      "provenance": [],
      "authorship_tag": "ABX9TyM7VmqFqSs/AcvAvXm6IhFH",
      "include_colab_link": true
    },
    "kernelspec": {
      "name": "python3",
      "display_name": "Python 3"
    }
  },
  "cells": [
    {
      "cell_type": "markdown",
      "metadata": {
        "id": "view-in-github",
        "colab_type": "text"
      },
      "source": [
        "<a href=\"https://colab.research.google.com/github/Kggzzz/data_viz/blob/main/Python101.ipynb\" target=\"_parent\"><img src=\"https://colab.research.google.com/assets/colab-badge.svg\" alt=\"Open In Colab\"/></a>"
      ]
    },
    {
      "cell_type": "markdown",
      "metadata": {
        "id": "J4W9zrHP13Dx"
      },
      "source": [
        "# Variables\r\n",
        "\r\n",
        "ตัวแปร เก็บข้อมูล 1 ตัว เช่น ตัวเลข ตัวหนังสือ"
      ]
    },
    {
      "cell_type": "code",
      "metadata": {
        "colab": {
          "base_uri": "https://localhost:8080/"
        },
        "id": "J6dNidO31xzn",
        "outputId": "8f3f4a81-8b32-40d7-de4d-fd2cd1d81b2a"
      },
      "source": [
        "3.14159265359"
      ],
      "execution_count": null,
      "outputs": [
        {
          "output_type": "execute_result",
          "data": {
            "text/plain": [
              "3.14159265359"
            ]
          },
          "metadata": {
            "tags": []
          },
          "execution_count": 17
        }
      ]
    },
    {
      "cell_type": "code",
      "metadata": {
        "colab": {
          "base_uri": "https://localhost:8080/"
        },
        "id": "ktQTj04z15uX",
        "outputId": "abf489cf-46b2-48b8-d5e5-ceff5fe069c1"
      },
      "source": [
        "pi = 3.14159265359 #เป็นการตั้งชื่อตัวแปร โดยในที่นี้ใช้ชื่อตัวแปร pi แทนค่าพาย = 3.14159265359\r\n",
        "pi"
      ],
      "execution_count": null,
      "outputs": [
        {
          "output_type": "execute_result",
          "data": {
            "text/plain": [
              "3.14159265359"
            ]
          },
          "metadata": {
            "tags": []
          },
          "execution_count": 18
        }
      ]
    },
    {
      "cell_type": "markdown",
      "metadata": {
        "id": "GPvDhFBI2GjP"
      },
      "source": [
        "### หลักการตั้งชื่อตัวแปรเบื้องต้น\r\n",
        "\r\n",
        "\r\n",
        "1.   ตั้งให้สื่อ\r\n",
        "2.   ภาษาอังกฤษ\r\n",
        "3.   ใช้ตัวเลขได้ แต่ห้ามขึ้นต้นด้วยตัวเลข \r\n",
        "4.   หัวเว้นวรรค"
      ]
    },
    {
      "cell_type": "markdown",
      "metadata": {
        "id": "X7QLL8zK2Sp-"
      },
      "source": [
        "# ชนิดของตัวแปรมี 3 ชนิด"
      ]
    },
    {
      "cell_type": "markdown",
      "metadata": {
        "id": "ZsJa4Vid2PM-"
      },
      "source": [
        "##1) Int : จำนวนเต็ม"
      ]
    },
    {
      "cell_type": "code",
      "metadata": {
        "id": "_XcCRSAQ2I7-"
      },
      "source": [
        "a = 10"
      ],
      "execution_count": null,
      "outputs": []
    },
    {
      "cell_type": "code",
      "metadata": {
        "id": "l7gy87K72at3"
      },
      "source": [
        "a"
      ],
      "execution_count": null,
      "outputs": []
    },
    {
      "cell_type": "markdown",
      "metadata": {
        "id": "j9APNv4O2h1g"
      },
      "source": [
        "##2) Float : จำนวนจริงที่เป็นทศนิยม"
      ]
    },
    {
      "cell_type": "code",
      "metadata": {
        "colab": {
          "base_uri": "https://localhost:8080/"
        },
        "id": "esA_daQj2lI3",
        "outputId": "7b13d871-1a9e-42e1-ea67-4b09224a5b06"
      },
      "source": [
        "b = 10.\r\n",
        "b"
      ],
      "execution_count": null,
      "outputs": [
        {
          "output_type": "execute_result",
          "data": {
            "text/plain": [
              "10.0"
            ]
          },
          "metadata": {
            "tags": []
          },
          "execution_count": 20
        }
      ]
    },
    {
      "cell_type": "markdown",
      "metadata": {
        "id": "DEBZtu852lpm"
      },
      "source": [
        "##3) Char : ข้อความหรือตัวอักษร (String)\r\n",
        "\r\n",
        "-> # hashtag, sharp ใช้สำหรับคอมเม้น "
      ]
    },
    {
      "cell_type": "code",
      "metadata": {
        "colab": {
          "base_uri": "https://localhost:8080/",
          "height": 34
        },
        "id": "YQMPSgY-2w3Z",
        "outputId": "0cff536d-e6bc-4899-b567-954942d330f5"
      },
      "source": [
        "c = 'รัฐพร' #เราจะบอกว่าตัวแปรเป็นตัวอักษรหรือข้อความโดยการใช้ single quote '....' หรือ double quot \"...\" ล้อมรอบ\r\n",
        "c"
      ],
      "execution_count": null,
      "outputs": [
        {
          "output_type": "execute_result",
          "data": {
            "application/vnd.google.colaboratory.intrinsic+json": {
              "type": "string"
            },
            "text/plain": [
              "'รัฐพร'"
            ]
          },
          "metadata": {
            "tags": []
          },
          "execution_count": 21
        }
      ]
    },
    {
      "cell_type": "code",
      "metadata": {
        "colab": {
          "base_uri": "https://localhost:8080/",
          "height": 34
        },
        "id": "TPuwCsS43BKn",
        "outputId": "eba6408c-59ca-4dda-b614-71736b66b22f"
      },
      "source": [
        "d = '10'\r\n",
        "d"
      ],
      "execution_count": null,
      "outputs": [
        {
          "output_type": "execute_result",
          "data": {
            "application/vnd.google.colaboratory.intrinsic+json": {
              "type": "string"
            },
            "text/plain": [
              "'10'"
            ]
          },
          "metadata": {
            "tags": []
          },
          "execution_count": 22
        }
      ]
    },
    {
      "cell_type": "code",
      "metadata": {
        "id": "mzsw60TA3Dn-"
      },
      "source": [
        "#Error \r\n",
        "d + 1 #เราไม่สามารถนำตัวแปรที่เป็น string มา + - x / กับ Int ได้ "
      ],
      "execution_count": null,
      "outputs": []
    },
    {
      "cell_type": "markdown",
      "metadata": {
        "id": "EffprSXS3hVW"
      },
      "source": [
        "#Variable casting (การเปลี่ยนชนิดของข้อมูล"
      ]
    },
    {
      "cell_type": "code",
      "metadata": {
        "colab": {
          "base_uri": "https://localhost:8080/"
        },
        "id": "SQBtoYAB3h4W",
        "outputId": "b71eae9d-edb7-4d19-f85f-998577e4f753"
      },
      "source": [
        "int(d) + 1"
      ],
      "execution_count": null,
      "outputs": [
        {
          "output_type": "execute_result",
          "data": {
            "text/plain": [
              "11"
            ]
          },
          "metadata": {
            "tags": []
          },
          "execution_count": 23
        }
      ]
    },
    {
      "cell_type": "code",
      "metadata": {
        "colab": {
          "base_uri": "https://localhost:8080/"
        },
        "id": "8WfgqoFv3mLA",
        "outputId": "761d6d88-865b-4ceb-b840-1a120312f6a0"
      },
      "source": [
        "print(a)\r\n",
        "print(float(a))\r\n",
        "print(str(a))"
      ],
      "execution_count": null,
      "outputs": [
        {
          "output_type": "stream",
          "text": [
            "10\n",
            "10.0\n",
            "10\n"
          ],
          "name": "stdout"
        }
      ]
    },
    {
      "cell_type": "markdown",
      "metadata": {
        "id": "vGbOyHgk31VX"
      },
      "source": [
        "#Operation (Operators+,-,*,/,%)"
      ]
    },
    {
      "cell_type": "code",
      "metadata": {
        "colab": {
          "base_uri": "https://localhost:8080/"
        },
        "id": "a6bu8KRU32hn",
        "outputId": "47757f47-4779-44c1-bd2f-2de23f2c25a4"
      },
      "source": [
        "a+b"
      ],
      "execution_count": null,
      "outputs": [
        {
          "output_type": "execute_result",
          "data": {
            "text/plain": [
              "20.0"
            ]
          },
          "metadata": {
            "tags": []
          },
          "execution_count": 25
        }
      ]
    },
    {
      "cell_type": "code",
      "metadata": {
        "colab": {
          "base_uri": "https://localhost:8080/"
        },
        "id": "XtLBr9x434e-",
        "outputId": "2b090d70-c2f5-4b2c-f4d3-4490b8984a31"
      },
      "source": [
        "ab = a+b\r\n",
        "print(ab)"
      ],
      "execution_count": null,
      "outputs": [
        {
          "output_type": "stream",
          "text": [
            "20.0\n"
          ],
          "name": "stdout"
        }
      ]
    },
    {
      "cell_type": "markdown",
      "metadata": {
        "id": "EruE04Tn37sm"
      },
      "source": [
        "###% เครื่องหมาย modulo คือการหารเอาเศษ"
      ]
    },
    {
      "cell_type": "code",
      "metadata": {
        "colab": {
          "base_uri": "https://localhost:8080/"
        },
        "id": "CU90Hpr9351n",
        "outputId": "e3694048-6ec0-4fe0-8445-bdf5e197e561"
      },
      "source": [
        "5%3 #เป็นการหารเพื่อเอาเศษ เช่น 5 หาร 3 จะเหลือเศษ 2"
      ],
      "execution_count": null,
      "outputs": [
        {
          "output_type": "execute_result",
          "data": {
            "text/plain": [
              "2"
            ]
          },
          "metadata": {
            "tags": []
          },
          "execution_count": 27
        }
      ]
    },
    {
      "cell_type": "code",
      "metadata": {
        "colab": {
          "base_uri": "https://localhost:8080/"
        },
        "id": "Y660ZiIm4HRK",
        "outputId": "d8c52830-191c-46ae-b767-3181bc36f288"
      },
      "source": [
        "7%3"
      ],
      "execution_count": null,
      "outputs": [
        {
          "output_type": "execute_result",
          "data": {
            "text/plain": [
              "1"
            ]
          },
          "metadata": {
            "tags": []
          },
          "execution_count": 28
        }
      ]
    },
    {
      "cell_type": "markdown",
      "metadata": {
        "id": "lfHnbN_n4NFY"
      },
      "source": [
        "## คำสั่ง print แบบพิเศษ (การ format string)"
      ]
    },
    {
      "cell_type": "code",
      "metadata": {
        "colab": {
          "base_uri": "https://localhost:8080/"
        },
        "id": "j_5EX5jS4Ktb",
        "outputId": "bda5768d-c724-4255-b67a-bf58121c3973"
      },
      "source": [
        "print('ตัวแปร')"
      ],
      "execution_count": null,
      "outputs": [
        {
          "output_type": "stream",
          "text": [
            "ตัวแปร\n"
          ],
          "name": "stdout"
        }
      ]
    },
    {
      "cell_type": "code",
      "metadata": {
        "id": "P7I8yOzo4Tpi"
      },
      "source": [
        "print(f'% คือ การหารเอาเศษ เช่น 7%3 = {7%3}') \r\n",
        "# เพิ่ม f หน้า 'string' และใช้ {} เพื่อใส่ code คำสั่งที่ต้องการว่าจะให้ผลออกมาเป็นยังไง \r\n",
        "# เป็นคำสั่งปริ้นแบบพิเศษที่มีแพทเทิลตามที่เรากำหนด"
      ],
      "execution_count": null,
      "outputs": []
    },
    {
      "cell_type": "markdown",
      "metadata": {
        "id": "Dule13xe42-Y"
      },
      "source": [
        "โจทย์ในห้อง (ลองทำ)  เพิ่มอีกบรรทัด แสดงวิธีการหารเอาส่วน"
      ]
    },
    {
      "cell_type": "code",
      "metadata": {
        "colab": {
          "base_uri": "https://localhost:8080/"
        },
        "id": "66Kj49J34iQw",
        "outputId": "0f8dbc04-80fa-489c-ac2f-13a9fe504a01"
      },
      "source": [
        "print(f'% คือการหารเอาเศษ เช่น 7%3 ={7%3} \\\\\r\n",
        "          แต่ \\n/ คือการหารปกติ เช่น 7/3 = {7/3} \\\\\r\n",
        "          และ \\n // คือการหารเอาส่วน เช่น 7//3 = {7//3} \\\\\r\n",
        "          หรือ\\nใช้ int เพื่อหารเอาส่วน เช่น int(7/3) = {int(7/3)}') \r\n",
        "# \\n คือการขึ้นบรรทัดใหม่\r\n",
        "# ถ้าต้องการเว้นวรรคให้ใช้ \\\\ จะเป็นการตัด code โดยเราจะเห็นแต่คอมจะไม่เห็น"
      ],
      "execution_count": null,
      "outputs": [
        {
          "output_type": "stream",
          "text": [
            "% คือการหารเอาเศษ เช่น 7%3 =1 \\          แต่ \n",
            "/ คือการหารปกติ เช่น 7/3 = 2.3333333333333335 \\          และ \n",
            " // คือการหารเอาส่วน เช่น 7//3 = 2 \\          หรือ\n",
            "ใช้ int เพื่อหารเอาส่วน เช่น int(7/3) = 2\n"
          ],
          "name": "stdout"
        }
      ]
    },
    {
      "cell_type": "code",
      "metadata": {
        "colab": {
          "base_uri": "https://localhost:8080/"
        },
        "id": "IPvrWFbN5Pao",
        "outputId": "3c7b4633-4e3c-45b1-ab36-659af6b89b3c"
      },
      "source": [
        "z = 7/3\r\n",
        "z"
      ],
      "execution_count": null,
      "outputs": [
        {
          "output_type": "execute_result",
          "data": {
            "text/plain": [
              "2.3333333333333335"
            ]
          },
          "metadata": {
            "tags": []
          },
          "execution_count": 31
        }
      ]
    },
    {
      "cell_type": "code",
      "metadata": {
        "colab": {
          "base_uri": "https://localhost:8080/"
        },
        "id": "3SorN5O05Pwy",
        "outputId": "e68d89d2-fb0f-4f3e-888f-8cbcd659a8d1"
      },
      "source": [
        "print(z)\r\n",
        "print(int(z))"
      ],
      "execution_count": null,
      "outputs": [
        {
          "output_type": "stream",
          "text": [
            "2.3333333333333335\n",
            "2\n"
          ],
          "name": "stdout"
        }
      ]
    },
    {
      "cell_type": "markdown",
      "metadata": {
        "id": "I5AhJW2o5Sje"
      },
      "source": [
        "# Data Structure (โครงสร้างข้อมูล)"
      ]
    },
    {
      "cell_type": "markdown",
      "metadata": {
        "id": "ml9cqTKG5X93"
      },
      "source": [
        "##แบบที่1 > square brackets\r\n",
        "### ลำดับที่อยู่ใน list มีความสำคัญ (ลำดับใน list เริ่มจาก 0,1,2)"
      ]
    },
    {
      "cell_type": "code",
      "metadata": {
        "colab": {
          "base_uri": "https://localhost:8080/"
        },
        "id": "2Ad2SXmg5SP3",
        "outputId": "dafa64f9-e13b-4761-b75d-7de7e07dc83f"
      },
      "source": [
        "list_a = [] #ทำการสร้าง list ว่าง ชื่อว่า list_a\r\n",
        "print(list_a)"
      ],
      "execution_count": null,
      "outputs": [
        {
          "output_type": "stream",
          "text": [
            "[]\n"
          ],
          "name": "stdout"
        }
      ]
    },
    {
      "cell_type": "code",
      "metadata": {
        "colab": {
          "base_uri": "https://localhost:8080/"
        },
        "id": "wrqjHdod5vOv",
        "outputId": "5ef37f91-5d79-4c66-f781-7772f08d5736"
      },
      "source": [
        "list_b = [1,5,'v']\r\n",
        "print(list_b)"
      ],
      "execution_count": null,
      "outputs": [
        {
          "output_type": "stream",
          "text": [
            "[1, 5, 'v']\n"
          ],
          "name": "stdout"
        }
      ]
    },
    {
      "cell_type": "code",
      "metadata": {
        "colab": {
          "base_uri": "https://localhost:8080/"
        },
        "id": "kuJK0V0s5yiX",
        "outputId": "6ba08399-552f-4549-b754-ca32f32e7e4e"
      },
      "source": [
        "list_b[1] #ดูสมาชิกที่อยู่ใน list นั้นๆตามลำดับในลิส ที่ต้องการจะดู"
      ],
      "execution_count": null,
      "outputs": [
        {
          "output_type": "execute_result",
          "data": {
            "text/plain": [
              "5"
            ]
          },
          "metadata": {
            "tags": []
          },
          "execution_count": 35
        }
      ]
    },
    {
      "cell_type": "markdown",
      "metadata": {
        "id": "OqLyBxqn5Yjm"
      },
      "source": [
        "#### แบบที่ 2 "
      ]
    },
    {
      "cell_type": "code",
      "metadata": {
        "colab": {
          "base_uri": "https://localhost:8080/"
        },
        "id": "XPNcDrgY5_vv",
        "outputId": "648e9b2d-ccd1-4c5e-cb67-bb860dd03ee4"
      },
      "source": [
        "list_c = list() #ใช้ list_c เป็นลิสว่าง\r\n",
        "print(list_c) "
      ],
      "execution_count": null,
      "outputs": [
        {
          "output_type": "stream",
          "text": [
            "[]\n"
          ],
          "name": "stdout"
        }
      ]
    },
    {
      "cell_type": "markdown",
      "metadata": {
        "id": "026tFR386Kkk"
      },
      "source": [
        "## append() เพิ่มสมาชิกใน list "
      ]
    },
    {
      "cell_type": "code",
      "metadata": {
        "colab": {
          "base_uri": "https://localhost:8080/"
        },
        "id": "KVerhOqF6OqJ",
        "outputId": "dc0b4ace-4105-44a4-80ef-2a0cbef51a99"
      },
      "source": [
        "list_b.append('u') #เป็นการเพิ่มสมาชิกเข้าไปใน list  เช่นต้องการเพิ่ม u เข้าไปใน list_b \r\n",
        "print(list_b)"
      ],
      "execution_count": null,
      "outputs": [
        {
          "output_type": "stream",
          "text": [
            "[1, 5, 'v', 'u']\n"
          ],
          "name": "stdout"
        }
      ]
    },
    {
      "cell_type": "code",
      "metadata": {
        "colab": {
          "base_uri": "https://localhost:8080/",
          "height": 34
        },
        "id": "mIVqFbn76j6o",
        "outputId": "2b9c8cd6-355e-44dc-b63b-9eb431497866"
      },
      "source": [
        "list_b.pop() \r\n",
        "#เป็นดึงสมาชิกสุดท้ายออกจาก list\r\n",
        "#ใช้ดึงสมาชิกเพิ่มเข้าไปออกมาได้  "
      ],
      "execution_count": null,
      "outputs": [
        {
          "output_type": "execute_result",
          "data": {
            "application/vnd.google.colaboratory.intrinsic+json": {
              "type": "string"
            },
            "text/plain": [
              "'u'"
            ]
          },
          "metadata": {
            "tags": []
          },
          "execution_count": 38
        }
      ]
    },
    {
      "cell_type": "code",
      "metadata": {
        "colab": {
          "base_uri": "https://localhost:8080/"
        },
        "id": "5YiePkL-6wLJ",
        "outputId": "078888cb-2b1f-4546-eea5-e270b5b6c62b"
      },
      "source": [
        "list_b"
      ],
      "execution_count": null,
      "outputs": [
        {
          "output_type": "execute_result",
          "data": {
            "text/plain": [
              "[1, 5, 'v']"
            ]
          },
          "metadata": {
            "tags": []
          },
          "execution_count": 39
        }
      ]
    },
    {
      "cell_type": "code",
      "metadata": {
        "colab": {
          "base_uri": "https://localhost:8080/"
        },
        "id": "OYVc1spz6z5w",
        "outputId": "006f4593-a161-4f09-aa47-bfe3cd614979"
      },
      "source": [
        "#เราสามารถเพิ่ม list เข้าไปใน list ได้\r\n",
        "list_b.append(list_b)\r\n",
        "list_b"
      ],
      "execution_count": null,
      "outputs": [
        {
          "output_type": "execute_result",
          "data": {
            "text/plain": [
              "[1, 5, 'v', [...]]"
            ]
          },
          "metadata": {
            "tags": []
          },
          "execution_count": 40
        }
      ]
    },
    {
      "cell_type": "markdown",
      "metadata": {
        "id": "lp3n5oQ06__v"
      },
      "source": [
        "## String > list of characters"
      ]
    },
    {
      "cell_type": "code",
      "metadata": {
        "colab": {
          "base_uri": "https://localhost:8080/",
          "height": 34
        },
        "id": "Epp6dwwy691Z",
        "outputId": "030dc7e8-52a7-4a74-ce1e-64c20ef34d36"
      },
      "source": [
        "t = 'python is easy'\r\n",
        "t"
      ],
      "execution_count": null,
      "outputs": [
        {
          "output_type": "execute_result",
          "data": {
            "application/vnd.google.colaboratory.intrinsic+json": {
              "type": "string"
            },
            "text/plain": [
              "'python is easy'"
            ]
          },
          "metadata": {
            "tags": []
          },
          "execution_count": 41
        }
      ]
    },
    {
      "cell_type": "code",
      "metadata": {
        "colab": {
          "base_uri": "https://localhost:8080/"
        },
        "id": "pr0ZNZKN7CQv",
        "outputId": "734c5985-cff6-45ef-ea86-786f5d140e7c"
      },
      "source": [
        "len(list_b) # len ใช้ตรวจสอบความยาวของ list (จำนวนสมาชิกที่อยู่ใน list นั้นๆ)"
      ],
      "execution_count": null,
      "outputs": [
        {
          "output_type": "execute_result",
          "data": {
            "text/plain": [
              "4"
            ]
          },
          "metadata": {
            "tags": []
          },
          "execution_count": 42
        }
      ]
    },
    {
      "cell_type": "code",
      "metadata": {
        "colab": {
          "base_uri": "https://localhost:8080/"
        },
        "id": "NLvwNs-x7LnB",
        "outputId": "27a350b5-9421-4720-f442-a653a29ea38f"
      },
      "source": [
        "len(t) #len จะนับทุกตัวที่อยู่ใน list รวมถึงเว้นวรรคด้วย"
      ],
      "execution_count": null,
      "outputs": [
        {
          "output_type": "execute_result",
          "data": {
            "text/plain": [
              "14"
            ]
          },
          "metadata": {
            "tags": []
          },
          "execution_count": 43
        }
      ]
    },
    {
      "cell_type": "markdown",
      "metadata": {
        "id": "hRnMFHTY7XaC"
      },
      "source": [
        "## access a member of a list (list and string)\r\n",
        "โดยการเริ่มนับ จะเริ่มนับจาก 0\r\n",
        "\r\n",
        "0 คือ สมาชิกตัวแรก , -1 คือ สมาชิกตัวสุดท้าย"
      ]
    },
    {
      "cell_type": "code",
      "metadata": {
        "colab": {
          "base_uri": "https://localhost:8080/",
          "height": 34
        },
        "id": "vlF5Loka7VTS",
        "outputId": "55179a61-6ea9-484b-8851-e1d9e18bd63a"
      },
      "source": [
        "t[1]"
      ],
      "execution_count": null,
      "outputs": [
        {
          "output_type": "execute_result",
          "data": {
            "application/vnd.google.colaboratory.intrinsic+json": {
              "type": "string"
            },
            "text/plain": [
              "'y'"
            ]
          },
          "metadata": {
            "tags": []
          },
          "execution_count": 44
        }
      ]
    },
    {
      "cell_type": "code",
      "metadata": {
        "colab": {
          "base_uri": "https://localhost:8080/",
          "height": 34
        },
        "id": "2Q64RPlB7dXK",
        "outputId": "7c6ecf2d-5dac-47db-cb62-323d47dde6a6"
      },
      "source": [
        "t[-1]"
      ],
      "execution_count": null,
      "outputs": [
        {
          "output_type": "execute_result",
          "data": {
            "application/vnd.google.colaboratory.intrinsic+json": {
              "type": "string"
            },
            "text/plain": [
              "'y'"
            ]
          },
          "metadata": {
            "tags": []
          },
          "execution_count": 45
        }
      ]
    },
    {
      "cell_type": "code",
      "metadata": {
        "colab": {
          "base_uri": "https://localhost:8080/",
          "height": 34
        },
        "id": "5wGgwaRY7ei7",
        "outputId": "36a03c31-fd28-46a1-c133-d52843ff1634"
      },
      "source": [
        "t[-3]"
      ],
      "execution_count": null,
      "outputs": [
        {
          "output_type": "execute_result",
          "data": {
            "application/vnd.google.colaboratory.intrinsic+json": {
              "type": "string"
            },
            "text/plain": [
              "'a'"
            ]
          },
          "metadata": {
            "tags": []
          },
          "execution_count": 46
        }
      ]
    },
    {
      "cell_type": "markdown",
      "metadata": {
        "id": "jTIadZCT7gAs"
      },
      "source": [
        "ตัวที่อยู่ใน [..] เราเรียกว่า index (ตัวชี้)"
      ]
    },
    {
      "cell_type": "markdown",
      "metadata": {
        "id": "MG5Oupv87nXP"
      },
      "source": [
        "## List slicing คือ การตัด list \r\n",
        "### โดยใช้คำสั่ง [a:b] -> [a,b)"
      ]
    },
    {
      "cell_type": "code",
      "metadata": {
        "colab": {
          "base_uri": "https://localhost:8080/"
        },
        "id": "iVnXaRf97gQP",
        "outputId": "12848834-7cc0-4743-e6cc-2e0b6e8dd974"
      },
      "source": [
        "print(t)\r\n",
        "print(t[7:9]) #ปริ้นตัวที่อยู่ตำแหน่งที่ 7-i โดยไม่เอา 9 "
      ],
      "execution_count": null,
      "outputs": [
        {
          "output_type": "stream",
          "text": [
            "python is easy\n",
            "is\n"
          ],
          "name": "stdout"
        }
      ]
    },
    {
      "cell_type": "markdown",
      "metadata": {
        "id": "toRfQTlP73Fg"
      },
      "source": [
        "ถ้าเว้นว่างหน้า : หมายความว่า หน้า : คือ เลข 0 เริ่มตั้งแต่ตัวเลข\r\n",
        "\r\n",
        "ถ้าเว้นว่างหลัง : หมายความว่า ไปจนถึงตัวสุดท้าย"
      ]
    },
    {
      "cell_type": "code",
      "metadata": {
        "colab": {
          "base_uri": "https://localhost:8080/"
        },
        "id": "DSrUpdx-71YJ",
        "outputId": "5aaaf349-3a9d-4d77-d2b1-de15ac467cf8"
      },
      "source": [
        "print(t)\r\n",
        "print(t[:6])\r\n",
        "print(t[10:])\r\n",
        "print(t[-4:])\r\n",
        "print(t[:])"
      ],
      "execution_count": null,
      "outputs": [
        {
          "output_type": "stream",
          "text": [
            "python is easy\n",
            "python\n",
            "easy\n",
            "easy\n",
            "python is easy\n"
          ],
          "name": "stdout"
        }
      ]
    },
    {
      "cell_type": "markdown",
      "metadata": {
        "id": "aPH0HUCC8FKq"
      },
      "source": [
        "###การเอา list มาต่อกันได้ด้วย ตัว +"
      ]
    },
    {
      "cell_type": "code",
      "metadata": {
        "colab": {
          "base_uri": "https://localhost:8080/",
          "height": 34
        },
        "id": "lI3t5K-Q79E3",
        "outputId": "6f2e3572-150c-4e85-aabf-108761752c08"
      },
      "source": [
        "t + '???' #นำตัวแปร t บวกกับ '???'"
      ],
      "execution_count": null,
      "outputs": [
        {
          "output_type": "execute_result",
          "data": {
            "application/vnd.google.colaboratory.intrinsic+json": {
              "type": "string"
            },
            "text/plain": [
              "'python is easy???'"
            ]
          },
          "metadata": {
            "tags": []
          },
          "execution_count": 49
        }
      ]
    },
    {
      "cell_type": "code",
      "metadata": {
        "id": "qyraZytJ8Ptj"
      },
      "source": [
        "#Error\r\n",
        "t + list_b #ไม่สามารถเอา list ปกติมาต่อกับ string ได้"
      ],
      "execution_count": null,
      "outputs": []
    },
    {
      "cell_type": "code",
      "metadata": {
        "colab": {
          "base_uri": "https://localhost:8080/"
        },
        "id": "52VOTNgJ8WzN",
        "outputId": "0b04f99a-48f9-438b-9147-000dd498c565"
      },
      "source": [
        "list_b + list_b "
      ],
      "execution_count": null,
      "outputs": [
        {
          "output_type": "execute_result",
          "data": {
            "text/plain": [
              "[1, 5, 'v', [1, 5, 'v', [...]], 1, 5, 'v', [1, 5, 'v', [...]]]"
            ]
          },
          "metadata": {
            "tags": []
          },
          "execution_count": 51
        }
      ]
    },
    {
      "cell_type": "markdown",
      "metadata": {
        "id": "ZjXnbdcp8e5L"
      },
      "source": [
        "## การแบ่ง string ตามสัญญาลักษณ์ที่กำหนด -> split sring "
      ]
    },
    {
      "cell_type": "code",
      "metadata": {
        "colab": {
          "base_uri": "https://localhost:8080/"
        },
        "id": "1wzTUMzi8dKP",
        "outputId": "a1071825-e80a-466d-a554-35368793cb92"
      },
      "source": [
        "t.split(' ') \r\n",
        "#เป็นการสมาชิกในลิส \r\n",
        "#ใน t เราแบ่งสมาชิกในลิสโดยกำหนดให้แบ่งตาม ช่องว่าง ' '"
      ],
      "execution_count": null,
      "outputs": [
        {
          "output_type": "execute_result",
          "data": {
            "text/plain": [
              "['python', 'is', 'easy']"
            ]
          },
          "metadata": {
            "tags": []
          },
          "execution_count": 52
        }
      ]
    },
    {
      "cell_type": "code",
      "metadata": {
        "id": "UtuNzx-I8vDZ"
      },
      "source": [
        "time = '12:30:15'"
      ],
      "execution_count": null,
      "outputs": []
    },
    {
      "cell_type": "code",
      "metadata": {
        "colab": {
          "base_uri": "https://localhost:8080/"
        },
        "id": "EnDPCKO-8wnv",
        "outputId": "e1800821-4528-48fb-8c62-af2417c2cfe1"
      },
      "source": [
        "time.split(':') #การแบ่งด้วยสัญลักษณ์ : "
      ],
      "execution_count": null,
      "outputs": [
        {
          "output_type": "execute_result",
          "data": {
            "text/plain": [
              "['12', '30', '15']"
            ]
          },
          "metadata": {
            "tags": []
          },
          "execution_count": 54
        }
      ]
    },
    {
      "cell_type": "code",
      "metadata": {
        "colab": {
          "base_uri": "https://localhost:8080/"
        },
        "id": "nFioOB0G803T",
        "outputId": "4dc6d877-bdd1-491d-862b-8551d976812a"
      },
      "source": [
        "t_sp = t.split(' ')\r\n",
        "print(t_sp)"
      ],
      "execution_count": null,
      "outputs": [
        {
          "output_type": "stream",
          "text": [
            "['python', 'is', 'easy']\n"
          ],
          "name": "stdout"
        }
      ]
    },
    {
      "cell_type": "code",
      "metadata": {
        "colab": {
          "base_uri": "https://localhost:8080/"
        },
        "id": "ccOJuyTd82Ax",
        "outputId": "4fb2ce88-c2ec-47ce-adf3-79268a517c6f"
      },
      "source": [
        "#ถ้าต้องการรวมตัวแปรที่ split กลับไปใช้ .join\r\n",
        "print(':'.join(t_sp))"
      ],
      "execution_count": null,
      "outputs": [
        {
          "output_type": "stream",
          "text": [
            "python:is:easy\n"
          ],
          "name": "stdout"
        }
      ]
    },
    {
      "cell_type": "markdown",
      "metadata": {
        "id": "poLQ1FuK9EeM"
      },
      "source": [
        "# HW คำนวณเวลาเป็นวินาทีของเวลาต่อไปนี้โดยใช้คำสั่ง split() ช่วย (print ออกมาให้สวยงาม)\r\n",
        "\r\n",
        "12:30:15\r\n",
        "\r\n",
        "13:41:07\r\n",
        "\r\n",
        "12:53:15\r\n",
        "\r\n",
        "00:59:25\r\n",
        "\r\n",
        "11:11:11\r\n",
        "\r\n",
        "16:06:09"
      ]
    },
    {
      "cell_type": "code",
      "metadata": {
        "colab": {
          "base_uri": "https://localhost:8080/"
        },
        "id": "1wsGB7-N9IyR",
        "outputId": "1cef465b-5a3a-47dd-ece8-8f42bb44cfe8"
      },
      "source": [
        "#ข้อที่ 1 >> 12:30:15\r\n",
        "\r\n",
        "T1 = '12:30:15'  #กำหนดตัวแปร\r\n",
        "list_1 = T1.split(':') #ทำการแยกสมาชิกโดยใช้ : เป็นการแบ่ง \r\n",
        "hour = int(list_1[0])*3600 #กำหนดใน hour เป็นชั่วโมงโดย 1 ชม.มี 3600 วินาที\r\n",
        "#เปลี่ยน list_1 ช่วงที่ 0 ให้เป็น int เพื่อนำไปคูณกับ 3600 \r\n",
        "minute = int(list_1[1])*60 #กำหนดใน minute เป็นนาทีโดย 1 นาทีมี 60 วินาที\r\n",
        "#เปลี่ยน list_1 ช่วงที่ 1 ให้เป็น int เพื่อนำไปคูณกับ 60 \r\n",
        "second = int(list_1[2]) #กำหนดใน second เป็นวินาที\r\n",
        "#เปลี่ยน list_1 ช่วงที่ 2 ให้เป็น int (ไม่ต้องคุณค่าอะไรเพราะเป้นวินาทีอยู่แล้ว)\r\n",
        "\r\n",
        "print(f'เวลา 12:30:15 เมื่อนำมาคำนวณให้เป็นวินาทีมีค่าเท่ากับ {hour+minute+second} วินาที')"
      ],
      "execution_count": null,
      "outputs": [
        {
          "output_type": "stream",
          "text": [
            "เวลา 12:30:15 เมื่อนำมาคำนวณให้เป็นวินาทีมีค่าเท่ากับ 45015 วินาที\n"
          ],
          "name": "stdout"
        }
      ]
    },
    {
      "cell_type": "markdown",
      "metadata": {
        "id": "mCbeJaIf_Qo6"
      },
      "source": [
        "เพื่อให้ง่ายต่อการคำนวณเป็นวินาทีในข้อต่อไป เราจะให้ ' def '  ในการช่วยจำ function ที่เราสร้างขึ้น เพื่อให้เราสามารถเรียกใช้ fuction มาใช้ง่ายขึ้น"
      ]
    },
    {
      "cell_type": "code",
      "metadata": {
        "id": "Ygu_JMWl_OJ6"
      },
      "source": [
        "def total(t) : #เตือนความจำ ใช้ def ต้องมี : ด้วยโค้ดถึงจะรันได้ \r\n",
        "      list_time = t.split(':')  \r\n",
        "      time = (int(list_time[0])*3600) + (int(list_time[1])*60) + (int(list_time[2]))  \r\n",
        "      total = f'เวลา {t} เมื่อนำมาคำนวณให้เป็นวินาทีมีค่าเท่ากับ {time} วินาที' \r\n",
        "      print(total) #ต้อง print แพทเทินด้วยไม่อย่างงั้นตอนเรียกใช้ฟังค์ชันจะไม่มีค่าขึ้น "
      ],
      "execution_count": null,
      "outputs": []
    },
    {
      "cell_type": "code",
      "metadata": {
        "colab": {
          "base_uri": "https://localhost:8080/"
        },
        "id": "Y1wbmp54AsCd",
        "outputId": "f620bf93-5f66-4e0c-ca07-3106b5412678"
      },
      "source": [
        "#ข้อที่ 2 >> 13:41:07\r\n",
        "total('13:41:07')\r\n",
        "#ข้อที่ 3 >> 12:53:15\r\n",
        "total('12:53:15')\r\n",
        "#ข้อที่ 4 >> 00:59:25\r\n",
        "total('00:59:25')\r\n",
        "#ข้อที่ 5 >> 11:11:11\r\n",
        "total('11:11:11')\r\n",
        "#ข้อที่ 6 >> 16:06:09\r\n",
        "total('16:06:09')"
      ],
      "execution_count": null,
      "outputs": [
        {
          "output_type": "stream",
          "text": [
            "เวลา 13:41:07 เมื่อนำมาคำนวณให้เป็นวินาทีมีค่าเท่ากับ 49267 วินาที\n",
            "เวลา 12:53:15 เมื่อนำมาคำนวณให้เป็นวินาทีมีค่าเท่ากับ 46395 วินาที\n",
            "เวลา 00:59:25 เมื่อนำมาคำนวณให้เป็นวินาทีมีค่าเท่ากับ 3565 วินาที\n",
            "เวลา 11:11:11 เมื่อนำมาคำนวณให้เป็นวินาทีมีค่าเท่ากับ 40271 วินาที\n",
            "เวลา 16:06:09 เมื่อนำมาคำนวณให้เป็นวินาทีมีค่าเท่ากับ 57969 วินาที\n"
          ],
          "name": "stdout"
        }
      ]
    },
    {
      "cell_type": "markdown",
      "metadata": {
        "id": "j4nWdGi8BI0a"
      },
      "source": [
        "#HW ให้สร้าง list ของเวลา \r\n",
        "\r\n",
        "[12:30:15,13:41:07,12:53:15,00:59:25,11:11:11,16:06:09]\r\n",
        "\r\n",
        "แล้ววนลูปเรียกฟังก์ชันคำนวณเป็นวินาที "
      ]
    },
    {
      "cell_type": "code",
      "metadata": {
        "id": "lfEeUIdjBQ74"
      },
      "source": [
        "list_time= ['12:30:15','13:41:07','12:53:15','00:59:25','11:11:11','16:06:09'] #สร้าง list"
      ],
      "execution_count": null,
      "outputs": []
    },
    {
      "cell_type": "code",
      "metadata": {
        "id": "H0nKEaHvBWt5"
      },
      "source": [
        "def Sum(t) :   #เตือนความจำ ใช้ def ต้องมี : ด้วยโค้ดถึงจะรันได้\r\n",
        "      list_time2 = t.split(':')  \r\n",
        "      Sum = (int(list_time2[0])*3600) + (int(list_time2[1])*60) + (int(list_time2[2]))  \r\n",
        "      return Sum "
      ],
      "execution_count": null,
      "outputs": []
    },
    {
      "cell_type": "code",
      "metadata": {
        "colab": {
          "base_uri": "https://localhost:8080/"
        },
        "id": "mh5EvqoPB5yj",
        "outputId": "6da944a7-52b9-4a3b-84eb-9cca4f579f62"
      },
      "source": [
        "for i in list_time :  #เตือนความจำ ใช้ loop ต้องมี : ด้วยโค้ดถึงจะรันได้\r\n",
        "    print(f'เวลา {i} เมื่อนำมาคำนวณให้เป็นวินาทีมีค่าเท่ากับ {Sum(i)} วินาที') #ใช้loopค่าที่ต้องการใส่ต้องแทนเป็น i "
      ],
      "execution_count": null,
      "outputs": [
        {
          "output_type": "stream",
          "text": [
            "เวลา 12:30:15 เมื่อนำมาคำนวณให้เป็นวินาทีมีค่าเท่ากับ 45015 วินาที\n",
            "เวลา 13:41:07 เมื่อนำมาคำนวณให้เป็นวินาทีมีค่าเท่ากับ 49267 วินาที\n",
            "เวลา 12:53:15 เมื่อนำมาคำนวณให้เป็นวินาทีมีค่าเท่ากับ 46395 วินาที\n",
            "เวลา 00:59:25 เมื่อนำมาคำนวณให้เป็นวินาทีมีค่าเท่ากับ 3565 วินาที\n",
            "เวลา 11:11:11 เมื่อนำมาคำนวณให้เป็นวินาทีมีค่าเท่ากับ 40271 วินาที\n",
            "เวลา 16:06:09 เมื่อนำมาคำนวณให้เป็นวินาทีมีค่าเท่ากับ 57969 วินาที\n"
          ],
          "name": "stdout"
        }
      ]
    },
    {
      "cell_type": "markdown",
      "metadata": {
        "id": "P44UIzN3uCHO"
      },
      "source": [
        "##Note\r\n",
        "```list_time = []```   กำหนด list_time ให้เป็น list ว่าง\r\n",
        "\r\n",
        "```for i in [t1, t2, t3, t4, t5, t6]:```  วนลูป เริ่มจาก i ตัวแรกคือ t1 ไปจนถึง\r\n",
        "\r\n",
        "```list_time.append(i)``` ให้เพิ่มค่าที่อยู่ใน i จากตัวแรก ไปจนถึงตัวสุดท้าย เข้าไปใน list_time \r\n",
        "\r\n",
        "```print(list_time)```                        #เมื่อวนลูปเพิ่มค่า i ครบทุกตัวแล้ว ให้แสดงค่าที่อยู่ใน list_tim"
      ]
    }
  ]
}