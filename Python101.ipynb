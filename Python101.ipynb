{
  "nbformat": 4,
  "nbformat_minor": 0,
  "metadata": {
    "colab": {
      "name": "Python101.ipynb",
      "provenance": [],
      "authorship_tag": "ABX9TyPC1VAYxTgIJ8xl2FJZ/Rat",
      "include_colab_link": true
    },
    "kernelspec": {
      "name": "python3",
      "display_name": "Python 3"
    }
  },
  "cells": [
    {
      "cell_type": "markdown",
      "metadata": {
        "id": "view-in-github",
        "colab_type": "text"
      },
      "source": [
        "<a href=\"https://colab.research.google.com/github/Kggzzz/data_viz/blob/main/Python101.ipynb\" target=\"_parent\"><img src=\"https://colab.research.google.com/assets/colab-badge.svg\" alt=\"Open In Colab\"/></a>"
      ]
    },
    {
      "cell_type": "markdown",
      "metadata": {
        "id": "dLhXiIwwNian"
      },
      "source": [
        "#Variables"
      ]
    },
    {
      "cell_type": "code",
      "metadata": {
        "colab": {
          "base_uri": "https://localhost:8080/"
        },
        "id": "hJilkbpGNM_Z",
        "outputId": "6a5d9a64-7f72-45cb-829f-7abc2bb0dcd2"
      },
      "source": [
        "3.14159265359"
      ],
      "execution_count": null,
      "outputs": [
        {
          "output_type": "execute_result",
          "data": {
            "text/plain": [
              "3.14159265359"
            ]
          },
          "metadata": {
            "tags": []
          },
          "execution_count": 1
        }
      ]
    },
    {
      "cell_type": "markdown",
      "metadata": {
        "id": "fYu_gfy_Nyi-"
      },
      "source": [
        "หลักการตั้งชื่อตัวแปรเบื้องต้น\r\n",
        "\r\n",
        "1. ตั้งให้สื่อ\r\n",
        "2. ต้องเป็นภาษาอังกฤษ \r\n",
        "3. ใช้ตัวเลขได้แต่ห้ามขึ้นต้นด้วยตัวเลข \r\n",
        "4. ห้ามเว้นวรรค"
      ]
    },
    {
      "cell_type": "code",
      "metadata": {
        "id": "4M5EjRasN3Vl"
      },
      "source": [
        "pi = 3.14159265359"
      ],
      "execution_count": null,
      "outputs": []
    },
    {
      "cell_type": "code",
      "metadata": {
        "colab": {
          "base_uri": "https://localhost:8080/"
        },
        "id": "COkdb_37OsC1",
        "outputId": "ac1bf0df-e09c-4d73-9e65-511c527a808b"
      },
      "source": [
        "pi"
      ],
      "execution_count": null,
      "outputs": [
        {
          "output_type": "execute_result",
          "data": {
            "text/plain": [
              "3.14159265359"
            ]
          },
          "metadata": {
            "tags": []
          },
          "execution_count": 3
        }
      ]
    },
    {
      "cell_type": "markdown",
      "metadata": {
        "id": "I7VO8bjFN7Se"
      },
      "source": [
        "int : จำนวนเต็ม"
      ]
    },
    {
      "cell_type": "code",
      "metadata": {
        "id": "XNcqMzqoN5Pd"
      },
      "source": [
        "a = 10"
      ],
      "execution_count": null,
      "outputs": []
    },
    {
      "cell_type": "code",
      "metadata": {
        "colab": {
          "base_uri": "https://localhost:8080/"
        },
        "id": "ClO_BdcZOEL2",
        "outputId": "04683d8b-fe5d-444b-bdf6-7cae4478633c"
      },
      "source": [
        "print(a)"
      ],
      "execution_count": null,
      "outputs": [
        {
          "output_type": "stream",
          "text": [
            "10\n"
          ],
          "name": "stdout"
        }
      ]
    },
    {
      "cell_type": "markdown",
      "metadata": {
        "id": "i__YFC2HO-Nu"
      },
      "source": [
        "float : จำนวนจริงที่เป็นทศนิยม"
      ]
    },
    {
      "cell_type": "code",
      "metadata": {
        "colab": {
          "base_uri": "https://localhost:8080/"
        },
        "id": "buVIExVgPV40",
        "outputId": "b63af648-ce15-4206-a526-dca299bdf50c"
      },
      "source": [
        "b = 10.\r\n",
        "print(b)"
      ],
      "execution_count": null,
      "outputs": [
        {
          "output_type": "stream",
          "text": [
            "10.0\n"
          ],
          "name": "stdout"
        }
      ]
    },
    {
      "cell_type": "markdown",
      "metadata": {
        "id": "eVI9rFKoPaMt"
      },
      "source": [
        "char : ตัวอักษร (character) \r\n",
        "\r\n",
        "string : ข้อความ (text)"
      ]
    },
    {
      "cell_type": "markdown",
      "metadata": {
        "id": "MN8I6PSQP4l-"
      },
      "source": [
        "-> # hashtag, sharp ใช้สำหรับคอมเม้น"
      ]
    },
    {
      "cell_type": "code",
      "metadata": {
        "colab": {
          "base_uri": "https://localhost:8080/"
        },
        "id": "zsnPZkyCPZaN",
        "outputId": "1da87885-7c6b-4965-f96f-af41b6f60f1a"
      },
      "source": [
        "c = 'รัฐพร' #เราจะบอกว่าตัวแปรเป็นตัวอักษรหรือข้อความโดยการใช้ single quote '_' หรือ double quote \"_\" ล้อมรอบ\r\n",
        "print(c)"
      ],
      "execution_count": null,
      "outputs": [
        {
          "output_type": "stream",
          "text": [
            "รัฐพร\n"
          ],
          "name": "stdout"
        }
      ]
    },
    {
      "cell_type": "markdown",
      "metadata": {
        "id": "Y2jLcEWFRxmI"
      },
      "source": [
        "ตัวเลขที่เป็น string จะไม่สามารถนำไป +,-,"
      ]
    },
    {
      "cell_type": "markdown",
      "metadata": {
        "id": "njejRNcrPnOu"
      },
      "source": [
        "การเปลี่ยน char เป็น int "
      ]
    },
    {
      "cell_type": "code",
      "metadata": {
        "colab": {
          "base_uri": "https://localhost:8080/"
        },
        "id": "1uMR7ysDPl-S",
        "outputId": "ccc7363a-bb4a-4371-927f-20134d566e02"
      },
      "source": [
        "ch = 10\r\n",
        "ch"
      ],
      "execution_count": null,
      "outputs": [
        {
          "output_type": "execute_result",
          "data": {
            "text/plain": [
              "10"
            ]
          },
          "metadata": {
            "tags": []
          },
          "execution_count": 8
        }
      ]
    },
    {
      "cell_type": "code",
      "metadata": {
        "colab": {
          "base_uri": "https://localhost:8080/"
        },
        "id": "0CogtI9xPwBB",
        "outputId": "6ddbc750-193e-4712-faab-c760e27cf18f"
      },
      "source": [
        "int(ch)"
      ],
      "execution_count": null,
      "outputs": [
        {
          "output_type": "execute_result",
          "data": {
            "text/plain": [
              "10"
            ]
          },
          "metadata": {
            "tags": []
          },
          "execution_count": 9
        }
      ]
    },
    {
      "cell_type": "code",
      "metadata": {
        "colab": {
          "base_uri": "https://localhost:8080/",
          "height": 35
        },
        "id": "SrnhjwCRSWm5",
        "outputId": "7ac92077-86d2-4fbf-aaef-204377d5871d"
      },
      "source": [
        "d = '10'\r\n",
        "d"
      ],
      "execution_count": null,
      "outputs": [
        {
          "output_type": "execute_result",
          "data": {
            "application/vnd.google.colaboratory.intrinsic+json": {
              "type": "string"
            },
            "text/plain": [
              "'10'"
            ]
          },
          "metadata": {
            "tags": []
          },
          "execution_count": 10
        }
      ]
    },
    {
      "cell_type": "markdown",
      "metadata": {
        "id": "oqc9WUBcQej3"
      },
      "source": [
        "##Variable casting (การเปลี่ยนชนิดข้อมูล)"
      ]
    },
    {
      "cell_type": "code",
      "metadata": {
        "colab": {
          "base_uri": "https://localhost:8080/"
        },
        "id": "BTbMQWBBSTim",
        "outputId": "ba89ad4f-45d6-49e4-eac2-90ac136e8074"
      },
      "source": [
        "int(d) + 1"
      ],
      "execution_count": null,
      "outputs": [
        {
          "output_type": "execute_result",
          "data": {
            "text/plain": [
              "11"
            ]
          },
          "metadata": {
            "tags": []
          },
          "execution_count": 11
        }
      ]
    },
    {
      "cell_type": "code",
      "metadata": {
        "colab": {
          "base_uri": "https://localhost:8080/"
        },
        "id": "bG7aZopASdgR",
        "outputId": "5dc90892-805c-43f5-e5bd-6a8f8515b735"
      },
      "source": [
        "print(a)\r\n",
        "print(float(a))\r\n",
        "print(str(a))"
      ],
      "execution_count": null,
      "outputs": [
        {
          "output_type": "stream",
          "text": [
            "10\n",
            "10.0\n",
            "10\n"
          ],
          "name": "stdout"
        }
      ]
    },
    {
      "cell_type": "markdown",
      "metadata": {
        "id": "MEUSItfASwXO"
      },
      "source": [
        "#Operation (Operators +,-,*,/,%)"
      ]
    },
    {
      "cell_type": "code",
      "metadata": {
        "colab": {
          "base_uri": "https://localhost:8080/"
        },
        "id": "J2GKp1ZgS6BG",
        "outputId": "cb01a72e-1167-4283-8a71-5841e136022d"
      },
      "source": [
        "a+b"
      ],
      "execution_count": null,
      "outputs": [
        {
          "output_type": "execute_result",
          "data": {
            "text/plain": [
              "20.0"
            ]
          },
          "metadata": {
            "tags": []
          },
          "execution_count": 13
        }
      ]
    },
    {
      "cell_type": "code",
      "metadata": {
        "colab": {
          "base_uri": "https://localhost:8080/"
        },
        "id": "PFul_LU-S8yH",
        "outputId": "1d9fcee7-0218-46d0-f61d-0a375ab53a00"
      },
      "source": [
        "ab = a+b\r\n",
        "ab"
      ],
      "execution_count": null,
      "outputs": [
        {
          "output_type": "execute_result",
          "data": {
            "text/plain": [
              "20.0"
            ]
          },
          "metadata": {
            "tags": []
          },
          "execution_count": 14
        }
      ]
    },
    {
      "cell_type": "code",
      "metadata": {
        "colab": {
          "base_uri": "https://localhost:8080/"
        },
        "id": "kKRF6rf2TAy4",
        "outputId": "c0f8a5c5-806f-42ca-a835-523ac11e8107"
      },
      "source": [
        "a_b = ab-b\r\n",
        "a_b"
      ],
      "execution_count": null,
      "outputs": [
        {
          "output_type": "execute_result",
          "data": {
            "text/plain": [
              "10.0"
            ]
          },
          "metadata": {
            "tags": []
          },
          "execution_count": 15
        }
      ]
    },
    {
      "cell_type": "markdown",
      "metadata": {
        "id": "4suFwkKwTVnJ"
      },
      "source": [
        "% คือหมาย modulo"
      ]
    },
    {
      "cell_type": "code",
      "metadata": {
        "colab": {
          "base_uri": "https://localhost:8080/"
        },
        "id": "UwzTqYKSTC-x",
        "outputId": "33418ac1-a420-4f4e-d1e6-691950bb0ef5"
      },
      "source": [
        "5%3"
      ],
      "execution_count": null,
      "outputs": [
        {
          "output_type": "execute_result",
          "data": {
            "text/plain": [
              "2"
            ]
          },
          "metadata": {
            "tags": []
          },
          "execution_count": 16
        }
      ]
    },
    {
      "cell_type": "code",
      "metadata": {
        "colab": {
          "base_uri": "https://localhost:8080/"
        },
        "id": "vZf3mVouTi0f",
        "outputId": "5058a120-6a76-4d8f-87e3-152f2e52bbb8"
      },
      "source": [
        "7%3"
      ],
      "execution_count": null,
      "outputs": [
        {
          "output_type": "execute_result",
          "data": {
            "text/plain": [
              "1"
            ]
          },
          "metadata": {
            "tags": []
          },
          "execution_count": 17
        }
      ]
    },
    {
      "cell_type": "markdown",
      "metadata": {
        "id": "_ZWMhDu7TnwO"
      },
      "source": [
        "###คำสั่ง print แบบพิเศษ (การ format string)"
      ]
    },
    {
      "cell_type": "code",
      "metadata": {
        "colab": {
          "base_uri": "https://localhost:8080/"
        },
        "id": "3_TTX72iTlGE",
        "outputId": "49d77521-8009-4740-f816-8ef8c34c7d00"
      },
      "source": [
        "print('ตัวแปร') #สิ่งที่อยู่ข้างในวงเล็บคือ ตัวแปร และ string"
      ],
      "execution_count": null,
      "outputs": [
        {
          "output_type": "stream",
          "text": [
            "ตัวแปร\n"
          ],
          "name": "stdout"
        }
      ]
    },
    {
      "cell_type": "code",
      "metadata": {
        "colab": {
          "base_uri": "https://localhost:8080/"
        },
        "id": "Hf-IrMLaUHG6",
        "outputId": "0a0bdebe-3c3d-4d26-dbb9-f6589acbbc3e"
      },
      "source": [
        "print(f'% คือการหารเอาเศษ เช่น 7%3 = {7%3}') \r\n",
        "#เพิ่ม f หน้า 'string' และใช้ {} ใส่ code"
      ],
      "execution_count": null,
      "outputs": [
        {
          "output_type": "stream",
          "text": [
            "% คือการหารเอาเศษ เช่น 7%3 = 1\n"
          ],
          "name": "stdout"
        }
      ]
    },
    {
      "cell_type": "code",
      "metadata": {
        "colab": {
          "base_uri": "https://localhost:8080/"
        },
        "id": "vTPGFl0-V5VK",
        "outputId": "8f3c0796-89c9-443d-d5c6-33c500b15195"
      },
      "source": [
        "print(f'% คือการหารเอาเศษ เช่น 7%3 = {7%3} แต่ \\n/ คือการหารปกติ เช่น 7/3 = {7/3}')\r\n",
        "#\\n คือการขึ้นบรรทัดใหม่ ใช้ในการตัด code แต่คอมจะไม่เห็น "
      ],
      "execution_count": null,
      "outputs": [
        {
          "output_type": "stream",
          "text": [
            "% คือการหารเอาเศษ เช่น 7%3 = 1 แต่ \n",
            "/ คือการหารปกติ เช่น 7/3 = 2.3333333333333335\n"
          ],
          "name": "stdout"
        }
      ]
    },
    {
      "cell_type": "markdown",
      "metadata": {
        "id": "5EVsC8VVZxT5"
      },
      "source": [
        "เพิ่มอีกบรรทัดแสดงวิธีหารเอาส่วน"
      ]
    },
    {
      "cell_type": "code",
      "metadata": {
        "colab": {
          "base_uri": "https://localhost:8080/"
        },
        "id": "x8sScbggXphY",
        "outputId": "cf9f0540-e7a5-4e61-a9a6-f3cb6de5e2b6"
      },
      "source": [
        "print(f'% คือการหารเอาเศษ เช่น 7%3 = {7%3} แต่ \\n/ คือการหารปกติ เช่น 7/3 = {7/3} และ \\n// คือการหารเอาส่วน เช่น 7//3 = {7//3}')"
      ],
      "execution_count": null,
      "outputs": [
        {
          "output_type": "stream",
          "text": [
            "% คือการหารเอาเศษ เช่น 7%3 = 1 แต่ \n",
            "/ คือการหารปกติ เช่น 7/3 = 2.3333333333333335 และ \n",
            "// คือการหารเอาส่วน เช่น 7//3 = 2\n"
          ],
          "name": "stdout"
        }
      ]
    },
    {
      "cell_type": "code",
      "metadata": {
        "colab": {
          "base_uri": "https://localhost:8080/"
        },
        "id": "M1uwwjldZ5JE",
        "outputId": "ae3c4bc6-9a65-4c8e-dc73-0419bf1b32c1"
      },
      "source": [
        "int(7/3)"
      ],
      "execution_count": null,
      "outputs": [
        {
          "output_type": "execute_result",
          "data": {
            "text/plain": [
              "2"
            ]
          },
          "metadata": {
            "tags": []
          },
          "execution_count": 22
        }
      ]
    },
    {
      "cell_type": "code",
      "metadata": {
        "colab": {
          "base_uri": "https://localhost:8080/"
        },
        "id": "YRAHwNi4aGta",
        "outputId": "c5dd72ef-5fc2-4cbb-e3c9-9f05927e7325"
      },
      "source": [
        "print(f'% คือการหารเอาเศษ เช่น 7%3 = {7%3} แต่ \\n/ คือการหารปกติ เช่น 7/3 = {7/3} และ \\n// คือการหารเอาส่วน เช่น 7//3 = {7//3} หรือ \\n/ คือการหารเอาส่วนแบบให้int เช่น int(7/3) = {int(7/3)}')"
      ],
      "execution_count": null,
      "outputs": [
        {
          "output_type": "stream",
          "text": [
            "% คือการหารเอาเศษ เช่น 7%3 = 1 แต่ \n",
            "/ คือการหารปกติ เช่น 7/3 = 2.3333333333333335 และ \n",
            "// คือการหารเอาส่วน เช่น 7//3 = 2 หรือ \n",
            "/ คือการหารเอาส่วนแบบให้int เช่น int(7/3) = 2\n"
          ],
          "name": "stdout"
        }
      ]
    },
    {
      "cell_type": "markdown",
      "metadata": {
        "id": "qsWGL55Lae96"
      },
      "source": [
        "#DATA STRUCTURE (โครงสร้างข้อมูล)\r\n",
        "\r\n",
        "###List คือ การเอาตัวแปรหลายๆตัวมาเรียงกัน\r\n",
        "\r\n",
        "####list สามารถสร้างได้ 2 แบบ"
      ]
    },
    {
      "cell_type": "markdown",
      "metadata": {
        "id": "DfE7aEOpb3Zi"
      },
      "source": [
        "แบบที่ 1 square bucket"
      ]
    },
    {
      "cell_type": "code",
      "metadata": {
        "id": "FcVqbUAubHdp"
      },
      "source": [
        "list_a = []"
      ],
      "execution_count": null,
      "outputs": []
    },
    {
      "cell_type": "code",
      "metadata": {
        "id": "d-YY3iTbbLUi"
      },
      "source": [
        "list_b = [1,5,'v']"
      ],
      "execution_count": null,
      "outputs": []
    },
    {
      "cell_type": "code",
      "metadata": {
        "colab": {
          "base_uri": "https://localhost:8080/"
        },
        "id": "I4UA5T0HbOju",
        "outputId": "041dc302-7cc0-4b75-f484-d13a484f7bd4"
      },
      "source": [
        "list_a\r\n",
        "list_b"
      ],
      "execution_count": null,
      "outputs": [
        {
          "output_type": "execute_result",
          "data": {
            "text/plain": [
              "[1, 5, 'v']"
            ]
          },
          "metadata": {
            "tags": []
          },
          "execution_count": 26
        }
      ]
    },
    {
      "cell_type": "markdown",
      "metadata": {
        "id": "PV6T_v8gcMZI"
      },
      "source": [
        "ลำดับที่อยู่ใน list มีความสำคัญ "
      ]
    },
    {
      "cell_type": "markdown",
      "metadata": {
        "id": "7AxS4Stdb2Iy"
      },
      "source": [
        "แบบที่ 2 "
      ]
    },
    {
      "cell_type": "code",
      "metadata": {
        "colab": {
          "base_uri": "https://localhost:8080/"
        },
        "id": "wBUdaTGubROc",
        "outputId": "bb9c6631-a1c1-4eb6-d596-2e26444e0c92"
      },
      "source": [
        "list_c = list()\r\n",
        "list_c"
      ],
      "execution_count": null,
      "outputs": [
        {
          "output_type": "execute_result",
          "data": {
            "text/plain": [
              "[]"
            ]
          },
          "metadata": {
            "tags": []
          },
          "execution_count": 27
        }
      ]
    },
    {
      "cell_type": "markdown",
      "metadata": {
        "id": "15iscbFFcYkS"
      },
      "source": [
        "####append() เพิ่มสมาชิกใน list"
      ]
    },
    {
      "cell_type": "code",
      "metadata": {
        "colab": {
          "base_uri": "https://localhost:8080/"
        },
        "id": "ibgRG3mecVnm",
        "outputId": "0bfb8bba-f6c3-43dd-b8a8-192745996dc9"
      },
      "source": [
        "list_b.append('u')\r\n",
        "list_b"
      ],
      "execution_count": null,
      "outputs": [
        {
          "output_type": "execute_result",
          "data": {
            "text/plain": [
              "[1, 5, 'v', 'u']"
            ]
          },
          "metadata": {
            "tags": []
          },
          "execution_count": 28
        }
      ]
    },
    {
      "cell_type": "code",
      "metadata": {
        "colab": {
          "base_uri": "https://localhost:8080/",
          "height": 35
        },
        "id": "I94isr7gckUc",
        "outputId": "89cf24a3-473e-4ca8-eff6-d817bf086e43"
      },
      "source": [
        "list_b.pop() #เป็นการดึงตัวที่เราเติมตัวสุดท้ายใน list ออกมา"
      ],
      "execution_count": null,
      "outputs": [
        {
          "output_type": "execute_result",
          "data": {
            "application/vnd.google.colaboratory.intrinsic+json": {
              "type": "string"
            },
            "text/plain": [
              "'u'"
            ]
          },
          "metadata": {
            "tags": []
          },
          "execution_count": 29
        }
      ]
    },
    {
      "cell_type": "code",
      "metadata": {
        "colab": {
          "base_uri": "https://localhost:8080/"
        },
        "id": "Z4mkGEhCctIJ",
        "outputId": "04190d95-f9ae-49fa-91e5-45fb08a0c139"
      },
      "source": [
        "list_b"
      ],
      "execution_count": null,
      "outputs": [
        {
          "output_type": "execute_result",
          "data": {
            "text/plain": [
              "[1, 5, 'v']"
            ]
          },
          "metadata": {
            "tags": []
          },
          "execution_count": 30
        }
      ]
    },
    {
      "cell_type": "code",
      "metadata": {
        "colab": {
          "base_uri": "https://localhost:8080/"
        },
        "id": "pvrWYi7scx6F",
        "outputId": "f89e4963-fbfd-4126-b522-9ac9bce8611e"
      },
      "source": [
        "list_b.append(list_a)\r\n",
        "list_b"
      ],
      "execution_count": null,
      "outputs": [
        {
          "output_type": "execute_result",
          "data": {
            "text/plain": [
              "[1, 5, 'v', []]"
            ]
          },
          "metadata": {
            "tags": []
          },
          "execution_count": 31
        }
      ]
    },
    {
      "cell_type": "markdown",
      "metadata": {
        "id": "g1QLA2RseCxX"
      },
      "source": [
        "####string >>> list of characetor"
      ]
    },
    {
      "cell_type": "code",
      "metadata": {
        "colab": {
          "base_uri": "https://localhost:8080/",
          "height": 35
        },
        "id": "FgbCfaQUdFEJ",
        "outputId": "b471bc7d-2d71-4a85-fd0d-b4de2f0cdd71"
      },
      "source": [
        "t = 'python is easy'\r\n",
        "t"
      ],
      "execution_count": null,
      "outputs": [
        {
          "output_type": "execute_result",
          "data": {
            "application/vnd.google.colaboratory.intrinsic+json": {
              "type": "string"
            },
            "text/plain": [
              "'python is easy'"
            ]
          },
          "metadata": {
            "tags": []
          },
          "execution_count": 32
        }
      ]
    },
    {
      "cell_type": "code",
      "metadata": {
        "colab": {
          "base_uri": "https://localhost:8080/"
        },
        "id": "W2LbvlqAdtJk",
        "outputId": "b1b8a814-15bc-4390-95e1-a44d1e8f285b"
      },
      "source": [
        "len(list_b) #len คือคำสั่งตรวจสอบความยาวของ list (จำนวนสมาชิก)"
      ],
      "execution_count": null,
      "outputs": [
        {
          "output_type": "execute_result",
          "data": {
            "text/plain": [
              "4"
            ]
          },
          "metadata": {
            "tags": []
          },
          "execution_count": 33
        }
      ]
    },
    {
      "cell_type": "code",
      "metadata": {
        "colab": {
          "base_uri": "https://localhost:8080/"
        },
        "id": "3xkCMcGfd4mT",
        "outputId": "8faedd31-14f4-4b12-ca38-a343e3a97d24"
      },
      "source": [
        "len(t)"
      ],
      "execution_count": null,
      "outputs": [
        {
          "output_type": "execute_result",
          "data": {
            "text/plain": [
              "14"
            ]
          },
          "metadata": {
            "tags": []
          },
          "execution_count": 34
        }
      ]
    },
    {
      "cell_type": "markdown",
      "metadata": {
        "id": "54m0wewMeIJ_"
      },
      "source": [
        "###access a member of list (list and string)\r\n",
        "\r\n",
        "โดยการเริ่ม"
      ]
    },
    {
      "cell_type": "code",
      "metadata": {
        "colab": {
          "base_uri": "https://localhost:8080/",
          "height": 35
        },
        "id": "bo1UZ_ZJerOJ",
        "outputId": "bc88837a-bb93-4476-91cd-ef428259c3be"
      },
      "source": [
        "t[1]"
      ],
      "execution_count": null,
      "outputs": [
        {
          "output_type": "execute_result",
          "data": {
            "application/vnd.google.colaboratory.intrinsic+json": {
              "type": "string"
            },
            "text/plain": [
              "'y'"
            ]
          },
          "metadata": {
            "tags": []
          },
          "execution_count": 35
        }
      ]
    },
    {
      "cell_type": "code",
      "metadata": {
        "colab": {
          "base_uri": "https://localhost:8080/",
          "height": 35
        },
        "id": "c3Pfe4skel1p",
        "outputId": "91cedaab-1570-4408-ac16-f6c92a4dc8c4"
      },
      "source": [
        "t[-1]"
      ],
      "execution_count": null,
      "outputs": [
        {
          "output_type": "execute_result",
          "data": {
            "application/vnd.google.colaboratory.intrinsic+json": {
              "type": "string"
            },
            "text/plain": [
              "'y'"
            ]
          },
          "metadata": {
            "tags": []
          },
          "execution_count": 36
        }
      ]
    },
    {
      "cell_type": "markdown",
      "metadata": {
        "id": "Pk_5VZkEe0IC"
      },
      "source": [
        "### ตัวที่อยู่ข้างใน [] เราจะเรียกว่า index (ตัวชี้)"
      ]
    },
    {
      "cell_type": "code",
      "metadata": {
        "colab": {
          "base_uri": "https://localhost:8080/",
          "height": 35
        },
        "id": "vdrOf4V0eyvy",
        "outputId": "d6302f00-ea17-4855-ad72-ad740630a395"
      },
      "source": [
        "t[-3]"
      ],
      "execution_count": null,
      "outputs": [
        {
          "output_type": "execute_result",
          "data": {
            "application/vnd.google.colaboratory.intrinsic+json": {
              "type": "string"
            },
            "text/plain": [
              "'a'"
            ]
          },
          "metadata": {
            "tags": []
          },
          "execution_count": 37
        }
      ]
    },
    {
      "cell_type": "markdown",
      "metadata": {
        "id": "-9-zMuAhfwLW"
      },
      "source": [
        "### List slicing สามารถทำได้โดยใช้ colon : [a:]->[a,b)"
      ]
    },
    {
      "cell_type": "code",
      "metadata": {
        "colab": {
          "base_uri": "https://localhost:8080/",
          "height": 52
        },
        "id": "YYOpEt9Xe-Kz",
        "outputId": "ac7582cd-f3e5-457e-c633-94042dd7bca0"
      },
      "source": [
        "print(t)\r\n",
        "t[7:9] #ข้างหน้า : คือตัวเริ่มต้น ข้างหลัง : คือตัวสุดท้าย "
      ],
      "execution_count": null,
      "outputs": [
        {
          "output_type": "stream",
          "text": [
            "python is easy\n"
          ],
          "name": "stdout"
        },
        {
          "output_type": "execute_result",
          "data": {
            "application/vnd.google.colaboratory.intrinsic+json": {
              "type": "string"
            },
            "text/plain": [
              "'is'"
            ]
          },
          "metadata": {
            "tags": []
          },
          "execution_count": 38
        }
      ]
    },
    {
      "cell_type": "markdown",
      "metadata": {
        "id": "vK2TFtLhhEDN"
      },
      "source": [
        "ถ้าเว้นว่างหน้า : หมายความว่า เริ่มตั้งแต่แรก\r\n",
        "\r\n",
        "ถ้าเว้นว่างหลัง : หมายความว่า ไปจนถึงตัวสุดท้าย"
      ]
    },
    {
      "cell_type": "code",
      "metadata": {
        "colab": {
          "base_uri": "https://localhost:8080/"
        },
        "id": "Rkyq9PnZgF5d",
        "outputId": "bd89d13a-120b-4464-da68-0712eeecbf9b"
      },
      "source": [
        "print(t)\r\n",
        "print(t[:6])\r\n",
        "print(t[10:])\r\n",
        "print(t[-4:])\r\n",
        "print(t[:])"
      ],
      "execution_count": null,
      "outputs": [
        {
          "output_type": "stream",
          "text": [
            "python is easy\n",
            "python\n",
            "easy\n",
            "easy\n",
            "python is easy\n"
          ],
          "name": "stdout"
        }
      ]
    },
    {
      "cell_type": "markdown",
      "metadata": {
        "id": "zwQeo-Eni1By"
      },
      "source": [
        "เราสามารถเรา list มาต่อกันได้ด้วย + "
      ]
    },
    {
      "cell_type": "code",
      "metadata": {
        "colab": {
          "base_uri": "https://localhost:8080/",
          "height": 35
        },
        "id": "fpY38d2jh0LJ",
        "outputId": "77d29d9f-30c0-4b1c-9530-b2523b2e8e69"
      },
      "source": [
        "t + '??'"
      ],
      "execution_count": null,
      "outputs": [
        {
          "output_type": "execute_result",
          "data": {
            "application/vnd.google.colaboratory.intrinsic+json": {
              "type": "string"
            },
            "text/plain": [
              "'python is easy??'"
            ]
          },
          "metadata": {
            "tags": []
          },
          "execution_count": 40
        }
      ]
    },
    {
      "cell_type": "code",
      "metadata": {
        "id": "be7pnx0ti7gY"
      },
      "source": [
        "t + list_b ##เราไม่สามารถนำ list ไปต่อกับ string ได้"
      ],
      "execution_count": null,
      "outputs": []
    },
    {
      "cell_type": "markdown",
      "metadata": {
        "id": "tct3VLZFjJHa"
      },
      "source": [
        "#### การแบ่ง string ตามสัญลักษณ์ที่กำหนด -> split string"
      ]
    },
    {
      "cell_type": "code",
      "metadata": {
        "colab": {
          "base_uri": "https://localhost:8080/"
        },
        "id": "FbAcHHEmjco6",
        "outputId": "bfb0b2e8-b808-4910-9a31-abb745aad4df"
      },
      "source": [
        "t.split(' ')"
      ],
      "execution_count": null,
      "outputs": [
        {
          "output_type": "execute_result",
          "data": {
            "text/plain": [
              "['python', 'is', 'easy']"
            ]
          },
          "metadata": {
            "tags": []
          },
          "execution_count": 41
        }
      ]
    },
    {
      "cell_type": "code",
      "metadata": {
        "id": "dO5aeP3Gjf1x"
      },
      "source": [
        "time = '12:30:15'"
      ],
      "execution_count": null,
      "outputs": []
    },
    {
      "cell_type": "code",
      "metadata": {
        "colab": {
          "base_uri": "https://localhost:8080/"
        },
        "id": "F69JSm50jjz3",
        "outputId": "259ea051-e3d4-4498-9940-07a2daeb801f"
      },
      "source": [
        "time.split(':')"
      ],
      "execution_count": null,
      "outputs": [
        {
          "output_type": "execute_result",
          "data": {
            "text/plain": [
              "['12', '30', '15']"
            ]
          },
          "metadata": {
            "tags": []
          },
          "execution_count": 43
        }
      ]
    },
    {
      "cell_type": "code",
      "metadata": {
        "id": "kaDvapj9kp6O",
        "colab": {
          "base_uri": "https://localhost:8080/"
        },
        "outputId": "93030d3a-6f86-4ff0-f06e-48118d7da738"
      },
      "source": [
        "t_sp = t.split(' ')\r\n",
        "print(t_sp) "
      ],
      "execution_count": null,
      "outputs": [
        {
          "output_type": "stream",
          "text": [
            "['python', 'is', 'easy']\n"
          ],
          "name": "stdout"
        }
      ]
    },
    {
      "cell_type": "markdown",
      "metadata": {
        "id": "UK1PDY3iG1Qd"
      },
      "source": [
        "#HW2 \r\n",
        "คำนวณเวลาให้เป็นวินาทีของเวลาต่อไปนี้ โดยใช้คำสั่ง Split() ช่วย\r\n",
        "\r\n",
        "12:30:15\r\n",
        "\r\n",
        "13:41:07\r\n",
        "\r\n",
        "12:53:15\r\n",
        "\r\n",
        "00:59:25\r\n",
        "\r\n",
        "11:11:11\r\n",
        "\r\n",
        "16:06:09"
      ]
    },
    {
      "cell_type": "code",
      "metadata": {
        "id": "mi0qv5adHmnM",
        "colab": {
          "base_uri": "https://localhost:8080/"
        },
        "outputId": "1a1ba96a-fb29-4441-c52b-501a99be996a"
      },
      "source": [
        "#ข้อที่ 1 >> 12:30:15\r\n",
        "t_1 = '12:30:15' #สร้างตัวแปล t_1 ให้เป็นเวลา 12:30:15\r\n",
        "list_t = t_1.split(':') #ทำการกำหนดตัวแปลชื่อ list_time ที่มีค่าในตัวแปลของ t_1 ถูกแบ่งด้วย : \r\n",
        "H = int(list_t[0])*3600 #ตั้งค่าว่าใน list_t ตัวที่ 0 คือชั่วโมง \r\n",
        "#ทำการสร้างตัวแปรชื่อ H ให้เป็นตัวแปลของ list_t เปลี่ยนชนิดตัวแปลเป็ฯ int เพื่อให้สามารถคูณกับ 3600 ได้ เพราะ 1 ชั่วโมงมี 3600 นาที\r\n",
        "M = int(list_t[1])*60  #ตั้งค่าว่าใน list_t ตัวที่ 1 คือนาที\r\n",
        "#ทำการสร้างตัวแปรชื่อ M ให้เป็นตัวแปลของ list_t เปลี่ยนชนิดตัวแปลเป็ฯ int เพื่อให้สามารถคูณกับ 60 ได้ เพราะ 1 นาทีมี 60 วินาที\r\n",
        "S = int(list_t[2])  #ตั้งค่าว่าใน list_t ตัวที่ 2 คือวินาที\r\n",
        "#ตัวแปรนี้ไม่ต้องคูรค่าอะไรเนื่องจากมีค่าเป็นวินาที่อยู่แล้ว เปลี่ยนแค่ชนิดตัวแปลให้เป็น int \r\n",
        "\r\n",
        "#จากนั้นทำการเขียนคำสั่งปริ้นจัดเรียงค่าที่ได้ ว่าเปลี่ยนเวลา 12:30:15 เป็นกี่วินาที โดยนำตัวแปร H M S มาบวกกัน\r\n",
        "print(f'เวลา 12:30:15 เมื่อนำมาหาค่าให้เป็นวินาทีแล้ว จะมีค่าเท่ากับ {H+M+S} วินาที') "
      ],
      "execution_count": 52,
      "outputs": [
        {
          "output_type": "stream",
          "text": [
            "เวลา 12:30:15 เมื่อนำมาหาค่าให้เป็นวินาทีแล้ว จะมีค่าเท่ากับ 45015 วินาที\n"
          ],
          "name": "stdout"
        }
      ]
    },
    {
      "cell_type": "markdown",
      "metadata": {
        "id": "eNf7IE12Qoyv"
      },
      "source": [
        "เพื่อให้ง่ายต่อการคำนวณข้อต่อๆไป เราจะทำการใช้   'def'   เพื่อเป็นการเก็บโค้ดที่เขียนไปแล้วเก็บไว้ใน function แล้วนำมาเรียกใช้ใหม่ \r\n",
        "\r\n"
      ]
    },
    {
      "cell_type": "code",
      "metadata": {
        "id": "n1QMNOCvNtbx"
      },
      "source": [
        "def Time_total(t) :  # !! เตือนความจำตอนใช้ def ต้องใส่ : ก่อนพิมโค้ดคำสั่ง\r\n",
        "    list_time = t.split(':')\r\n",
        "    hour_time = int(list_time[0])*3600\r\n",
        "    minute_time = int(list_time[1])*60\r\n",
        "    second_time = int(list_time[2])\r\n",
        "    Time_total = f'เวลา {t} เมื่อนำมาหาค่าให้เป็นวินาทีแล้ว จะมีค่าเท่ากับ {hour_time+minute_time+second_time} วินาที'\r\n",
        "    print(Time_total) #! เตือนต้องมีคำสั่งในฟังค์ชั่นด้วย ไม่อย่างนั้นเมื่อตอนนำ fuction ไปใช้ค่าที่คำนวณจะไม่ขึ้น"
      ],
      "execution_count": null,
      "outputs": []
    },
    {
      "cell_type": "code",
      "metadata": {
        "id": "Pl7Gdyj2Sh99",
        "colab": {
          "base_uri": "https://localhost:8080/"
        },
        "outputId": "9b669b5c-682c-483f-fb0f-f10cf1c188c1"
      },
      "source": [
        "#ลองเรียก fuction ที่สร้างมาดู \r\n",
        "print(Time_total)"
      ],
      "execution_count": null,
      "outputs": [
        {
          "output_type": "stream",
          "text": [
            "<function Time_total at 0x7f5d6d892950>\n"
          ],
          "name": "stdout"
        }
      ]
    },
    {
      "cell_type": "markdown",
      "metadata": {
        "id": "atOUq2tDSuZN"
      },
      "source": [
        "ทำการนำ fuction ที่สร้างไปคำนวณหาคำตอบข้อที่เหลือ"
      ]
    },
    {
      "cell_type": "code",
      "metadata": {
        "id": "4pd33pu9Sr0d",
        "colab": {
          "base_uri": "https://localhost:8080/"
        },
        "outputId": "3af346f4-e443-4475-f370-e63cf7e8bb97"
      },
      "source": [
        "#ข้อที่ 2 >> 13:41:07\r\n",
        "Time_total('13:41:07')\r\n",
        "#ข้อที่ 3 >> 12:53:15\r\n",
        "Time_total('12:53:15')\r\n",
        "#ข้อที่ 4 >> 00:59:25\r\n",
        "Time_total('00:59:25')\r\n",
        "#ข้อที่ 5 >> 11:11:11\r\n",
        "Time_total('11:11:11')\r\n",
        "#ข้อที่ 6 >> 16:06:09\r\n",
        "Time_total('16:06:09')"
      ],
      "execution_count": null,
      "outputs": [
        {
          "output_type": "stream",
          "text": [
            "เวลา 13:41:07 เมื่อนำมาหาค่าให้เป็นวินาทีแล้ว จะมีค่าเท่ากับ 49267 วินาที\n",
            "เวลา 12:53:15 เมื่อนำมาหาค่าให้เป็นวินาทีแล้ว จะมีค่าเท่ากับ 46395 วินาที\n",
            "เวลา 00:59:25 เมื่อนำมาหาค่าให้เป็นวินาทีแล้ว จะมีค่าเท่ากับ 3565 วินาที\n",
            "เวลา 11:11:11 เมื่อนำมาหาค่าให้เป็นวินาทีแล้ว จะมีค่าเท่ากับ 40271 วินาที\n",
            "เวลา 16:06:09 เมื่อนำมาหาค่าให้เป็นวินาทีแล้ว จะมีค่าเท่ากับ 57969 วินาที\n"
          ],
          "name": "stdout"
        }
      ]
    }
  ]
}

## เซฟไฟล์ใหม่เพราะว่าในคาบนึกว่าพิมพ์โค้ดต่อจากไฟล์เดิม และมีการ้านบางตัวที่พิมคำอธิบายเพิ่ม 
